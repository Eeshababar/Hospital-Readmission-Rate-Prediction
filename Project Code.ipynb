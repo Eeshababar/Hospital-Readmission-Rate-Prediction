{
  "cells": [
    {
      "cell_type": "code",
      "execution_count": null,
      "metadata": {
        "colab": {
          "base_uri": "https://localhost:8080/"
        },
        "id": "KDFOsau090AN",
        "outputId": "ae236f80-0958-472c-efed-bff3d1e89da0"
      },
      "outputs": [
        {
          "output_type": "stream",
          "name": "stdout",
          "text": [
            "Drive already mounted at /content/drive; to attempt to forcibly remount, call drive.mount(\"/content/drive\", force_remount=True).\n"
          ]
        }
      ],
      "source": [
        "from google.colab import drive\n",
        "drive.mount('/content/drive')"
      ]
    },
    {
      "cell_type": "code",
      "source": [
        "import sys\n",
        "sys.path.append('/content/drive/MyDrive/HW5')\n",
        "import mltools as ml"
      ],
      "metadata": {
        "id": "jBRtF5BEFrtO"
      },
      "execution_count": null,
      "outputs": []
    },
    {
      "cell_type": "code",
      "execution_count": null,
      "metadata": {
        "id": "YAe4h95p-G0F"
      },
      "outputs": [],
      "source": [
        "import numpy as np\n",
        "import os\n",
        "import pandas as pd\n",
        "import matplotlib.pyplot as plt\n",
        "from sklearn.metrics import accuracy_score, roc_auc_score\n",
        "from sklearn.preprocessing import OneHotEncoder\n",
        "import sys\n",
        "sys.path.append('/content/drive/MyDrive/HW5/mltools')\n",
        "import seaborn as sns\n",
        "from collections import Counter"
      ]
    },
    {
      "cell_type": "code",
      "execution_count": null,
      "metadata": {
        "id": "DNHh6TcP-Vqj"
      },
      "outputs": [],
      "source": [
        "pd.set_option('display.max_columns', None)\n",
        "pd.set_option('display.max_rows', None)\n"
      ]
    },
    {
      "cell_type": "code",
      "execution_count": null,
      "metadata": {
        "id": "acfeGhOo_YUK"
      },
      "outputs": [],
      "source": [
        "directory = os.path.join(os.getcwd(), 'dataset_diabetes')\n",
        "df = pd.read_csv(os.path.join(directory, '/content/diabetic_dataupdated2.csv'))\n"
      ]
    },
    {
      "cell_type": "markdown",
      "source": [
        "#Statistical Analysis\n"
      ],
      "metadata": {
        "id": "rentps87xFOp"
      }
    },
    {
      "cell_type": "code",
      "execution_count": null,
      "metadata": {
        "colab": {
          "base_uri": "https://localhost:8080/"
        },
        "id": "7NvpeFaC-YZ1",
        "outputId": "0c8dae08-09d8-4d1f-9148-75fdffb29bf8"
      },
      "outputs": [
        {
          "output_type": "execute_result",
          "data": {
            "text/plain": [
              "Index(['encounter_id', 'patient_nbr', 'race', 'gender', 'age', 'weight',\n",
              "       'admission_type_id', 'discharge_disposition_id', 'admission_source_id',\n",
              "       'time_in_hospital', 'payer_code', 'medical_specialty',\n",
              "       'num_lab_procedures', 'num_procedures', 'num_medications',\n",
              "       'number_outpatient', 'number_emergency', 'number_inpatient', 'diag_1',\n",
              "       'diag_2', 'diag_3', 'number_diagnoses', 'max_glu_serum', 'A1Cresult',\n",
              "       'metformin', 'repaglinide', 'nateglinide', 'chlorpropamide',\n",
              "       'glimepiride', 'acetohexamide', 'glipizide', 'glyburide', 'tolbutamide',\n",
              "       'pioglitazone', 'rosiglitazone', 'acarbose', 'miglitol', 'troglitazone',\n",
              "       'tolazamide', 'examide', 'citoglipton', 'insulin',\n",
              "       'glyburide-metformin', 'glipizide-metformin',\n",
              "       'glimepiride-pioglitazone', 'metformin-rosiglitazone',\n",
              "       'metformin-pioglitazone', 'change', 'diabetesMed', 'readmitted'],\n",
              "      dtype='object')"
            ]
          },
          "metadata": {},
          "execution_count": 135
        }
      ],
      "source": [
        "df.columns\n"
      ]
    },
    {
      "cell_type": "code",
      "execution_count": null,
      "metadata": {
        "colab": {
          "base_uri": "https://localhost:8080/",
          "height": 374
        },
        "id": "jU6ZQSyX_W4t",
        "outputId": "6b36f1d9-9e94-4feb-cbf1-6e3f54ee84ba"
      },
      "outputs": [
        {
          "output_type": "execute_result",
          "data": {
            "text/plain": [
              "   encounter_id  patient_nbr race  gender      age weight  admission_type_id  \\\n",
              "0       2278392      8222157   Cu  Female   [0-10)      ?                  6   \n",
              "1        149190     55629189   Cu  Female  [10-20)      ?                  1   \n",
              "2         64410     86047875  AfA  Female  [20-30)      ?                  1   \n",
              "3        500364     82442376   Cu    Male  [30-40)      ?                  1   \n",
              "4         16680     42519267   Cu    Male  [40-50)      ?                  1   \n",
              "\n",
              "   discharge_disposition_id  admission_source_id  time_in_hospital payer_code  \\\n",
              "0                        25                    1                 1          ?   \n",
              "1                         1                    7                 3          ?   \n",
              "2                         1                    7                 2          ?   \n",
              "3                         1                    7                 2          ?   \n",
              "4                         1                    7                 1          ?   \n",
              "\n",
              "          medical_specialty  num_lab_procedures  num_procedures  \\\n",
              "0  Pediatrics-Endocrinology                  41               0   \n",
              "1                         ?                  59               0   \n",
              "2                         ?                  11               5   \n",
              "3                         ?                  44               1   \n",
              "4                         ?                  51               0   \n",
              "\n",
              "   num_medications  number_outpatient  number_emergency  number_inpatient  \\\n",
              "0                1                  0                 0                 0   \n",
              "1               18                  0                 0                 0   \n",
              "2               13                  2                 0                 1   \n",
              "3               16                  0                 0                 0   \n",
              "4                8                  0                 0                 0   \n",
              "\n",
              "   diag_1  diag_2 diag_3  number_diagnoses max_glu_serum A1Cresult metformin  \\\n",
              "0  250.83       ?      ?                 1          None      None        No   \n",
              "1     276  250.01    255                 9          None      None        No   \n",
              "2     648     250    V27                 6          None      None        No   \n",
              "3       8  250.43    403                 7          None      None        No   \n",
              "4     197     157    250                 5          None      None        No   \n",
              "\n",
              "  repaglinide nateglinide chlorpropamide glimepiride acetohexamide glipizide  \\\n",
              "0          No          No             No          No            No        No   \n",
              "1          No          No             No          No            No        No   \n",
              "2          No          No             No          No            No    Steady   \n",
              "3          No          No             No          No            No        No   \n",
              "4          No          No             No          No            No    Steady   \n",
              "\n",
              "  glyburide tolbutamide pioglitazone rosiglitazone acarbose miglitol  \\\n",
              "0        No          No           No            No       No       No   \n",
              "1        No          No           No            No       No       No   \n",
              "2        No          No           No            No       No       No   \n",
              "3        No          No           No            No       No       No   \n",
              "4        No          No           No            No       No       No   \n",
              "\n",
              "  troglitazone tolazamide examide citoglipton insulin glyburide-metformin  \\\n",
              "0           No         No      No          No      No                  No   \n",
              "1           No         No      No          No      Up                  No   \n",
              "2           No         No      No          No      No                  No   \n",
              "3           No         No      No          No      Up                  No   \n",
              "4           No         No      No          No  Steady                  No   \n",
              "\n",
              "  glipizide-metformin glimepiride-pioglitazone metformin-rosiglitazone  \\\n",
              "0                  No                       No                      No   \n",
              "1                  No                       No                      No   \n",
              "2                  No                       No                      No   \n",
              "3                  No                       No                      No   \n",
              "4                  No                       No                      No   \n",
              "\n",
              "  metformin-pioglitazone change diabetesMed readmitted  \n",
              "0                     No     No          No         NO  \n",
              "1                     No     Ch         Yes        >30  \n",
              "2                     No     No         Yes         NO  \n",
              "3                     No     Ch         Yes         NO  \n",
              "4                     No     Ch         Yes         NO  "
            ],
            "text/html": [
              "\n",
              "  <div id=\"df-448bb1e8-90c4-4ecb-bb8f-e47cf1d22cb9\">\n",
              "    <div class=\"colab-df-container\">\n",
              "      <div>\n",
              "<style scoped>\n",
              "    .dataframe tbody tr th:only-of-type {\n",
              "        vertical-align: middle;\n",
              "    }\n",
              "\n",
              "    .dataframe tbody tr th {\n",
              "        vertical-align: top;\n",
              "    }\n",
              "\n",
              "    .dataframe thead th {\n",
              "        text-align: right;\n",
              "    }\n",
              "</style>\n",
              "<table border=\"1\" class=\"dataframe\">\n",
              "  <thead>\n",
              "    <tr style=\"text-align: right;\">\n",
              "      <th></th>\n",
              "      <th>encounter_id</th>\n",
              "      <th>patient_nbr</th>\n",
              "      <th>race</th>\n",
              "      <th>gender</th>\n",
              "      <th>age</th>\n",
              "      <th>weight</th>\n",
              "      <th>admission_type_id</th>\n",
              "      <th>discharge_disposition_id</th>\n",
              "      <th>admission_source_id</th>\n",
              "      <th>time_in_hospital</th>\n",
              "      <th>payer_code</th>\n",
              "      <th>medical_specialty</th>\n",
              "      <th>num_lab_procedures</th>\n",
              "      <th>num_procedures</th>\n",
              "      <th>num_medications</th>\n",
              "      <th>number_outpatient</th>\n",
              "      <th>number_emergency</th>\n",
              "      <th>number_inpatient</th>\n",
              "      <th>diag_1</th>\n",
              "      <th>diag_2</th>\n",
              "      <th>diag_3</th>\n",
              "      <th>number_diagnoses</th>\n",
              "      <th>max_glu_serum</th>\n",
              "      <th>A1Cresult</th>\n",
              "      <th>metformin</th>\n",
              "      <th>repaglinide</th>\n",
              "      <th>nateglinide</th>\n",
              "      <th>chlorpropamide</th>\n",
              "      <th>glimepiride</th>\n",
              "      <th>acetohexamide</th>\n",
              "      <th>glipizide</th>\n",
              "      <th>glyburide</th>\n",
              "      <th>tolbutamide</th>\n",
              "      <th>pioglitazone</th>\n",
              "      <th>rosiglitazone</th>\n",
              "      <th>acarbose</th>\n",
              "      <th>miglitol</th>\n",
              "      <th>troglitazone</th>\n",
              "      <th>tolazamide</th>\n",
              "      <th>examide</th>\n",
              "      <th>citoglipton</th>\n",
              "      <th>insulin</th>\n",
              "      <th>glyburide-metformin</th>\n",
              "      <th>glipizide-metformin</th>\n",
              "      <th>glimepiride-pioglitazone</th>\n",
              "      <th>metformin-rosiglitazone</th>\n",
              "      <th>metformin-pioglitazone</th>\n",
              "      <th>change</th>\n",
              "      <th>diabetesMed</th>\n",
              "      <th>readmitted</th>\n",
              "    </tr>\n",
              "  </thead>\n",
              "  <tbody>\n",
              "    <tr>\n",
              "      <th>0</th>\n",
              "      <td>2278392</td>\n",
              "      <td>8222157</td>\n",
              "      <td>Cu</td>\n",
              "      <td>Female</td>\n",
              "      <td>[0-10)</td>\n",
              "      <td>?</td>\n",
              "      <td>6</td>\n",
              "      <td>25</td>\n",
              "      <td>1</td>\n",
              "      <td>1</td>\n",
              "      <td>?</td>\n",
              "      <td>Pediatrics-Endocrinology</td>\n",
              "      <td>41</td>\n",
              "      <td>0</td>\n",
              "      <td>1</td>\n",
              "      <td>0</td>\n",
              "      <td>0</td>\n",
              "      <td>0</td>\n",
              "      <td>250.83</td>\n",
              "      <td>?</td>\n",
              "      <td>?</td>\n",
              "      <td>1</td>\n",
              "      <td>None</td>\n",
              "      <td>None</td>\n",
              "      <td>No</td>\n",
              "      <td>No</td>\n",
              "      <td>No</td>\n",
              "      <td>No</td>\n",
              "      <td>No</td>\n",
              "      <td>No</td>\n",
              "      <td>No</td>\n",
              "      <td>No</td>\n",
              "      <td>No</td>\n",
              "      <td>No</td>\n",
              "      <td>No</td>\n",
              "      <td>No</td>\n",
              "      <td>No</td>\n",
              "      <td>No</td>\n",
              "      <td>No</td>\n",
              "      <td>No</td>\n",
              "      <td>No</td>\n",
              "      <td>No</td>\n",
              "      <td>No</td>\n",
              "      <td>No</td>\n",
              "      <td>No</td>\n",
              "      <td>No</td>\n",
              "      <td>No</td>\n",
              "      <td>No</td>\n",
              "      <td>No</td>\n",
              "      <td>NO</td>\n",
              "    </tr>\n",
              "    <tr>\n",
              "      <th>1</th>\n",
              "      <td>149190</td>\n",
              "      <td>55629189</td>\n",
              "      <td>Cu</td>\n",
              "      <td>Female</td>\n",
              "      <td>[10-20)</td>\n",
              "      <td>?</td>\n",
              "      <td>1</td>\n",
              "      <td>1</td>\n",
              "      <td>7</td>\n",
              "      <td>3</td>\n",
              "      <td>?</td>\n",
              "      <td>?</td>\n",
              "      <td>59</td>\n",
              "      <td>0</td>\n",
              "      <td>18</td>\n",
              "      <td>0</td>\n",
              "      <td>0</td>\n",
              "      <td>0</td>\n",
              "      <td>276</td>\n",
              "      <td>250.01</td>\n",
              "      <td>255</td>\n",
              "      <td>9</td>\n",
              "      <td>None</td>\n",
              "      <td>None</td>\n",
              "      <td>No</td>\n",
              "      <td>No</td>\n",
              "      <td>No</td>\n",
              "      <td>No</td>\n",
              "      <td>No</td>\n",
              "      <td>No</td>\n",
              "      <td>No</td>\n",
              "      <td>No</td>\n",
              "      <td>No</td>\n",
              "      <td>No</td>\n",
              "      <td>No</td>\n",
              "      <td>No</td>\n",
              "      <td>No</td>\n",
              "      <td>No</td>\n",
              "      <td>No</td>\n",
              "      <td>No</td>\n",
              "      <td>No</td>\n",
              "      <td>Up</td>\n",
              "      <td>No</td>\n",
              "      <td>No</td>\n",
              "      <td>No</td>\n",
              "      <td>No</td>\n",
              "      <td>No</td>\n",
              "      <td>Ch</td>\n",
              "      <td>Yes</td>\n",
              "      <td>&gt;30</td>\n",
              "    </tr>\n",
              "    <tr>\n",
              "      <th>2</th>\n",
              "      <td>64410</td>\n",
              "      <td>86047875</td>\n",
              "      <td>AfA</td>\n",
              "      <td>Female</td>\n",
              "      <td>[20-30)</td>\n",
              "      <td>?</td>\n",
              "      <td>1</td>\n",
              "      <td>1</td>\n",
              "      <td>7</td>\n",
              "      <td>2</td>\n",
              "      <td>?</td>\n",
              "      <td>?</td>\n",
              "      <td>11</td>\n",
              "      <td>5</td>\n",
              "      <td>13</td>\n",
              "      <td>2</td>\n",
              "      <td>0</td>\n",
              "      <td>1</td>\n",
              "      <td>648</td>\n",
              "      <td>250</td>\n",
              "      <td>V27</td>\n",
              "      <td>6</td>\n",
              "      <td>None</td>\n",
              "      <td>None</td>\n",
              "      <td>No</td>\n",
              "      <td>No</td>\n",
              "      <td>No</td>\n",
              "      <td>No</td>\n",
              "      <td>No</td>\n",
              "      <td>No</td>\n",
              "      <td>Steady</td>\n",
              "      <td>No</td>\n",
              "      <td>No</td>\n",
              "      <td>No</td>\n",
              "      <td>No</td>\n",
              "      <td>No</td>\n",
              "      <td>No</td>\n",
              "      <td>No</td>\n",
              "      <td>No</td>\n",
              "      <td>No</td>\n",
              "      <td>No</td>\n",
              "      <td>No</td>\n",
              "      <td>No</td>\n",
              "      <td>No</td>\n",
              "      <td>No</td>\n",
              "      <td>No</td>\n",
              "      <td>No</td>\n",
              "      <td>No</td>\n",
              "      <td>Yes</td>\n",
              "      <td>NO</td>\n",
              "    </tr>\n",
              "    <tr>\n",
              "      <th>3</th>\n",
              "      <td>500364</td>\n",
              "      <td>82442376</td>\n",
              "      <td>Cu</td>\n",
              "      <td>Male</td>\n",
              "      <td>[30-40)</td>\n",
              "      <td>?</td>\n",
              "      <td>1</td>\n",
              "      <td>1</td>\n",
              "      <td>7</td>\n",
              "      <td>2</td>\n",
              "      <td>?</td>\n",
              "      <td>?</td>\n",
              "      <td>44</td>\n",
              "      <td>1</td>\n",
              "      <td>16</td>\n",
              "      <td>0</td>\n",
              "      <td>0</td>\n",
              "      <td>0</td>\n",
              "      <td>8</td>\n",
              "      <td>250.43</td>\n",
              "      <td>403</td>\n",
              "      <td>7</td>\n",
              "      <td>None</td>\n",
              "      <td>None</td>\n",
              "      <td>No</td>\n",
              "      <td>No</td>\n",
              "      <td>No</td>\n",
              "      <td>No</td>\n",
              "      <td>No</td>\n",
              "      <td>No</td>\n",
              "      <td>No</td>\n",
              "      <td>No</td>\n",
              "      <td>No</td>\n",
              "      <td>No</td>\n",
              "      <td>No</td>\n",
              "      <td>No</td>\n",
              "      <td>No</td>\n",
              "      <td>No</td>\n",
              "      <td>No</td>\n",
              "      <td>No</td>\n",
              "      <td>No</td>\n",
              "      <td>Up</td>\n",
              "      <td>No</td>\n",
              "      <td>No</td>\n",
              "      <td>No</td>\n",
              "      <td>No</td>\n",
              "      <td>No</td>\n",
              "      <td>Ch</td>\n",
              "      <td>Yes</td>\n",
              "      <td>NO</td>\n",
              "    </tr>\n",
              "    <tr>\n",
              "      <th>4</th>\n",
              "      <td>16680</td>\n",
              "      <td>42519267</td>\n",
              "      <td>Cu</td>\n",
              "      <td>Male</td>\n",
              "      <td>[40-50)</td>\n",
              "      <td>?</td>\n",
              "      <td>1</td>\n",
              "      <td>1</td>\n",
              "      <td>7</td>\n",
              "      <td>1</td>\n",
              "      <td>?</td>\n",
              "      <td>?</td>\n",
              "      <td>51</td>\n",
              "      <td>0</td>\n",
              "      <td>8</td>\n",
              "      <td>0</td>\n",
              "      <td>0</td>\n",
              "      <td>0</td>\n",
              "      <td>197</td>\n",
              "      <td>157</td>\n",
              "      <td>250</td>\n",
              "      <td>5</td>\n",
              "      <td>None</td>\n",
              "      <td>None</td>\n",
              "      <td>No</td>\n",
              "      <td>No</td>\n",
              "      <td>No</td>\n",
              "      <td>No</td>\n",
              "      <td>No</td>\n",
              "      <td>No</td>\n",
              "      <td>Steady</td>\n",
              "      <td>No</td>\n",
              "      <td>No</td>\n",
              "      <td>No</td>\n",
              "      <td>No</td>\n",
              "      <td>No</td>\n",
              "      <td>No</td>\n",
              "      <td>No</td>\n",
              "      <td>No</td>\n",
              "      <td>No</td>\n",
              "      <td>No</td>\n",
              "      <td>Steady</td>\n",
              "      <td>No</td>\n",
              "      <td>No</td>\n",
              "      <td>No</td>\n",
              "      <td>No</td>\n",
              "      <td>No</td>\n",
              "      <td>Ch</td>\n",
              "      <td>Yes</td>\n",
              "      <td>NO</td>\n",
              "    </tr>\n",
              "  </tbody>\n",
              "</table>\n",
              "</div>\n",
              "      <button class=\"colab-df-convert\" onclick=\"convertToInteractive('df-448bb1e8-90c4-4ecb-bb8f-e47cf1d22cb9')\"\n",
              "              title=\"Convert this dataframe to an interactive table.\"\n",
              "              style=\"display:none;\">\n",
              "        \n",
              "  <svg xmlns=\"http://www.w3.org/2000/svg\" height=\"24px\"viewBox=\"0 0 24 24\"\n",
              "       width=\"24px\">\n",
              "    <path d=\"M0 0h24v24H0V0z\" fill=\"none\"/>\n",
              "    <path d=\"M18.56 5.44l.94 2.06.94-2.06 2.06-.94-2.06-.94-.94-2.06-.94 2.06-2.06.94zm-11 1L8.5 8.5l.94-2.06 2.06-.94-2.06-.94L8.5 2.5l-.94 2.06-2.06.94zm10 10l.94 2.06.94-2.06 2.06-.94-2.06-.94-.94-2.06-.94 2.06-2.06.94z\"/><path d=\"M17.41 7.96l-1.37-1.37c-.4-.4-.92-.59-1.43-.59-.52 0-1.04.2-1.43.59L10.3 9.45l-7.72 7.72c-.78.78-.78 2.05 0 2.83L4 21.41c.39.39.9.59 1.41.59.51 0 1.02-.2 1.41-.59l7.78-7.78 2.81-2.81c.8-.78.8-2.07 0-2.86zM5.41 20L4 18.59l7.72-7.72 1.47 1.35L5.41 20z\"/>\n",
              "  </svg>\n",
              "      </button>\n",
              "      \n",
              "  <style>\n",
              "    .colab-df-container {\n",
              "      display:flex;\n",
              "      flex-wrap:wrap;\n",
              "      gap: 12px;\n",
              "    }\n",
              "\n",
              "    .colab-df-convert {\n",
              "      background-color: #E8F0FE;\n",
              "      border: none;\n",
              "      border-radius: 50%;\n",
              "      cursor: pointer;\n",
              "      display: none;\n",
              "      fill: #1967D2;\n",
              "      height: 32px;\n",
              "      padding: 0 0 0 0;\n",
              "      width: 32px;\n",
              "    }\n",
              "\n",
              "    .colab-df-convert:hover {\n",
              "      background-color: #E2EBFA;\n",
              "      box-shadow: 0px 1px 2px rgba(60, 64, 67, 0.3), 0px 1px 3px 1px rgba(60, 64, 67, 0.15);\n",
              "      fill: #174EA6;\n",
              "    }\n",
              "\n",
              "    [theme=dark] .colab-df-convert {\n",
              "      background-color: #3B4455;\n",
              "      fill: #D2E3FC;\n",
              "    }\n",
              "\n",
              "    [theme=dark] .colab-df-convert:hover {\n",
              "      background-color: #434B5C;\n",
              "      box-shadow: 0px 1px 3px 1px rgba(0, 0, 0, 0.15);\n",
              "      filter: drop-shadow(0px 1px 2px rgba(0, 0, 0, 0.3));\n",
              "      fill: #FFFFFF;\n",
              "    }\n",
              "  </style>\n",
              "\n",
              "      <script>\n",
              "        const buttonEl =\n",
              "          document.querySelector('#df-448bb1e8-90c4-4ecb-bb8f-e47cf1d22cb9 button.colab-df-convert');\n",
              "        buttonEl.style.display =\n",
              "          google.colab.kernel.accessAllowed ? 'block' : 'none';\n",
              "\n",
              "        async function convertToInteractive(key) {\n",
              "          const element = document.querySelector('#df-448bb1e8-90c4-4ecb-bb8f-e47cf1d22cb9');\n",
              "          const dataTable =\n",
              "            await google.colab.kernel.invokeFunction('convertToInteractive',\n",
              "                                                     [key], {});\n",
              "          if (!dataTable) return;\n",
              "\n",
              "          const docLinkHtml = 'Like what you see? Visit the ' +\n",
              "            '<a target=\"_blank\" href=https://colab.research.google.com/notebooks/data_table.ipynb>data table notebook</a>'\n",
              "            + ' to learn more about interactive tables.';\n",
              "          element.innerHTML = '';\n",
              "          dataTable['output_type'] = 'display_data';\n",
              "          await google.colab.output.renderOutput(dataTable, element);\n",
              "          const docLink = document.createElement('div');\n",
              "          docLink.innerHTML = docLinkHtml;\n",
              "          element.appendChild(docLink);\n",
              "        }\n",
              "      </script>\n",
              "    </div>\n",
              "  </div>\n",
              "  "
            ]
          },
          "metadata": {},
          "execution_count": 136
        }
      ],
      "source": [
        "df.head()\n"
      ]
    },
    {
      "cell_type": "code",
      "execution_count": null,
      "metadata": {
        "colab": {
          "base_uri": "https://localhost:8080/"
        },
        "id": "JSuYCKTD_6wo",
        "outputId": "73427a54-1388-4e5c-a698-f2a1094a02e3"
      },
      "outputs": [
        {
          "output_type": "stream",
          "name": "stdout",
          "text": [
            "<class 'pandas.core.frame.DataFrame'>\n",
            "RangeIndex: 101766 entries, 0 to 101765\n",
            "Data columns (total 50 columns):\n",
            " #   Column                    Non-Null Count   Dtype \n",
            "---  ------                    --------------   ----- \n",
            " 0   encounter_id              101766 non-null  int64 \n",
            " 1   patient_nbr               101766 non-null  int64 \n",
            " 2   race                      101766 non-null  object\n",
            " 3   gender                    101766 non-null  object\n",
            " 4   age                       101766 non-null  object\n",
            " 5   weight                    101766 non-null  object\n",
            " 6   admission_type_id         101766 non-null  int64 \n",
            " 7   discharge_disposition_id  101766 non-null  int64 \n",
            " 8   admission_source_id       101766 non-null  int64 \n",
            " 9   time_in_hospital          101766 non-null  object\n",
            " 10  payer_code                101766 non-null  object\n",
            " 11  medical_specialty         101766 non-null  object\n",
            " 12  num_lab_procedures        101766 non-null  int64 \n",
            " 13  num_procedures            101766 non-null  int64 \n",
            " 14  num_medications           101766 non-null  int64 \n",
            " 15  number_outpatient         101766 non-null  int64 \n",
            " 16  number_emergency          101766 non-null  int64 \n",
            " 17  number_inpatient          101766 non-null  int64 \n",
            " 18  diag_1                    101766 non-null  object\n",
            " 19  diag_2                    101766 non-null  object\n",
            " 20  diag_3                    101766 non-null  object\n",
            " 21  number_diagnoses          101766 non-null  int64 \n",
            " 22  max_glu_serum             101766 non-null  object\n",
            " 23  A1Cresult                 101766 non-null  object\n",
            " 24  metformin                 101766 non-null  object\n",
            " 25  repaglinide               101766 non-null  object\n",
            " 26  nateglinide               101766 non-null  object\n",
            " 27  chlorpropamide            101766 non-null  object\n",
            " 28  glimepiride               101766 non-null  object\n",
            " 29  acetohexamide             101766 non-null  object\n",
            " 30  glipizide                 101766 non-null  object\n",
            " 31  glyburide                 101766 non-null  object\n",
            " 32  tolbutamide               101766 non-null  object\n",
            " 33  pioglitazone              101766 non-null  object\n",
            " 34  rosiglitazone             101766 non-null  object\n",
            " 35  acarbose                  101766 non-null  object\n",
            " 36  miglitol                  101766 non-null  object\n",
            " 37  troglitazone              101766 non-null  object\n",
            " 38  tolazamide                101766 non-null  object\n",
            " 39  examide                   101766 non-null  object\n",
            " 40  citoglipton               101766 non-null  object\n",
            " 41  insulin                   101766 non-null  object\n",
            " 42  glyburide-metformin       101766 non-null  object\n",
            " 43  glipizide-metformin       101766 non-null  object\n",
            " 44  glimepiride-pioglitazone  101766 non-null  object\n",
            " 45  metformin-rosiglitazone   101766 non-null  object\n",
            " 46  metformin-pioglitazone    101766 non-null  object\n",
            " 47  change                    101766 non-null  object\n",
            " 48  diabetesMed               101766 non-null  object\n",
            " 49  readmitted                101766 non-null  object\n",
            "dtypes: int64(12), object(38)\n",
            "memory usage: 38.8+ MB\n"
          ]
        }
      ],
      "source": [
        "df.info()"
      ]
    },
    {
      "cell_type": "code",
      "execution_count": null,
      "metadata": {
        "colab": {
          "base_uri": "https://localhost:8080/"
        },
        "id": "G9g_1EJZADtI",
        "outputId": "f7839ad9-476f-4e8f-94e2-0e27bd99a59c"
      },
      "outputs": [
        {
          "output_type": "stream",
          "name": "stdout",
          "text": [
            "       encounter_id   patient_nbr  admission_type_id  \\\n",
            "count  1.017660e+05  1.017660e+05      101766.000000   \n",
            "mean   1.652016e+08  5.433040e+07           2.024006   \n",
            "std    1.026403e+08  3.869636e+07           1.445403   \n",
            "min    1.252200e+04  1.350000e+02           1.000000   \n",
            "25%    8.496119e+07  2.341322e+07           1.000000   \n",
            "50%    1.523890e+08  4.550514e+07           1.000000   \n",
            "75%    2.302709e+08  8.754595e+07           3.000000   \n",
            "max    4.438672e+08  1.895026e+08           8.000000   \n",
            "\n",
            "       discharge_disposition_id  admission_source_id  time_in_hospital  \\\n",
            "count             101766.000000        101766.000000     101766.000000   \n",
            "mean                   3.715642             5.754437          4.395987   \n",
            "std                    5.280166             4.064081          2.985108   \n",
            "min                    1.000000             1.000000          1.000000   \n",
            "25%                    1.000000             1.000000          2.000000   \n",
            "50%                    1.000000             7.000000          4.000000   \n",
            "75%                    4.000000             7.000000          6.000000   \n",
            "max                   28.000000            25.000000         14.000000   \n",
            "\n",
            "       num_lab_procedures  num_procedures  num_medications  number_outpatient  \\\n",
            "count       101766.000000   101766.000000    101766.000000      101766.000000   \n",
            "mean            43.095641        1.339730        16.021844           0.369357   \n",
            "std             19.674362        1.705807         8.127566           1.267265   \n",
            "min              1.000000        0.000000         1.000000           0.000000   \n",
            "25%             31.000000        0.000000        10.000000           0.000000   \n",
            "50%             44.000000        1.000000        15.000000           0.000000   \n",
            "75%             57.000000        2.000000        20.000000           0.000000   \n",
            "max            132.000000        6.000000        81.000000          42.000000   \n",
            "\n",
            "       number_emergency  number_inpatient  number_diagnoses  \n",
            "count     101766.000000     101766.000000     101766.000000  \n",
            "mean           0.197836          0.635566          7.422607  \n",
            "std            0.930472          1.262863          1.933600  \n",
            "min            0.000000          0.000000          1.000000  \n",
            "25%            0.000000          0.000000          6.000000  \n",
            "50%            0.000000          0.000000          8.000000  \n",
            "75%            0.000000          1.000000          9.000000  \n",
            "max           76.000000         21.000000         16.000000  \n"
          ]
        }
      ],
      "source": [
        "print(df.describe())"
      ]
    },
    {
      "cell_type": "code",
      "execution_count": null,
      "metadata": {
        "colab": {
          "base_uri": "https://localhost:8080/",
          "height": 490
        },
        "id": "W-aczyvrHRzP",
        "outputId": "34c8925b-7a3c-42ef-8100-a18fab619c73"
      },
      "outputs": [
        {
          "output_type": "execute_result",
          "data": {
            "text/plain": [
              "                             count          mean           std      min  \\\n",
              "encounter_id              101766.0  1.652016e+08  1.026403e+08  12522.0   \n",
              "patient_nbr               101766.0  5.433040e+07  3.869636e+07    135.0   \n",
              "admission_type_id         101766.0  2.024006e+00  1.445403e+00      1.0   \n",
              "discharge_disposition_id  101766.0  3.715642e+00  5.280166e+00      1.0   \n",
              "admission_source_id       101766.0  5.754437e+00  4.064081e+00      1.0   \n",
              "num_lab_procedures        101766.0  4.309564e+01  1.967436e+01      1.0   \n",
              "num_procedures            101766.0  1.339730e+00  1.705807e+00      0.0   \n",
              "num_medications           101766.0  1.602184e+01  8.127566e+00      1.0   \n",
              "number_outpatient         101766.0  3.693572e-01  1.267265e+00      0.0   \n",
              "number_emergency          101766.0  1.978362e-01  9.304723e-01      0.0   \n",
              "number_inpatient          101766.0  6.355659e-01  1.262863e+00      0.0   \n",
              "number_diagnoses          101766.0  7.422607e+00  1.933600e+00      1.0   \n",
              "\n",
              "                                 25%          50%           75%          max  \n",
              "encounter_id              84961194.0  152388987.0  2.302709e+08  443867222.0  \n",
              "patient_nbr               23413221.0   45505143.0  8.754595e+07  189502619.0  \n",
              "admission_type_id                1.0          1.0  3.000000e+00          8.0  \n",
              "discharge_disposition_id         1.0          1.0  4.000000e+00         28.0  \n",
              "admission_source_id              1.0          7.0  7.000000e+00         25.0  \n",
              "num_lab_procedures              31.0         44.0  5.700000e+01        132.0  \n",
              "num_procedures                   0.0          1.0  2.000000e+00          6.0  \n",
              "num_medications                 10.0         15.0  2.000000e+01         81.0  \n",
              "number_outpatient                0.0          0.0  0.000000e+00         42.0  \n",
              "number_emergency                 0.0          0.0  0.000000e+00         76.0  \n",
              "number_inpatient                 0.0          0.0  1.000000e+00         21.0  \n",
              "number_diagnoses                 6.0          8.0  9.000000e+00         16.0  "
            ],
            "text/html": [
              "\n",
              "  <div id=\"df-a254ac4c-9fb5-451f-a639-8481fb1ffbf5\">\n",
              "    <div class=\"colab-df-container\">\n",
              "      <div>\n",
              "<style scoped>\n",
              "    .dataframe tbody tr th:only-of-type {\n",
              "        vertical-align: middle;\n",
              "    }\n",
              "\n",
              "    .dataframe tbody tr th {\n",
              "        vertical-align: top;\n",
              "    }\n",
              "\n",
              "    .dataframe thead th {\n",
              "        text-align: right;\n",
              "    }\n",
              "</style>\n",
              "<table border=\"1\" class=\"dataframe\">\n",
              "  <thead>\n",
              "    <tr style=\"text-align: right;\">\n",
              "      <th></th>\n",
              "      <th>count</th>\n",
              "      <th>mean</th>\n",
              "      <th>std</th>\n",
              "      <th>min</th>\n",
              "      <th>25%</th>\n",
              "      <th>50%</th>\n",
              "      <th>75%</th>\n",
              "      <th>max</th>\n",
              "    </tr>\n",
              "  </thead>\n",
              "  <tbody>\n",
              "    <tr>\n",
              "      <th>encounter_id</th>\n",
              "      <td>101766.0</td>\n",
              "      <td>1.652016e+08</td>\n",
              "      <td>1.026403e+08</td>\n",
              "      <td>12522.0</td>\n",
              "      <td>84961194.0</td>\n",
              "      <td>152388987.0</td>\n",
              "      <td>2.302709e+08</td>\n",
              "      <td>443867222.0</td>\n",
              "    </tr>\n",
              "    <tr>\n",
              "      <th>patient_nbr</th>\n",
              "      <td>101766.0</td>\n",
              "      <td>5.433040e+07</td>\n",
              "      <td>3.869636e+07</td>\n",
              "      <td>135.0</td>\n",
              "      <td>23413221.0</td>\n",
              "      <td>45505143.0</td>\n",
              "      <td>8.754595e+07</td>\n",
              "      <td>189502619.0</td>\n",
              "    </tr>\n",
              "    <tr>\n",
              "      <th>admission_type_id</th>\n",
              "      <td>101766.0</td>\n",
              "      <td>2.024006e+00</td>\n",
              "      <td>1.445403e+00</td>\n",
              "      <td>1.0</td>\n",
              "      <td>1.0</td>\n",
              "      <td>1.0</td>\n",
              "      <td>3.000000e+00</td>\n",
              "      <td>8.0</td>\n",
              "    </tr>\n",
              "    <tr>\n",
              "      <th>discharge_disposition_id</th>\n",
              "      <td>101766.0</td>\n",
              "      <td>3.715642e+00</td>\n",
              "      <td>5.280166e+00</td>\n",
              "      <td>1.0</td>\n",
              "      <td>1.0</td>\n",
              "      <td>1.0</td>\n",
              "      <td>4.000000e+00</td>\n",
              "      <td>28.0</td>\n",
              "    </tr>\n",
              "    <tr>\n",
              "      <th>admission_source_id</th>\n",
              "      <td>101766.0</td>\n",
              "      <td>5.754437e+00</td>\n",
              "      <td>4.064081e+00</td>\n",
              "      <td>1.0</td>\n",
              "      <td>1.0</td>\n",
              "      <td>7.0</td>\n",
              "      <td>7.000000e+00</td>\n",
              "      <td>25.0</td>\n",
              "    </tr>\n",
              "    <tr>\n",
              "      <th>num_lab_procedures</th>\n",
              "      <td>101766.0</td>\n",
              "      <td>4.309564e+01</td>\n",
              "      <td>1.967436e+01</td>\n",
              "      <td>1.0</td>\n",
              "      <td>31.0</td>\n",
              "      <td>44.0</td>\n",
              "      <td>5.700000e+01</td>\n",
              "      <td>132.0</td>\n",
              "    </tr>\n",
              "    <tr>\n",
              "      <th>num_procedures</th>\n",
              "      <td>101766.0</td>\n",
              "      <td>1.339730e+00</td>\n",
              "      <td>1.705807e+00</td>\n",
              "      <td>0.0</td>\n",
              "      <td>0.0</td>\n",
              "      <td>1.0</td>\n",
              "      <td>2.000000e+00</td>\n",
              "      <td>6.0</td>\n",
              "    </tr>\n",
              "    <tr>\n",
              "      <th>num_medications</th>\n",
              "      <td>101766.0</td>\n",
              "      <td>1.602184e+01</td>\n",
              "      <td>8.127566e+00</td>\n",
              "      <td>1.0</td>\n",
              "      <td>10.0</td>\n",
              "      <td>15.0</td>\n",
              "      <td>2.000000e+01</td>\n",
              "      <td>81.0</td>\n",
              "    </tr>\n",
              "    <tr>\n",
              "      <th>number_outpatient</th>\n",
              "      <td>101766.0</td>\n",
              "      <td>3.693572e-01</td>\n",
              "      <td>1.267265e+00</td>\n",
              "      <td>0.0</td>\n",
              "      <td>0.0</td>\n",
              "      <td>0.0</td>\n",
              "      <td>0.000000e+00</td>\n",
              "      <td>42.0</td>\n",
              "    </tr>\n",
              "    <tr>\n",
              "      <th>number_emergency</th>\n",
              "      <td>101766.0</td>\n",
              "      <td>1.978362e-01</td>\n",
              "      <td>9.304723e-01</td>\n",
              "      <td>0.0</td>\n",
              "      <td>0.0</td>\n",
              "      <td>0.0</td>\n",
              "      <td>0.000000e+00</td>\n",
              "      <td>76.0</td>\n",
              "    </tr>\n",
              "    <tr>\n",
              "      <th>number_inpatient</th>\n",
              "      <td>101766.0</td>\n",
              "      <td>6.355659e-01</td>\n",
              "      <td>1.262863e+00</td>\n",
              "      <td>0.0</td>\n",
              "      <td>0.0</td>\n",
              "      <td>0.0</td>\n",
              "      <td>1.000000e+00</td>\n",
              "      <td>21.0</td>\n",
              "    </tr>\n",
              "    <tr>\n",
              "      <th>number_diagnoses</th>\n",
              "      <td>101766.0</td>\n",
              "      <td>7.422607e+00</td>\n",
              "      <td>1.933600e+00</td>\n",
              "      <td>1.0</td>\n",
              "      <td>6.0</td>\n",
              "      <td>8.0</td>\n",
              "      <td>9.000000e+00</td>\n",
              "      <td>16.0</td>\n",
              "    </tr>\n",
              "  </tbody>\n",
              "</table>\n",
              "</div>\n",
              "      <button class=\"colab-df-convert\" onclick=\"convertToInteractive('df-a254ac4c-9fb5-451f-a639-8481fb1ffbf5')\"\n",
              "              title=\"Convert this dataframe to an interactive table.\"\n",
              "              style=\"display:none;\">\n",
              "        \n",
              "  <svg xmlns=\"http://www.w3.org/2000/svg\" height=\"24px\"viewBox=\"0 0 24 24\"\n",
              "       width=\"24px\">\n",
              "    <path d=\"M0 0h24v24H0V0z\" fill=\"none\"/>\n",
              "    <path d=\"M18.56 5.44l.94 2.06.94-2.06 2.06-.94-2.06-.94-.94-2.06-.94 2.06-2.06.94zm-11 1L8.5 8.5l.94-2.06 2.06-.94-2.06-.94L8.5 2.5l-.94 2.06-2.06.94zm10 10l.94 2.06.94-2.06 2.06-.94-2.06-.94-.94-2.06-.94 2.06-2.06.94z\"/><path d=\"M17.41 7.96l-1.37-1.37c-.4-.4-.92-.59-1.43-.59-.52 0-1.04.2-1.43.59L10.3 9.45l-7.72 7.72c-.78.78-.78 2.05 0 2.83L4 21.41c.39.39.9.59 1.41.59.51 0 1.02-.2 1.41-.59l7.78-7.78 2.81-2.81c.8-.78.8-2.07 0-2.86zM5.41 20L4 18.59l7.72-7.72 1.47 1.35L5.41 20z\"/>\n",
              "  </svg>\n",
              "      </button>\n",
              "      \n",
              "  <style>\n",
              "    .colab-df-container {\n",
              "      display:flex;\n",
              "      flex-wrap:wrap;\n",
              "      gap: 12px;\n",
              "    }\n",
              "\n",
              "    .colab-df-convert {\n",
              "      background-color: #E8F0FE;\n",
              "      border: none;\n",
              "      border-radius: 50%;\n",
              "      cursor: pointer;\n",
              "      display: none;\n",
              "      fill: #1967D2;\n",
              "      height: 32px;\n",
              "      padding: 0 0 0 0;\n",
              "      width: 32px;\n",
              "    }\n",
              "\n",
              "    .colab-df-convert:hover {\n",
              "      background-color: #E2EBFA;\n",
              "      box-shadow: 0px 1px 2px rgba(60, 64, 67, 0.3), 0px 1px 3px 1px rgba(60, 64, 67, 0.15);\n",
              "      fill: #174EA6;\n",
              "    }\n",
              "\n",
              "    [theme=dark] .colab-df-convert {\n",
              "      background-color: #3B4455;\n",
              "      fill: #D2E3FC;\n",
              "    }\n",
              "\n",
              "    [theme=dark] .colab-df-convert:hover {\n",
              "      background-color: #434B5C;\n",
              "      box-shadow: 0px 1px 3px 1px rgba(0, 0, 0, 0.15);\n",
              "      filter: drop-shadow(0px 1px 2px rgba(0, 0, 0, 0.3));\n",
              "      fill: #FFFFFF;\n",
              "    }\n",
              "  </style>\n",
              "\n",
              "      <script>\n",
              "        const buttonEl =\n",
              "          document.querySelector('#df-a254ac4c-9fb5-451f-a639-8481fb1ffbf5 button.colab-df-convert');\n",
              "        buttonEl.style.display =\n",
              "          google.colab.kernel.accessAllowed ? 'block' : 'none';\n",
              "\n",
              "        async function convertToInteractive(key) {\n",
              "          const element = document.querySelector('#df-a254ac4c-9fb5-451f-a639-8481fb1ffbf5');\n",
              "          const dataTable =\n",
              "            await google.colab.kernel.invokeFunction('convertToInteractive',\n",
              "                                                     [key], {});\n",
              "          if (!dataTable) return;\n",
              "\n",
              "          const docLinkHtml = 'Like what you see? Visit the ' +\n",
              "            '<a target=\"_blank\" href=https://colab.research.google.com/notebooks/data_table.ipynb>data table notebook</a>'\n",
              "            + ' to learn more about interactive tables.';\n",
              "          element.innerHTML = '';\n",
              "          dataTable['output_type'] = 'display_data';\n",
              "          await google.colab.output.renderOutput(dataTable, element);\n",
              "          const docLink = document.createElement('div');\n",
              "          docLink.innerHTML = docLinkHtml;\n",
              "          element.appendChild(docLink);\n",
              "        }\n",
              "      </script>\n",
              "    </div>\n",
              "  </div>\n",
              "  "
            ]
          },
          "metadata": {},
          "execution_count": 122
        }
      ],
      "source": [
        "df.describe().T"
      ]
    },
    {
      "cell_type": "markdown",
      "source": [
        "# Visualization"
      ],
      "metadata": {
        "id": "rKMeB40SxKFr"
      }
    },
    {
      "cell_type": "code",
      "execution_count": null,
      "metadata": {
        "colab": {
          "base_uri": "https://localhost:8080/",
          "height": 296
        },
        "id": "PQBdooKXHmFJ",
        "outputId": "9d10ddbd-7621-4893-8b39-75a4e8224a19"
      },
      "outputs": [
        {
          "output_type": "execute_result",
          "data": {
            "text/plain": [
              "<matplotlib.axes._subplots.AxesSubplot at 0x7f5935fc61d0>"
            ]
          },
          "metadata": {},
          "execution_count": 123
        },
        {
          "output_type": "display_data",
          "data": {
            "text/plain": [
              "<Figure size 432x288 with 1 Axes>"
            ],
            "image/png": "[encoded data removed]"
          },
          "metadata": {
            "needs_background": "light"
          }
        }
      ],
      "source": [
        "sns.countplot(x = 'readmitted',data = df)"
      ]
    },
    {
      "cell_type": "code",
      "source": [
        "import matplotlib.pyplot as plt\n",
        "fig, axs = plt.subplots(3, 2, figsize=(15, 15))\n",
        "df[\"age\"].replace({\"[0-10)\": 10,\"[10-20)\": 20, \"[20-30)\": 30,  \"[30-40)\": 40, \"[40-50)\": 50}, inplace=True)\n",
        "df[\"age\"].replace({\"[50-60)\": 60,\"[60-70)\": 70, \"[70-80)\": 80,  \"[80-90)\": 90, \"[90-100)\": 100}, inplace=True)\n",
        "sns.countplot(x = 'age',data = df, ax=axs[0,0])\n",
        "sns.countplot(x = 'race',data = df, ax=axs[0,1])\n",
        "sns.countplot(x = 'gender',data = df, ax=axs[1,0])\n",
        "sns.countplot(x = 'diabetesMed',data = df, ax=axs[1,1])\n",
        "sns.countplot(x = 'insulin',data = df, ax=axs[2,0])\n",
        "sns.countplot(x = 'change',data = df, ax=axs[2,1])\n",
        "\n",
        "\n"
      ],
      "metadata": {
        "colab": {
          "base_uri": "https://localhost:8080/",
          "height": 894
        },
        "id": "a9tzptELq79u",
        "outputId": "f8ab2897-5c2b-463a-b73d-ac529c7f7202"
      },
      "execution_count": null,
      "outputs": [
        {
          "output_type": "execute_result",
          "data": {
            "text/plain": [
              "<matplotlib.axes._subplots.AxesSubplot at 0x7f5d64071b50>"
            ]
          },
          "metadata": {},
          "execution_count": 12
        },
        {
          "output_type": "display_data",
          "data": {
            "text/plain": [
              "<Figure size 1080x1080 with 6 Axes>"
            ],
            "image/png": "[encoded data removed]"
          },
          "metadata": {
            "needs_background": "light"
          }
        }
      ]
    },
    {
      "cell_type": "code",
      "source": [
        "df[\"weight\"].replace({\"[0-25)\":25, \"[25-50)\": 50, \"[50-75)\": 75, \"[75-100)\": 100, \"[100-125)\": 125, \"[125-150)\": 150, \"[150-175)\": 175, \"[175-200)\": 200}, inplace=True)\n",
        "sns.countplot(x = 'weight',data = df)\n",
        "\n",
        "\n"
      ],
      "metadata": {
        "colab": {
          "base_uri": "https://localhost:8080/",
          "height": 297
        },
        "id": "UuENFSVLDnb8",
        "outputId": "e3752fb8-cf96-4088-d371-c8f9adc22b51"
      },
      "execution_count": null,
      "outputs": [
        {
          "output_type": "execute_result",
          "data": {
            "text/plain": [
              "<matplotlib.axes._subplots.AxesSubplot at 0x7fcb3e91ef10>"
            ]
          },
          "metadata": {},
          "execution_count": 12
        },
        {
          "output_type": "display_data",
          "data": {
            "text/plain": [
              "<Figure size 432x288 with 1 Axes>"
            ],
            "image/png": "[encoded data removed]"
          },
          "metadata": {
            "needs_background": "light"
          }
        }
      ]
    },
    {
      "cell_type": "code",
      "source": [
        "sns.countplot(x = 'medical_specialty',data = df)"
      ],
      "metadata": {
        "colab": {
          "base_uri": "https://localhost:8080/",
          "height": 298
        },
        "id": "uK8K3Q38pGFn",
        "outputId": "c7ce489e-c3b7-4741-a3b4-13b6d0a5f666"
      },
      "execution_count": null,
      "outputs": [
        {
          "output_type": "execute_result",
          "data": {
            "text/plain": [
              "<matplotlib.axes._subplots.AxesSubplot at 0x7fcb3e89c250>"
            ]
          },
          "metadata": {},
          "execution_count": 14
        },
        {
          "output_type": "display_data",
          "data": {
            "text/plain": [
              "<Figure size 432x288 with 1 Axes>"
            ],
            "image/png": "[encoded data removed]"
          },
          "metadata": {
            "needs_background": "light"
          }
        }
      ]
    },
    {
      "cell_type": "code",
      "source": [
        "df.isnull().sum()"
      ],
      "metadata": {
        "colab": {
          "base_uri": "https://localhost:8080/"
        },
        "id": "2cLfeHWBAUwI",
        "outputId": "bf92dfb1-359f-40d3-d3c2-70c35a087e52"
      },
      "execution_count": null,
      "outputs": [
        {
          "output_type": "execute_result",
          "data": {
            "text/plain": [
              "encounter_id                0\n",
              "patient_nbr                 0\n",
              "race                        0\n",
              "gender                      0\n",
              "age                         0\n",
              "weight                      0\n",
              "admission_type_id           0\n",
              "discharge_disposition_id    0\n",
              "admission_source_id         0\n",
              "time_in_hospital            0\n",
              "payer_code                  0\n",
              "medical_specialty           0\n",
              "num_lab_procedures          0\n",
              "num_procedures              0\n",
              "num_medications             0\n",
              "number_outpatient           0\n",
              "number_emergency            0\n",
              "number_inpatient            0\n",
              "diag_1                      0\n",
              "diag_2                      0\n",
              "diag_3                      0\n",
              "number_diagnoses            0\n",
              "max_glu_serum               0\n",
              "A1Cresult                   0\n",
              "metformin                   0\n",
              "repaglinide                 0\n",
              "nateglinide                 0\n",
              "chlorpropamide              0\n",
              "glimepiride                 0\n",
              "acetohexamide               0\n",
              "glipizide                   0\n",
              "glyburide                   0\n",
              "tolbutamide                 0\n",
              "pioglitazone                0\n",
              "rosiglitazone               0\n",
              "acarbose                    0\n",
              "miglitol                    0\n",
              "troglitazone                0\n",
              "tolazamide                  0\n",
              "examide                     0\n",
              "citoglipton                 0\n",
              "insulin                     0\n",
              "glyburide-metformin         0\n",
              "glipizide-metformin         0\n",
              "glimepiride-pioglitazone    0\n",
              "metformin-rosiglitazone     0\n",
              "metformin-pioglitazone      0\n",
              "change                      0\n",
              "diabetesMed                 0\n",
              "readmitted                  0\n",
              "dtype: int64"
            ]
          },
          "metadata": {},
          "execution_count": 140
        }
      ]
    },
    {
      "cell_type": "markdown",
      "source": [
        "# Data Processing"
      ],
      "metadata": {
        "id": "-jE2VLPYxOk4"
      }
    },
    {
      "cell_type": "code",
      "execution_count": null,
      "metadata": {
        "id": "qKuXJHR9AJtJ"
      },
      "outputs": [],
      "source": [
        "df[\"gender\"].replace({\"Female\": 0, \"Male\": 1, \"Unknown/Invalid\": 2}, inplace=True)\n",
        "df[\"age\"].replace({\"[0-10)\": 10,\"[10-20)\": 20, \"[20-30)\": 30,  \"[30-40)\": 40, \"[40-50)\": 50}, inplace=True)\n",
        "df[\"age\"].replace({\"[50-60)\": 60,\"[60-70)\": 70, \"[70-80)\": 80,  \"[80-90)\": 90, \"[90-100)\": 100}, inplace=True)\n",
        "df[\"max_glu_serum\"].replace({\"None\": 0, \"Norm\": 1, \">200\": 2, \">300\": 3}, inplace=True)\n",
        "df[\"A1Cresult\"].replace({\"None\": 0, \"Norm\": 1, \">7\": 2, \">8\": 3}, inplace=True)\n",
        "df[\"metformin\"].replace({\"No\": 0, \"Steady\": 1, \"Up\": 2}, inplace=True)\n",
        "df[\"repaglinide\"].replace({\"No\": 0, \"Steady\": 1, \"Up\": 2}, inplace=True)\n",
        "df[\"readmitted\"].replace({\"NO\": 0, \"<30\": 1, \">30\": 2}, inplace=True)\n",
        "df[\"change\"].replace({\"NO\": 0, \"Ch\": 1}, inplace=True)\n",
        "df[\"diabetesMed\"].replace({\"NO\": 0, \"Yes\": 1}, inplace=True)\n",
        "df = df.replace(\"No\", 0)\n",
        "df = df.replace(\"Steady\", 1)\n",
        "df = df.replace(\"Ch\", 1)\n",
        "df = df.replace(\"Up\", 2)\n",
        "df = df.replace(\"Down\", 3)\n",
        "df = df.replace(\"Norm\", 0)\n",
        "df = df.replace(\"Yes\", 1)\n",
        "df[\"weight\"].replace({\"?\": 0, \"[0-25)\":25, \"[25-50)\": 50, \"[50-75)\": 75, \"[75-100)\": 100, \"[100-125)\": 125, \"[125-150)\": 150, \"[150-175)\": 175, \"[175-200)\": 200, \">200\" : 200}, inplace=True)\n",
        "df['weight'] = df['weight'].replace(0, df['weight'].mean())\n",
        "\n",
        "\n",
        "\n",
        "\n",
        " \n",
        "\n",
        "\n",
        "\n",
        "\n",
        "\n",
        "\n",
        "\n"
      ]
    },
    {
      "cell_type": "code",
      "execution_count": null,
      "metadata": {
        "colab": {
          "base_uri": "https://localhost:8080/",
          "height": 305
        },
        "id": "4LiHQRmKeNn3",
        "outputId": "2193960b-b64f-48c0-cc23-9e83e8cb5e81"
      },
      "outputs": [
        {
          "output_type": "execute_result",
          "data": {
            "text/plain": [
              "   encounter_id  patient_nbr race  gender  age    weight  admission_type_id  \\\n",
              "0       2278392      8222157   Cu       0   10  3.102461                  6   \n",
              "1        149190     55629189   Cu       0   20  3.102461                  1   \n",
              "2         64410     86047875  AfA       0   30  3.102461                  1   \n",
              "3        500364     82442376   Cu       1   40  3.102461                  1   \n",
              "4         16680     42519267   Cu       1   50  3.102461                  1   \n",
              "\n",
              "   discharge_disposition_id  admission_source_id  time_in_hospital payer_code  \\\n",
              "0                        25                    1                 1          ?   \n",
              "1                         1                    7                 3          ?   \n",
              "2                         1                    7                 2          ?   \n",
              "3                         1                    7                 2          ?   \n",
              "4                         1                    7                 1          ?   \n",
              "\n",
              "          medical_specialty  num_lab_procedures  num_procedures  \\\n",
              "0  Pediatrics-Endocrinology                  41               0   \n",
              "1                         ?                  59               0   \n",
              "2                         ?                  11               5   \n",
              "3                         ?                  44               1   \n",
              "4                         ?                  51               0   \n",
              "\n",
              "   num_medications  number_outpatient  number_emergency  number_inpatient  \\\n",
              "0                1                  0                 0                 0   \n",
              "1               18                  0                 0                 0   \n",
              "2               13                  2                 0                 1   \n",
              "3               16                  0                 0                 0   \n",
              "4                8                  0                 0                 0   \n",
              "\n",
              "   diag_1  diag_2 diag_3  number_diagnoses  max_glu_serum  A1Cresult  \\\n",
              "0  250.83       ?      ?                 1              0          0   \n",
              "1     276  250.01    255                 9              0          0   \n",
              "2     648     250    V27                 6              0          0   \n",
              "3       8  250.43    403                 7              0          0   \n",
              "4     197     157    250                 5              0          0   \n",
              "\n",
              "   metformin  repaglinide  nateglinide  chlorpropamide  glimepiride  \\\n",
              "0          0            0            0               0            0   \n",
              "1          0            0            0               0            0   \n",
              "2          0            0            0               0            0   \n",
              "3          0            0            0               0            0   \n",
              "4          0            0            0               0            0   \n",
              "\n",
              "   acetohexamide  glipizide  glyburide  tolbutamide  pioglitazone  \\\n",
              "0              0          0          0            0             0   \n",
              "1              0          0          0            0             0   \n",
              "2              0          1          0            0             0   \n",
              "3              0          0          0            0             0   \n",
              "4              0          1          0            0             0   \n",
              "\n",
              "   rosiglitazone  acarbose  miglitol  troglitazone  tolazamide  examide  \\\n",
              "0              0         0         0             0           0        0   \n",
              "1              0         0         0             0           0        0   \n",
              "2              0         0         0             0           0        0   \n",
              "3              0         0         0             0           0        0   \n",
              "4              0         0         0             0           0        0   \n",
              "\n",
              "   citoglipton  insulin  glyburide-metformin  glipizide-metformin  \\\n",
              "0            0        0                    0                    0   \n",
              "1            0        2                    0                    0   \n",
              "2            0        0                    0                    0   \n",
              "3            0        2                    0                    0   \n",
              "4            0        1                    0                    0   \n",
              "\n",
              "   glimepiride-pioglitazone  metformin-rosiglitazone  metformin-pioglitazone  \\\n",
              "0                         0                        0                       0   \n",
              "1                         0                        0                       0   \n",
              "2                         0                        0                       0   \n",
              "3                         0                        0                       0   \n",
              "4                         0                        0                       0   \n",
              "\n",
              "   change  diabetesMed  readmitted  \n",
              "0       0            0           0  \n",
              "1       1            1           2  \n",
              "2       0            1           0  \n",
              "3       1            1           0  \n",
              "4       1            1           0  "
            ],
            "text/html": [
              "\n",
              "  <div id=\"df-f50b5fe0-522c-4c58-acfa-5b200f8dea07\">\n",
              "    <div class=\"colab-df-container\">\n",
              "      <div>\n",
              "<style scoped>\n",
              "    .dataframe tbody tr th:only-of-type {\n",
              "        vertical-align: middle;\n",
              "    }\n",
              "\n",
              "    .dataframe tbody tr th {\n",
              "        vertical-align: top;\n",
              "    }\n",
              "\n",
              "    .dataframe thead th {\n",
              "        text-align: right;\n",
              "    }\n",
              "</style>\n",
              "<table border=\"1\" class=\"dataframe\">\n",
              "  <thead>\n",
              "    <tr style=\"text-align: right;\">\n",
              "      <th></th>\n",
              "      <th>encounter_id</th>\n",
              "      <th>patient_nbr</th>\n",
              "      <th>race</th>\n",
              "      <th>gender</th>\n",
              "      <th>age</th>\n",
              "      <th>weight</th>\n",
              "      <th>admission_type_id</th>\n",
              "      <th>discharge_disposition_id</th>\n",
              "      <th>admission_source_id</th>\n",
              "      <th>time_in_hospital</th>\n",
              "      <th>payer_code</th>\n",
              "      <th>medical_specialty</th>\n",
              "      <th>num_lab_procedures</th>\n",
              "      <th>num_procedures</th>\n",
              "      <th>num_medications</th>\n",
              "      <th>number_outpatient</th>\n",
              "      <th>number_emergency</th>\n",
              "      <th>number_inpatient</th>\n",
              "      <th>diag_1</th>\n",
              "      <th>diag_2</th>\n",
              "      <th>diag_3</th>\n",
              "      <th>number_diagnoses</th>\n",
              "      <th>max_glu_serum</th>\n",
              "      <th>A1Cresult</th>\n",
              "      <th>metformin</th>\n",
              "      <th>repaglinide</th>\n",
              "      <th>nateglinide</th>\n",
              "      <th>chlorpropamide</th>\n",
              "      <th>glimepiride</th>\n",
              "      <th>acetohexamide</th>\n",
              "      <th>glipizide</th>\n",
              "      <th>glyburide</th>\n",
              "      <th>tolbutamide</th>\n",
              "      <th>pioglitazone</th>\n",
              "      <th>rosiglitazone</th>\n",
              "      <th>acarbose</th>\n",
              "      <th>miglitol</th>\n",
              "      <th>troglitazone</th>\n",
              "      <th>tolazamide</th>\n",
              "      <th>examide</th>\n",
              "      <th>citoglipton</th>\n",
              "      <th>insulin</th>\n",
              "      <th>glyburide-metformin</th>\n",
              "      <th>glipizide-metformin</th>\n",
              "      <th>glimepiride-pioglitazone</th>\n",
              "      <th>metformin-rosiglitazone</th>\n",
              "      <th>metformin-pioglitazone</th>\n",
              "      <th>change</th>\n",
              "      <th>diabetesMed</th>\n",
              "      <th>readmitted</th>\n",
              "    </tr>\n",
              "  </thead>\n",
              "  <tbody>\n",
              "    <tr>\n",
              "      <th>0</th>\n",
              "      <td>2278392</td>\n",
              "      <td>8222157</td>\n",
              "      <td>Cu</td>\n",
              "      <td>0</td>\n",
              "      <td>10</td>\n",
              "      <td>3.102461</td>\n",
              "      <td>6</td>\n",
              "      <td>25</td>\n",
              "      <td>1</td>\n",
              "      <td>1</td>\n",
              "      <td>?</td>\n",
              "      <td>Pediatrics-Endocrinology</td>\n",
              "      <td>41</td>\n",
              "      <td>0</td>\n",
              "      <td>1</td>\n",
              "      <td>0</td>\n",
              "      <td>0</td>\n",
              "      <td>0</td>\n",
              "      <td>250.83</td>\n",
              "      <td>?</td>\n",
              "      <td>?</td>\n",
              "      <td>1</td>\n",
              "      <td>0</td>\n",
              "      <td>0</td>\n",
              "      <td>0</td>\n",
              "      <td>0</td>\n",
              "      <td>0</td>\n",
              "      <td>0</td>\n",
              "      <td>0</td>\n",
              "      <td>0</td>\n",
              "      <td>0</td>\n",
              "      <td>0</td>\n",
              "      <td>0</td>\n",
              "      <td>0</td>\n",
              "      <td>0</td>\n",
              "      <td>0</td>\n",
              "      <td>0</td>\n",
              "      <td>0</td>\n",
              "      <td>0</td>\n",
              "      <td>0</td>\n",
              "      <td>0</td>\n",
              "      <td>0</td>\n",
              "      <td>0</td>\n",
              "      <td>0</td>\n",
              "      <td>0</td>\n",
              "      <td>0</td>\n",
              "      <td>0</td>\n",
              "      <td>0</td>\n",
              "      <td>0</td>\n",
              "      <td>0</td>\n",
              "    </tr>\n",
              "    <tr>\n",
              "      <th>1</th>\n",
              "      <td>149190</td>\n",
              "      <td>55629189</td>\n",
              "      <td>Cu</td>\n",
              "      <td>0</td>\n",
              "      <td>20</td>\n",
              "      <td>3.102461</td>\n",
              "      <td>1</td>\n",
              "      <td>1</td>\n",
              "      <td>7</td>\n",
              "      <td>3</td>\n",
              "      <td>?</td>\n",
              "      <td>?</td>\n",
              "      <td>59</td>\n",
              "      <td>0</td>\n",
              "      <td>18</td>\n",
              "      <td>0</td>\n",
              "      <td>0</td>\n",
              "      <td>0</td>\n",
              "      <td>276</td>\n",
              "      <td>250.01</td>\n",
              "      <td>255</td>\n",
              "      <td>9</td>\n",
              "      <td>0</td>\n",
              "      <td>0</td>\n",
              "      <td>0</td>\n",
              "      <td>0</td>\n",
              "      <td>0</td>\n",
              "      <td>0</td>\n",
              "      <td>0</td>\n",
              "      <td>0</td>\n",
              "      <td>0</td>\n",
              "      <td>0</td>\n",
              "      <td>0</td>\n",
              "      <td>0</td>\n",
              "      <td>0</td>\n",
              "      <td>0</td>\n",
              "      <td>0</td>\n",
              "      <td>0</td>\n",
              "      <td>0</td>\n",
              "      <td>0</td>\n",
              "      <td>0</td>\n",
              "      <td>2</td>\n",
              "      <td>0</td>\n",
              "      <td>0</td>\n",
              "      <td>0</td>\n",
              "      <td>0</td>\n",
              "      <td>0</td>\n",
              "      <td>1</td>\n",
              "      <td>1</td>\n",
              "      <td>2</td>\n",
              "    </tr>\n",
              "    <tr>\n",
              "      <th>2</th>\n",
              "      <td>64410</td>\n",
              "      <td>86047875</td>\n",
              "      <td>AfA</td>\n",
              "      <td>0</td>\n",
              "      <td>30</td>\n",
              "      <td>3.102461</td>\n",
              "      <td>1</td>\n",
              "      <td>1</td>\n",
              "      <td>7</td>\n",
              "      <td>2</td>\n",
              "      <td>?</td>\n",
              "      <td>?</td>\n",
              "      <td>11</td>\n",
              "      <td>5</td>\n",
              "      <td>13</td>\n",
              "      <td>2</td>\n",
              "      <td>0</td>\n",
              "      <td>1</td>\n",
              "      <td>648</td>\n",
              "      <td>250</td>\n",
              "      <td>V27</td>\n",
              "      <td>6</td>\n",
              "      <td>0</td>\n",
              "      <td>0</td>\n",
              "      <td>0</td>\n",
              "      <td>0</td>\n",
              "      <td>0</td>\n",
              "      <td>0</td>\n",
              "      <td>0</td>\n",
              "      <td>0</td>\n",
              "      <td>1</td>\n",
              "      <td>0</td>\n",
              "      <td>0</td>\n",
              "      <td>0</td>\n",
              "      <td>0</td>\n",
              "      <td>0</td>\n",
              "      <td>0</td>\n",
              "      <td>0</td>\n",
              "      <td>0</td>\n",
              "      <td>0</td>\n",
              "      <td>0</td>\n",
              "      <td>0</td>\n",
              "      <td>0</td>\n",
              "      <td>0</td>\n",
              "      <td>0</td>\n",
              "      <td>0</td>\n",
              "      <td>0</td>\n",
              "      <td>0</td>\n",
              "      <td>1</td>\n",
              "      <td>0</td>\n",
              "    </tr>\n",
              "    <tr>\n",
              "      <th>3</th>\n",
              "      <td>500364</td>\n",
              "      <td>82442376</td>\n",
              "      <td>Cu</td>\n",
              "      <td>1</td>\n",
              "      <td>40</td>\n",
              "      <td>3.102461</td>\n",
              "      <td>1</td>\n",
              "      <td>1</td>\n",
              "      <td>7</td>\n",
              "      <td>2</td>\n",
              "      <td>?</td>\n",
              "      <td>?</td>\n",
              "      <td>44</td>\n",
              "      <td>1</td>\n",
              "      <td>16</td>\n",
              "      <td>0</td>\n",
              "      <td>0</td>\n",
              "      <td>0</td>\n",
              "      <td>8</td>\n",
              "      <td>250.43</td>\n",
              "      <td>403</td>\n",
              "      <td>7</td>\n",
              "      <td>0</td>\n",
              "      <td>0</td>\n",
              "      <td>0</td>\n",
              "      <td>0</td>\n",
              "      <td>0</td>\n",
              "      <td>0</td>\n",
              "      <td>0</td>\n",
              "      <td>0</td>\n",
              "      <td>0</td>\n",
              "      <td>0</td>\n",
              "      <td>0</td>\n",
              "      <td>0</td>\n",
              "      <td>0</td>\n",
              "      <td>0</td>\n",
              "      <td>0</td>\n",
              "      <td>0</td>\n",
              "      <td>0</td>\n",
              "      <td>0</td>\n",
              "      <td>0</td>\n",
              "      <td>2</td>\n",
              "      <td>0</td>\n",
              "      <td>0</td>\n",
              "      <td>0</td>\n",
              "      <td>0</td>\n",
              "      <td>0</td>\n",
              "      <td>1</td>\n",
              "      <td>1</td>\n",
              "      <td>0</td>\n",
              "    </tr>\n",
              "    <tr>\n",
              "      <th>4</th>\n",
              "      <td>16680</td>\n",
              "      <td>42519267</td>\n",
              "      <td>Cu</td>\n",
              "      <td>1</td>\n",
              "      <td>50</td>\n",
              "      <td>3.102461</td>\n",
              "      <td>1</td>\n",
              "      <td>1</td>\n",
              "      <td>7</td>\n",
              "      <td>1</td>\n",
              "      <td>?</td>\n",
              "      <td>?</td>\n",
              "      <td>51</td>\n",
              "      <td>0</td>\n",
              "      <td>8</td>\n",
              "      <td>0</td>\n",
              "      <td>0</td>\n",
              "      <td>0</td>\n",
              "      <td>197</td>\n",
              "      <td>157</td>\n",
              "      <td>250</td>\n",
              "      <td>5</td>\n",
              "      <td>0</td>\n",
              "      <td>0</td>\n",
              "      <td>0</td>\n",
              "      <td>0</td>\n",
              "      <td>0</td>\n",
              "      <td>0</td>\n",
              "      <td>0</td>\n",
              "      <td>0</td>\n",
              "      <td>1</td>\n",
              "      <td>0</td>\n",
              "      <td>0</td>\n",
              "      <td>0</td>\n",
              "      <td>0</td>\n",
              "      <td>0</td>\n",
              "      <td>0</td>\n",
              "      <td>0</td>\n",
              "      <td>0</td>\n",
              "      <td>0</td>\n",
              "      <td>0</td>\n",
              "      <td>1</td>\n",
              "      <td>0</td>\n",
              "      <td>0</td>\n",
              "      <td>0</td>\n",
              "      <td>0</td>\n",
              "      <td>0</td>\n",
              "      <td>1</td>\n",
              "      <td>1</td>\n",
              "      <td>0</td>\n",
              "    </tr>\n",
              "  </tbody>\n",
              "</table>\n",
              "</div>\n",
              "      <button class=\"colab-df-convert\" onclick=\"convertToInteractive('df-f50b5fe0-522c-4c58-acfa-5b200f8dea07')\"\n",
              "              title=\"Convert this dataframe to an interactive table.\"\n",
              "              style=\"display:none;\">\n",
              "        \n",
              "  <svg xmlns=\"http://www.w3.org/2000/svg\" height=\"24px\"viewBox=\"0 0 24 24\"\n",
              "       width=\"24px\">\n",
              "    <path d=\"M0 0h24v24H0V0z\" fill=\"none\"/>\n",
              "    <path d=\"M18.56 5.44l.94 2.06.94-2.06 2.06-.94-2.06-.94-.94-2.06-.94 2.06-2.06.94zm-11 1L8.5 8.5l.94-2.06 2.06-.94-2.06-.94L8.5 2.5l-.94 2.06-2.06.94zm10 10l.94 2.06.94-2.06 2.06-.94-2.06-.94-.94-2.06-.94 2.06-2.06.94z\"/><path d=\"M17.41 7.96l-1.37-1.37c-.4-.4-.92-.59-1.43-.59-.52 0-1.04.2-1.43.59L10.3 9.45l-7.72 7.72c-.78.78-.78 2.05 0 2.83L4 21.41c.39.39.9.59 1.41.59.51 0 1.02-.2 1.41-.59l7.78-7.78 2.81-2.81c.8-.78.8-2.07 0-2.86zM5.41 20L4 18.59l7.72-7.72 1.47 1.35L5.41 20z\"/>\n",
              "  </svg>\n",
              "      </button>\n",
              "      \n",
              "  <style>\n",
              "    .colab-df-container {\n",
              "      display:flex;\n",
              "      flex-wrap:wrap;\n",
              "      gap: 12px;\n",
              "    }\n",
              "\n",
              "    .colab-df-convert {\n",
              "      background-color: #E8F0FE;\n",
              "      border: none;\n",
              "      border-radius: 50%;\n",
              "      cursor: pointer;\n",
              "      display: none;\n",
              "      fill: #1967D2;\n",
              "      height: 32px;\n",
              "      padding: 0 0 0 0;\n",
              "      width: 32px;\n",
              "    }\n",
              "\n",
              "    .colab-df-convert:hover {\n",
              "      background-color: #E2EBFA;\n",
              "      box-shadow: 0px 1px 2px rgba(60, 64, 67, 0.3), 0px 1px 3px 1px rgba(60, 64, 67, 0.15);\n",
              "      fill: #174EA6;\n",
              "    }\n",
              "\n",
              "    [theme=dark] .colab-df-convert {\n",
              "      background-color: #3B4455;\n",
              "      fill: #D2E3FC;\n",
              "    }\n",
              "\n",
              "    [theme=dark] .colab-df-convert:hover {\n",
              "      background-color: #434B5C;\n",
              "      box-shadow: 0px 1px 3px 1px rgba(0, 0, 0, 0.15);\n",
              "      filter: drop-shadow(0px 1px 2px rgba(0, 0, 0, 0.3));\n",
              "      fill: #FFFFFF;\n",
              "    }\n",
              "  </style>\n",
              "\n",
              "      <script>\n",
              "        const buttonEl =\n",
              "          document.querySelector('#df-f50b5fe0-522c-4c58-acfa-5b200f8dea07 button.colab-df-convert');\n",
              "        buttonEl.style.display =\n",
              "          google.colab.kernel.accessAllowed ? 'block' : 'none';\n",
              "\n",
              "        async function convertToInteractive(key) {\n",
              "          const element = document.querySelector('#df-f50b5fe0-522c-4c58-acfa-5b200f8dea07');\n",
              "          const dataTable =\n",
              "            await google.colab.kernel.invokeFunction('convertToInteractive',\n",
              "                                                     [key], {});\n",
              "          if (!dataTable) return;\n",
              "\n",
              "          const docLinkHtml = 'Like what you see? Visit the ' +\n",
              "            '<a target=\"_blank\" href=https://colab.research.google.com/notebooks/data_table.ipynb>data table notebook</a>'\n",
              "            + ' to learn more about interactive tables.';\n",
              "          element.innerHTML = '';\n",
              "          dataTable['output_type'] = 'display_data';\n",
              "          await google.colab.output.renderOutput(dataTable, element);\n",
              "          const docLink = document.createElement('div');\n",
              "          docLink.innerHTML = docLinkHtml;\n",
              "          element.appendChild(docLink);\n",
              "        }\n",
              "      </script>\n",
              "    </div>\n",
              "  </div>\n",
              "  "
            ]
          },
          "metadata": {},
          "execution_count": 160
        }
      ],
      "source": [
        "df.head()"
      ]
    },
    {
      "cell_type": "code",
      "execution_count": null,
      "metadata": {
        "id": "CX4kOE6Ku_iw"
      },
      "outputs": [],
      "source": [
        "df.drop([\"encounter_id\", \"patient_nbr\", \"payer_code\", \"weight\"], axis=1, inplace=True)\n",
        "df.drop([ \"diag_1\",\t\"diag_2\", \"diag_3\"], axis=1, inplace=True)"
      ]
    },
    {
      "cell_type": "code",
      "source": [
        "df.drop([ \"race\"], axis=1, inplace=True)"
      ],
      "metadata": {
        "id": "IGeSWO5-IeNK"
      },
      "execution_count": null,
      "outputs": []
    },
    {
      "cell_type": "code",
      "source": [
        "df.drop([ \"medical_specialty\"], axis=1, inplace=True)"
      ],
      "metadata": {
        "id": "kbOezncHJsIi"
      },
      "execution_count": null,
      "outputs": []
    },
    {
      "cell_type": "code",
      "source": [
        "\n",
        "df.drop([ \"age\"], axis=1, inplace=True)\n",
        "\n"
      ],
      "metadata": {
        "id": "alpA34wnK-ag"
      },
      "execution_count": null,
      "outputs": []
    },
    {
      "cell_type": "code",
      "execution_count": null,
      "metadata": {
        "colab": {
          "base_uri": "https://localhost:8080/",
          "height": 288
        },
        "id": "FB1brD7vy9zu",
        "outputId": "a88e1112-611e-494b-861b-8e3dcc7eff60"
      },
      "outputs": [
        {
          "output_type": "execute_result",
          "data": {
            "text/plain": [
              "   gender  age  admission_type_id  discharge_disposition_id  \\\n",
              "0       0   10                  6                        25   \n",
              "1       0   20                  1                         1   \n",
              "2       0   30                  1                         1   \n",
              "3       1   40                  1                         1   \n",
              "4       1   50                  1                         1   \n",
              "\n",
              "   admission_source_id  time_in_hospital  num_lab_procedures  num_procedures  \\\n",
              "0                    1                 1                  41               0   \n",
              "1                    7                 3                  59               0   \n",
              "2                    7                 2                  11               5   \n",
              "3                    7                 2                  44               1   \n",
              "4                    7                 1                  51               0   \n",
              "\n",
              "   num_medications  number_outpatient  number_emergency  number_inpatient  \\\n",
              "0                1                  0                 0                 0   \n",
              "1               18                  0                 0                 0   \n",
              "2               13                  2                 0                 1   \n",
              "3               16                  0                 0                 0   \n",
              "4                8                  0                 0                 0   \n",
              "\n",
              "   number_diagnoses  max_glu_serum  A1Cresult  metformin  repaglinide  \\\n",
              "0                 1              0          0          0            0   \n",
              "1                 9              0          0          0            0   \n",
              "2                 6              0          0          0            0   \n",
              "3                 7              0          0          0            0   \n",
              "4                 5              0          0          0            0   \n",
              "\n",
              "   nateglinide  chlorpropamide  glimepiride  acetohexamide  glipizide  \\\n",
              "0            0               0            0              0          0   \n",
              "1            0               0            0              0          0   \n",
              "2            0               0            0              0          1   \n",
              "3            0               0            0              0          0   \n",
              "4            0               0            0              0          1   \n",
              "\n",
              "   glyburide  tolbutamide  pioglitazone  rosiglitazone  acarbose  miglitol  \\\n",
              "0          0            0             0              0         0         0   \n",
              "1          0            0             0              0         0         0   \n",
              "2          0            0             0              0         0         0   \n",
              "3          0            0             0              0         0         0   \n",
              "4          0            0             0              0         0         0   \n",
              "\n",
              "   troglitazone  tolazamide  examide  citoglipton  insulin  \\\n",
              "0             0           0        0            0        0   \n",
              "1             0           0        0            0        2   \n",
              "2             0           0        0            0        0   \n",
              "3             0           0        0            0        2   \n",
              "4             0           0        0            0        1   \n",
              "\n",
              "   glyburide-metformin  glipizide-metformin  glimepiride-pioglitazone  \\\n",
              "0                    0                    0                         0   \n",
              "1                    0                    0                         0   \n",
              "2                    0                    0                         0   \n",
              "3                    0                    0                         0   \n",
              "4                    0                    0                         0   \n",
              "\n",
              "   metformin-rosiglitazone  metformin-pioglitazone  change  diabetesMed  \\\n",
              "0                        0                       0       0            0   \n",
              "1                        0                       0       1            1   \n",
              "2                        0                       0       0            1   \n",
              "3                        0                       0       1            1   \n",
              "4                        0                       0       1            1   \n",
              "\n",
              "   readmitted  \n",
              "0           0  \n",
              "1           2  \n",
              "2           0  \n",
              "3           0  \n",
              "4           0  "
            ],
            "text/html": [
              "\n",
              "  <div id=\"df-b607763f-360e-448d-92f5-454f609b6697\">\n",
              "    <div class=\"colab-df-container\">\n",
              "      <div>\n",
              "<style scoped>\n",
              "    .dataframe tbody tr th:only-of-type {\n",
              "        vertical-align: middle;\n",
              "    }\n",
              "\n",
              "    .dataframe tbody tr th {\n",
              "        vertical-align: top;\n",
              "    }\n",
              "\n",
              "    .dataframe thead th {\n",
              "        text-align: right;\n",
              "    }\n",
              "</style>\n",
              "<table border=\"1\" class=\"dataframe\">\n",
              "  <thead>\n",
              "    <tr style=\"text-align: right;\">\n",
              "      <th></th>\n",
              "      <th>gender</th>\n",
              "      <th>age</th>\n",
              "      <th>admission_type_id</th>\n",
              "      <th>discharge_disposition_id</th>\n",
              "      <th>admission_source_id</th>\n",
              "      <th>time_in_hospital</th>\n",
              "      <th>num_lab_procedures</th>\n",
              "      <th>num_procedures</th>\n",
              "      <th>num_medications</th>\n",
              "      <th>number_outpatient</th>\n",
              "      <th>number_emergency</th>\n",
              "      <th>number_inpatient</th>\n",
              "      <th>number_diagnoses</th>\n",
              "      <th>max_glu_serum</th>\n",
              "      <th>A1Cresult</th>\n",
              "      <th>metformin</th>\n",
              "      <th>repaglinide</th>\n",
              "      <th>nateglinide</th>\n",
              "      <th>chlorpropamide</th>\n",
              "      <th>glimepiride</th>\n",
              "      <th>acetohexamide</th>\n",
              "      <th>glipizide</th>\n",
              "      <th>glyburide</th>\n",
              "      <th>tolbutamide</th>\n",
              "      <th>pioglitazone</th>\n",
              "      <th>rosiglitazone</th>\n",
              "      <th>acarbose</th>\n",
              "      <th>miglitol</th>\n",
              "      <th>troglitazone</th>\n",
              "      <th>tolazamide</th>\n",
              "      <th>examide</th>\n",
              "      <th>citoglipton</th>\n",
              "      <th>insulin</th>\n",
              "      <th>glyburide-metformin</th>\n",
              "      <th>glipizide-metformin</th>\n",
              "      <th>glimepiride-pioglitazone</th>\n",
              "      <th>metformin-rosiglitazone</th>\n",
              "      <th>metformin-pioglitazone</th>\n",
              "      <th>change</th>\n",
              "      <th>diabetesMed</th>\n",
              "      <th>readmitted</th>\n",
              "    </tr>\n",
              "  </thead>\n",
              "  <tbody>\n",
              "    <tr>\n",
              "      <th>0</th>\n",
              "      <td>0</td>\n",
              "      <td>10</td>\n",
              "      <td>6</td>\n",
              "      <td>25</td>\n",
              "      <td>1</td>\n",
              "      <td>1</td>\n",
              "      <td>41</td>\n",
              "      <td>0</td>\n",
              "      <td>1</td>\n",
              "      <td>0</td>\n",
              "      <td>0</td>\n",
              "      <td>0</td>\n",
              "      <td>1</td>\n",
              "      <td>0</td>\n",
              "      <td>0</td>\n",
              "      <td>0</td>\n",
              "      <td>0</td>\n",
              "      <td>0</td>\n",
              "      <td>0</td>\n",
              "      <td>0</td>\n",
              "      <td>0</td>\n",
              "      <td>0</td>\n",
              "      <td>0</td>\n",
              "      <td>0</td>\n",
              "      <td>0</td>\n",
              "      <td>0</td>\n",
              "      <td>0</td>\n",
              "      <td>0</td>\n",
              "      <td>0</td>\n",
              "      <td>0</td>\n",
              "      <td>0</td>\n",
              "      <td>0</td>\n",
              "      <td>0</td>\n",
              "      <td>0</td>\n",
              "      <td>0</td>\n",
              "      <td>0</td>\n",
              "      <td>0</td>\n",
              "      <td>0</td>\n",
              "      <td>0</td>\n",
              "      <td>0</td>\n",
              "      <td>0</td>\n",
              "    </tr>\n",
              "    <tr>\n",
              "      <th>1</th>\n",
              "      <td>0</td>\n",
              "      <td>20</td>\n",
              "      <td>1</td>\n",
              "      <td>1</td>\n",
              "      <td>7</td>\n",
              "      <td>3</td>\n",
              "      <td>59</td>\n",
              "      <td>0</td>\n",
              "      <td>18</td>\n",
              "      <td>0</td>\n",
              "      <td>0</td>\n",
              "      <td>0</td>\n",
              "      <td>9</td>\n",
              "      <td>0</td>\n",
              "      <td>0</td>\n",
              "      <td>0</td>\n",
              "      <td>0</td>\n",
              "      <td>0</td>\n",
              "      <td>0</td>\n",
              "      <td>0</td>\n",
              "      <td>0</td>\n",
              "      <td>0</td>\n",
              "      <td>0</td>\n",
              "      <td>0</td>\n",
              "      <td>0</td>\n",
              "      <td>0</td>\n",
              "      <td>0</td>\n",
              "      <td>0</td>\n",
              "      <td>0</td>\n",
              "      <td>0</td>\n",
              "      <td>0</td>\n",
              "      <td>0</td>\n",
              "      <td>2</td>\n",
              "      <td>0</td>\n",
              "      <td>0</td>\n",
              "      <td>0</td>\n",
              "      <td>0</td>\n",
              "      <td>0</td>\n",
              "      <td>1</td>\n",
              "      <td>1</td>\n",
              "      <td>2</td>\n",
              "    </tr>\n",
              "    <tr>\n",
              "      <th>2</th>\n",
              "      <td>0</td>\n",
              "      <td>30</td>\n",
              "      <td>1</td>\n",
              "      <td>1</td>\n",
              "      <td>7</td>\n",
              "      <td>2</td>\n",
              "      <td>11</td>\n",
              "      <td>5</td>\n",
              "      <td>13</td>\n",
              "      <td>2</td>\n",
              "      <td>0</td>\n",
              "      <td>1</td>\n",
              "      <td>6</td>\n",
              "      <td>0</td>\n",
              "      <td>0</td>\n",
              "      <td>0</td>\n",
              "      <td>0</td>\n",
              "      <td>0</td>\n",
              "      <td>0</td>\n",
              "      <td>0</td>\n",
              "      <td>0</td>\n",
              "      <td>1</td>\n",
              "      <td>0</td>\n",
              "      <td>0</td>\n",
              "      <td>0</td>\n",
              "      <td>0</td>\n",
              "      <td>0</td>\n",
              "      <td>0</td>\n",
              "      <td>0</td>\n",
              "      <td>0</td>\n",
              "      <td>0</td>\n",
              "      <td>0</td>\n",
              "      <td>0</td>\n",
              "      <td>0</td>\n",
              "      <td>0</td>\n",
              "      <td>0</td>\n",
              "      <td>0</td>\n",
              "      <td>0</td>\n",
              "      <td>0</td>\n",
              "      <td>1</td>\n",
              "      <td>0</td>\n",
              "    </tr>\n",
              "    <tr>\n",
              "      <th>3</th>\n",
              "      <td>1</td>\n",
              "      <td>40</td>\n",
              "      <td>1</td>\n",
              "      <td>1</td>\n",
              "      <td>7</td>\n",
              "      <td>2</td>\n",
              "      <td>44</td>\n",
              "      <td>1</td>\n",
              "      <td>16</td>\n",
              "      <td>0</td>\n",
              "      <td>0</td>\n",
              "      <td>0</td>\n",
              "      <td>7</td>\n",
              "      <td>0</td>\n",
              "      <td>0</td>\n",
              "      <td>0</td>\n",
              "      <td>0</td>\n",
              "      <td>0</td>\n",
              "      <td>0</td>\n",
              "      <td>0</td>\n",
              "      <td>0</td>\n",
              "      <td>0</td>\n",
              "      <td>0</td>\n",
              "      <td>0</td>\n",
              "      <td>0</td>\n",
              "      <td>0</td>\n",
              "      <td>0</td>\n",
              "      <td>0</td>\n",
              "      <td>0</td>\n",
              "      <td>0</td>\n",
              "      <td>0</td>\n",
              "      <td>0</td>\n",
              "      <td>2</td>\n",
              "      <td>0</td>\n",
              "      <td>0</td>\n",
              "      <td>0</td>\n",
              "      <td>0</td>\n",
              "      <td>0</td>\n",
              "      <td>1</td>\n",
              "      <td>1</td>\n",
              "      <td>0</td>\n",
              "    </tr>\n",
              "    <tr>\n",
              "      <th>4</th>\n",
              "      <td>1</td>\n",
              "      <td>50</td>\n",
              "      <td>1</td>\n",
              "      <td>1</td>\n",
              "      <td>7</td>\n",
              "      <td>1</td>\n",
              "      <td>51</td>\n",
              "      <td>0</td>\n",
              "      <td>8</td>\n",
              "      <td>0</td>\n",
              "      <td>0</td>\n",
              "      <td>0</td>\n",
              "      <td>5</td>\n",
              "      <td>0</td>\n",
              "      <td>0</td>\n",
              "      <td>0</td>\n",
              "      <td>0</td>\n",
              "      <td>0</td>\n",
              "      <td>0</td>\n",
              "      <td>0</td>\n",
              "      <td>0</td>\n",
              "      <td>1</td>\n",
              "      <td>0</td>\n",
              "      <td>0</td>\n",
              "      <td>0</td>\n",
              "      <td>0</td>\n",
              "      <td>0</td>\n",
              "      <td>0</td>\n",
              "      <td>0</td>\n",
              "      <td>0</td>\n",
              "      <td>0</td>\n",
              "      <td>0</td>\n",
              "      <td>1</td>\n",
              "      <td>0</td>\n",
              "      <td>0</td>\n",
              "      <td>0</td>\n",
              "      <td>0</td>\n",
              "      <td>0</td>\n",
              "      <td>1</td>\n",
              "      <td>1</td>\n",
              "      <td>0</td>\n",
              "    </tr>\n",
              "  </tbody>\n",
              "</table>\n",
              "</div>\n",
              "      <button class=\"colab-df-convert\" onclick=\"convertToInteractive('df-b607763f-360e-448d-92f5-454f609b6697')\"\n",
              "              title=\"Convert this dataframe to an interactive table.\"\n",
              "              style=\"display:none;\">\n",
              "        \n",
              "  <svg xmlns=\"http://www.w3.org/2000/svg\" height=\"24px\"viewBox=\"0 0 24 24\"\n",
              "       width=\"24px\">\n",
              "    <path d=\"M0 0h24v24H0V0z\" fill=\"none\"/>\n",
              "    <path d=\"M18.56 5.44l.94 2.06.94-2.06 2.06-.94-2.06-.94-.94-2.06-.94 2.06-2.06.94zm-11 1L8.5 8.5l.94-2.06 2.06-.94-2.06-.94L8.5 2.5l-.94 2.06-2.06.94zm10 10l.94 2.06.94-2.06 2.06-.94-2.06-.94-.94-2.06-.94 2.06-2.06.94z\"/><path d=\"M17.41 7.96l-1.37-1.37c-.4-.4-.92-.59-1.43-.59-.52 0-1.04.2-1.43.59L10.3 9.45l-7.72 7.72c-.78.78-.78 2.05 0 2.83L4 21.41c.39.39.9.59 1.41.59.51 0 1.02-.2 1.41-.59l7.78-7.78 2.81-2.81c.8-.78.8-2.07 0-2.86zM5.41 20L4 18.59l7.72-7.72 1.47 1.35L5.41 20z\"/>\n",
              "  </svg>\n",
              "      </button>\n",
              "      \n",
              "  <style>\n",
              "    .colab-df-container {\n",
              "      display:flex;\n",
              "      flex-wrap:wrap;\n",
              "      gap: 12px;\n",
              "    }\n",
              "\n",
              "    .colab-df-convert {\n",
              "      background-color: #E8F0FE;\n",
              "      border: none;\n",
              "      border-radius: 50%;\n",
              "      cursor: pointer;\n",
              "      display: none;\n",
              "      fill: #1967D2;\n",
              "      height: 32px;\n",
              "      padding: 0 0 0 0;\n",
              "      width: 32px;\n",
              "    }\n",
              "\n",
              "    .colab-df-convert:hover {\n",
              "      background-color: #E2EBFA;\n",
              "      box-shadow: 0px 1px 2px rgba(60, 64, 67, 0.3), 0px 1px 3px 1px rgba(60, 64, 67, 0.15);\n",
              "      fill: #174EA6;\n",
              "    }\n",
              "\n",
              "    [theme=dark] .colab-df-convert {\n",
              "      background-color: #3B4455;\n",
              "      fill: #D2E3FC;\n",
              "    }\n",
              "\n",
              "    [theme=dark] .colab-df-convert:hover {\n",
              "      background-color: #434B5C;\n",
              "      box-shadow: 0px 1px 3px 1px rgba(0, 0, 0, 0.15);\n",
              "      filter: drop-shadow(0px 1px 2px rgba(0, 0, 0, 0.3));\n",
              "      fill: #FFFFFF;\n",
              "    }\n",
              "  </style>\n",
              "\n",
              "      <script>\n",
              "        const buttonEl =\n",
              "          document.querySelector('#df-b607763f-360e-448d-92f5-454f609b6697 button.colab-df-convert');\n",
              "        buttonEl.style.display =\n",
              "          google.colab.kernel.accessAllowed ? 'block' : 'none';\n",
              "\n",
              "        async function convertToInteractive(key) {\n",
              "          const element = document.querySelector('#df-b607763f-360e-448d-92f5-454f609b6697');\n",
              "          const dataTable =\n",
              "            await google.colab.kernel.invokeFunction('convertToInteractive',\n",
              "                                                     [key], {});\n",
              "          if (!dataTable) return;\n",
              "\n",
              "          const docLinkHtml = 'Like what you see? Visit the ' +\n",
              "            '<a target=\"_blank\" href=https://colab.research.google.com/notebooks/data_table.ipynb>data table notebook</a>'\n",
              "            + ' to learn more about interactive tables.';\n",
              "          element.innerHTML = '';\n",
              "          dataTable['output_type'] = 'display_data';\n",
              "          await google.colab.output.renderOutput(dataTable, element);\n",
              "          const docLink = document.createElement('div');\n",
              "          docLink.innerHTML = docLinkHtml;\n",
              "          element.appendChild(docLink);\n",
              "        }\n",
              "      </script>\n",
              "    </div>\n",
              "  </div>\n",
              "  "
            ]
          },
          "metadata": {},
          "execution_count": 148
        }
      ],
      "source": [
        "df.head()"
      ]
    },
    {
      "cell_type": "code",
      "execution_count": null,
      "metadata": {
        "colab": {
          "base_uri": "https://localhost:8080/"
        },
        "id": "Rzo8VyGNm-SG",
        "outputId": "40cfa928-8c65-46e6-f729-1de20c1ffdfb"
      },
      "outputs": [
        {
          "output_type": "stream",
          "name": "stdout",
          "text": [
            "<class 'pandas.core.frame.DataFrame'>\n",
            "(101766, 40)\n"
          ]
        }
      ],
      "source": [
        "print(type(df))\n",
        "print(df.shape)\n",
        "df = df.to_numpy()"
      ]
    },
    {
      "cell_type": "markdown",
      "metadata": {
        "id": "kuKD4XMV-Fh8"
      },
      "source": [
        "# Model Exploration for multi-class classification using UCI ML Library"
      ]
    },
    {
      "cell_type": "code",
      "execution_count": null,
      "metadata": {
        "colab": {
          "base_uri": "https://localhost:8080/"
        },
        "id": "Jzfn-mugQQLi",
        "outputId": "ddc072b0-7a78-48df-a7b2-89966f70d0b2"
      },
      "outputs": [
        {
          "output_type": "stream",
          "name": "stdout",
          "text": [
            "[[ 0  6 25 ...  0  0  0]\n",
            " [ 0  1  1 ...  0  0  1]\n",
            " [ 0  1  1 ...  0  0  0]\n",
            " ...\n",
            " [ 1  2  1 ...  0  0  0]\n",
            " [ 1  1  1 ...  0  0  0]\n",
            " [ 1  6  1 ...  0  0  0]]\n",
            "[0 2 0 ... 0 0 1]\n",
            "[0 1 2]\n"
          ]
        }
      ],
      "source": [
        "X = df[0:5000,0:38]\n",
        "Y= df[0:5000,39]\n",
        "print(X)\n",
        "print(Y)\n",
        "X,Y = ml.shuffleData(X,Y)  \n",
        "Xtr, Xva, Ytr, Yva = ml.splitData(X, Y)\n",
        "X,Y = ml.shuffleData(X,Y)  \n",
        "print(np.unique(Y))\n",
        "\n"
      ]
    },
    {
      "cell_type": "code",
      "source": [
        "print(np.unique(Y))"
      ],
      "metadata": {
        "colab": {
          "base_uri": "https://localhost:8080/"
        },
        "id": "_PBx4bf8dyKM",
        "outputId": "7ec5f859-fbc3-4c8a-abed-d3adc3a20f0d"
      },
      "execution_count": null,
      "outputs": [
        {
          "output_type": "stream",
          "name": "stdout",
          "text": [
            "[0 1 2]\n"
          ]
        }
      ]
    },
    {
      "cell_type": "markdown",
      "metadata": {
        "id": "c73z8GiUAm3O"
      },
      "source": [
        "#Decision Trees"
      ]
    },
    {
      "cell_type": "code",
      "execution_count": null,
      "metadata": {
        "colab": {
          "base_uri": "https://localhost:8080/",
          "height": 353
        },
        "id": "UMrl0DpP-Yx4",
        "outputId": "817038f7-d4ab-435d-9c97-8352db1c83f0"
      },
      "outputs": [
        {
          "output_type": "stream",
          "name": "stdout",
          "text": [
            "[0.46825, 0.435, 0.365, 0.3415, 0.3355, 0.3355, 0.335, 0.3355, 0.3355, 0.335, 0.3355, 0.335, 0.335, 0.3355, 0.3355]\n",
            "[0.456, 0.45, 0.483, 0.506, 0.506, 0.505, 0.504, 0.506, 0.505, 0.504, 0.506, 0.504, 0.505, 0.506, 0.506]\n"
          ]
        },
        {
          "output_type": "execute_result",
          "data": {
            "text/plain": [
              "<matplotlib.legend.Legend at 0x7f59368d8b10>"
            ]
          },
          "metadata": {},
          "execution_count": 182
        },
        {
          "output_type": "display_data",
          "data": {
            "text/plain": [
              "<Figure size 432x288 with 1 Axes>"
            ],
            "image/png": "[encoded data removed]"
          },
          "metadata": {
            "needs_background": "light"
          }
        }
      ],
      "source": [
        "maxdepth=[2,5,10,15,30,50,100,150,200,250,300,350,400,450,500]\n",
        "ErrorT=[]\n",
        "ErrorV=[]\n",
        "\n",
        "for i in maxdepth:\n",
        "    learner = ml.dtree.treeClassify(Xtr, Ytr, maxDepth=i, minParent=10, minLeaf=10)\n",
        "    learner.err(Xtr, Ytr) # train AUC\n",
        "    ErrorT.append(learner.err(Xtr, Ytr))\n",
        "    ErrorV.append(learner.err(Xva, Yva))\n",
        "\n",
        "print(ErrorT)\n",
        "print(ErrorV)\n",
        "    \n",
        "plt.plot(maxdepth, ErrorT, 'r-', lw=3, label=\"Training Error\")\n",
        "plt.plot(maxdepth, ErrorV, 'b-', lw=3, label=\"Validation Error\")\n",
        "plt.title(\"Training and validation Error\")\n",
        "plt.legend()"
      ]
    },
    {
      "cell_type": "code",
      "execution_count": null,
      "metadata": {
        "colab": {
          "base_uri": "https://localhost:8080/"
        },
        "id": "hI3wFJ0vpvo-",
        "outputId": "a1652fff-31a6-4fb5-abff-ee7f5dec0357"
      },
      "outputs": [
        {
          "output_type": "stream",
          "name": "stdout",
          "text": [
            "[[ 0  6 25 ...  0  0  0]\n",
            " [ 0  1  1 ...  0  0  1]\n",
            " [ 0  1  1 ...  0  0  0]\n",
            " ...\n",
            " [ 1  1 18 ...  0  0  0]\n",
            " [ 0  1  1 ...  0  0  0]\n",
            " [ 1  1  3 ...  0  0  0]]\n",
            "[0 2 0 ... 0 0 0]\n",
            "[0.452125, 0.452125, 0.452125, 0.452125, 0.452125, 0.452125, 0.452125, 0.452125, 0.452125, 0.452125, 0.452125, 0.452125, 0.452125, 0.43325, 0.43325, 0.43325, 0.43325, 0.43325, 0.43325, 0.43325, 0.43325, 0.43325, 0.43325, 0.43325, 0.43325, 0.43325, 0.38525, 0.38525, 0.38525, 0.38525, 0.38525, 0.38525, 0.38525, 0.38525, 0.38525, 0.38525, 0.38525, 0.38525, 0.38525, 0.3415, 0.341875, 0.341625, 0.341625, 0.341875, 0.341875, 0.34175, 0.341875, 0.341625, 0.341625, 0.341875, 0.34175, 0.34175, 0.332375, 0.332375, 0.332125, 0.33225, 0.332, 0.33225, 0.332375, 0.332, 0.332, 0.33225, 0.332375, 0.332, 0.332, 0.332, 0.332, 0.33225, 0.332375, 0.332125, 0.332125, 0.33225, 0.332125, 0.332375, 0.332125, 0.332375, 0.332375, 0.332375, 0.33225, 0.332, 0.332125, 0.332375, 0.332125, 0.332, 0.332375, 0.33225, 0.332125, 0.332, 0.332125, 0.332, 0.332, 0.332, 0.332375, 0.332375, 0.332, 0.332375, 0.332375, 0.332375, 0.33225, 0.332, 0.332, 0.33225, 0.332125, 0.33225, 0.332375, 0.332375, 0.332125, 0.33225, 0.332125, 0.332, 0.33225, 0.332125, 0.332125, 0.332375, 0.332375, 0.332125, 0.332375, 0.332, 0.332125, 0.332, 0.332125, 0.332, 0.332125, 0.332375, 0.332125, 0.332375, 0.332375, 0.332375, 0.332125, 0.33225, 0.33225, 0.332125, 0.332, 0.33225, 0.332, 0.332, 0.33225, 0.332375, 0.332375, 0.332125, 0.332375, 0.332, 0.332125, 0.332125, 0.33225, 0.332125, 0.332, 0.33225, 0.33225, 0.332125, 0.332125, 0.332375, 0.332125, 0.332, 0.332125, 0.332375, 0.332375, 0.33225, 0.332, 0.332375, 0.332125, 0.332125, 0.332125, 0.332375, 0.332125, 0.332375, 0.332375, 0.33225, 0.332375]\n",
            "[0.451, 0.451, 0.451, 0.451, 0.451, 0.451, 0.451, 0.451, 0.451, 0.451, 0.451, 0.451, 0.451, 0.4385, 0.4385, 0.4385, 0.4385, 0.4385, 0.4385, 0.4385, 0.4385, 0.4385, 0.4385, 0.4385, 0.4385, 0.4385, 0.472, 0.472, 0.473, 0.472, 0.472, 0.473, 0.472, 0.472, 0.473, 0.473, 0.472, 0.473, 0.472, 0.4895, 0.49, 0.4895, 0.4895, 0.489, 0.489, 0.491, 0.489, 0.4895, 0.4905, 0.489, 0.49, 0.491, 0.4905, 0.4885, 0.491, 0.492, 0.491, 0.491, 0.4895, 0.491, 0.492, 0.4915, 0.4895, 0.492, 0.492, 0.491, 0.492, 0.492, 0.4915, 0.4915, 0.491, 0.4905, 0.492, 0.4895, 0.491, 0.4915, 0.4895, 0.49, 0.491, 0.492, 0.49, 0.4905, 0.491, 0.4915, 0.489, 0.491, 0.49, 0.4915, 0.4905, 0.492, 0.492, 0.4915, 0.4895, 0.49, 0.49, 0.4885, 0.4885, 0.49, 0.491, 0.4915, 0.491, 0.4925, 0.491, 0.4905, 0.489, 0.49, 0.492, 0.491, 0.4905, 0.491, 0.4905, 0.491, 0.4895, 0.49, 0.4895, 0.491, 0.4885, 0.492, 0.49, 0.4915, 0.49, 0.4915, 0.491, 0.4905, 0.49, 0.4905, 0.4895, 0.4885, 0.4905, 0.49, 0.49, 0.492, 0.491, 0.4915, 0.491, 0.4915, 0.4915, 0.49, 0.49, 0.4905, 0.4895, 0.491, 0.4915, 0.491, 0.4905, 0.49, 0.491, 0.4895, 0.4905, 0.49, 0.49, 0.4905, 0.491, 0.49, 0.49, 0.4885, 0.4895, 0.4915, 0.4915, 0.4905, 0.4905, 0.491, 0.49, 0.4905, 0.4905, 0.4895, 0.4895, 0.4925, 0.4895]\n",
            "Min Error from decision trees by varying maximum depth and minimum parent  is :  0.4385\n"
          ]
        }
      ],
      "source": [
        "X = df[0:10000,0:38]\n",
        "Y= df[0:10000,39]\n",
        "print(X)\n",
        "print(Y)\n",
        "X,Y = ml.shuffleData(X,Y)  \n",
        "Xtr, Xva, Ytr, Yva = ml.splitData(X, Y)\n",
        "maxdepth=[2,5,10,15,30,50,100,150,200,250,300,350,400]\n",
        "minparent=[2,5,10,15,30,50,100,150,200,250,300,350,400]\n",
        "ErrorT=[]\n",
        "ErrorV=[]\n",
        "\n",
        "for i in maxdepth:\n",
        "    for j in minparent:\n",
        "        learner = ml.dtree.treeClassify(Xtr, Ytr, maxDepth=i, minParent=10, minLeaf=10)\n",
        "        learner.err(Xtr, Ytr) # train AUC\n",
        "        ErrorT.append(learner.err(Xtr, Ytr))\n",
        "        ErrorV.append(learner.err(Xva, Yva))\n",
        "\n",
        "print(ErrorT)\n",
        "print(ErrorV)\n",
        "print(\"Min Error from decision trees by varying maximum depth and minimum parent  is : \", min(ErrorV))"
      ]
    },
    {
      "cell_type": "markdown",
      "metadata": {
        "id": "EkoiS9MPAq7m"
      },
      "source": [
        "# Random Forest"
      ]
    },
    {
      "cell_type": "code",
      "execution_count": null,
      "metadata": {
        "colab": {
          "base_uri": "https://localhost:8080/"
        },
        "id": "xlnXBpRe_Uf_",
        "outputId": "633518f2-ade5-422c-d69d-824780b2cc6a"
      },
      "outputs": [
        {
          "output_type": "stream",
          "name": "stdout",
          "text": [
            "0.43875\n",
            "0.469\n"
          ]
        }
      ],
      "source": [
        "tree_one = ml.dtree.treeClassify(Xtr, Ytr, minParent=45, maxDepth=25, nFeatures=6) # The nFeatures makes it random\n",
        "print(tree_one.err(Xtr, Ytr))\n",
        "print(tree_one.err(Xva, Yva))"
      ]
    },
    {
      "cell_type": "code",
      "execution_count": null,
      "metadata": {
        "id": "vuDmGiZe_apI"
      },
      "outputs": [],
      "source": [
        "np.random.seed(0) # Resetting the seed in case you ran other stuff.\n",
        "n_bags = 10\n",
        "bags = [] # self.learners\n",
        "for l in range(n_bags):\n",
        "# Each boosted data is the size of the original data.\n",
        "    Xi, Yi = ml.bootstrapData(Xtr, Ytr, Xtr.shape[0]) \n",
        "# Train the model on that draw\n",
        "    tree = ml.dtree.treeClassify(Xi, Yi, minParent=2, maxDepth=5, nFeatures=6)\n",
        "    bags.append(tree)"
      ]
    },
    {
      "cell_type": "code",
      "execution_count": null,
      "metadata": {
        "colab": {
          "base_uri": "https://localhost:8080/"
        },
        "id": "USYindhS_hB2",
        "outputId": "bb13da36-0b95-4b73-eb82-d3bcbc367473"
      },
      "outputs": [
        {
          "output_type": "stream",
          "name": "stdout",
          "text": [
            "Decision Tree : 0\n",
            "Train Error 0.4585\n",
            "Validation Error 0.48\n",
            "Decision Tree : 1\n",
            "Train Error 0.4815\n",
            "Validation Error 0.494\n",
            "Decision Tree : 2\n",
            "Train Error 0.4765\n",
            "Validation Error 0.501\n",
            "Decision Tree : 3\n",
            "Train Error 0.45325\n",
            "Validation Error 0.465\n",
            "Decision Tree : 4\n",
            "Train Error 0.455\n",
            "Validation Error 0.485\n",
            "Decision Tree : 5\n",
            "Train Error 0.47275\n",
            "Validation Error 0.483\n",
            "Decision Tree : 6\n",
            "Train Error 0.5025\n",
            "Validation Error 0.527\n",
            "Decision Tree : 7\n",
            "Train Error 0.472\n",
            "Validation Error 0.485\n",
            "Decision Tree : 8\n",
            "Train Error 0.45575\n",
            "Validation Error 0.474\n",
            "Decision Tree : 9\n",
            "Train Error 0.48325\n",
            "Validation Error 0.506\n",
            "[0.4585, 0.4815, 0.4765, 0.45325, 0.455, 0.47275, 0.5025, 0.472, 0.45575, 0.48325]\n",
            "[0.48, 0.494, 0.501, 0.465, 0.485, 0.483, 0.527, 0.485, 0.474, 0.506]\n",
            "0.49000000000000005\n"
          ]
        }
      ],
      "source": [
        "Train_Error = []\n",
        "Validation_Error = []\n",
        "num = list(range(10))\n",
        "for l in range(n_bags):\n",
        "    print(\"Decision Tree : {0}\".format(l))\n",
        "    print('Train Error', bags[l].err(Xtr, Ytr))\n",
        "    print('Validation Error', bags[l].err(Xva, Yva))\n",
        "    Train_Error.append(bags[l].err(Xtr, Ytr))\n",
        "    Validation_Error.append(bags[l].err(Xva, Yva))\n",
        "\n",
        "\n",
        "print(Train_Error)\n",
        "print(Validation_Error)\n",
        "Error = np.mean(Validation_Error)\n",
        "print(Error)"
      ]
    },
    {
      "cell_type": "code",
      "execution_count": null,
      "metadata": {
        "colab": {
          "base_uri": "https://localhost:8080/"
        },
        "id": "QbKVtXrdAP7f",
        "outputId": "3eb62945-770c-4d9e-ae2c-d9849afe0160"
      },
      "outputs": [
        {
          "output_type": "stream",
          "name": "stdout",
          "text": [
            "    Train Error: 0.4228\n",
            "Validation Error: 0.4390\n"
          ]
        }
      ],
      "source": [
        "class BaggedTree(ml.base.classifier):\n",
        "    def __init__(self, learners):\n",
        "\n",
        "        self.learners = learners\n",
        "    def predictSoft(self, X):\n",
        "\n",
        "        n_bags = len(self.learners)\n",
        "        preds = [self.learners[l].predictSoft(X) for l in range(n_bags)]\n",
        "        return np.mean(preds, axis=0)\n",
        "bt = BaggedTree(bags)\n",
        "bt.classes = np.unique(Y)\n",
        "print(\"{0:>15}: {1:.4f}\".format('Train Error', bt.err(Xtr, Ytr)))\n",
        "print(\"{0:>15}: {1:.4f}\".format('Validation Error', bt.err(Xva, Yva)))"
      ]
    },
    {
      "cell_type": "markdown",
      "metadata": {
        "id": "McqPnEqLA_kO"
      },
      "source": [
        "# KNN"
      ]
    },
    {
      "cell_type": "code",
      "execution_count": null,
      "metadata": {
        "colab": {
          "base_uri": "https://localhost:8080/",
          "height": 638
        },
        "id": "7PkYwWHIBBR6",
        "outputId": "815cadea-fda0-4e7a-d411-526017734074"
      },
      "outputs": [
        {
          "name": "stdout",
          "output_type": "stream",
          "text": [
            "[[0.         0.71428571 0.88888889 ... 0.         0.         0.        ]\n",
            " [0.         0.         0.         ... 0.         0.         1.        ]\n",
            " [0.         0.         0.         ... 0.         0.         0.        ]\n",
            " ...\n",
            " [0.5        0.         0.62962963 ... 0.         0.         0.        ]\n",
            " [0.         0.         0.         ... 0.         0.         0.        ]\n",
            " [0.5        0.         0.07407407 ... 0.         0.         0.        ]]\n",
            "[0. 1. 0. ... 0. 0. 0.]\n",
            "[[0.       0.       0.       0.       0.      ]\n",
            " [0.357375 0.343125 0.32175  0.3025   0.280125]\n",
            " [0.402    0.38875  0.369875 0.347875 0.3245  ]\n",
            " [0.43125  0.4165   0.40125  0.380625 0.357625]\n",
            " [0.4455   0.4315   0.414375 0.394625 0.373875]]\n",
            "[[0.563  0.563  0.563  0.563  0.563 ]\n",
            " [0.5135 0.5155 0.5135 0.517  0.52  ]\n",
            " [0.488  0.4905 0.491  0.4935 0.501 ]\n",
            " [0.4775 0.479  0.4795 0.481  0.4845]\n",
            " [0.475  0.4785 0.48   0.4835 0.483 ]]\n"
          ]
        },
        {
          "data": {
            "image/png": "[encoded data removed]",
            "text/plain": [
              "<Figure size 576x360 with 2 Axes>"
            ]
          },
          "metadata": {},
          "output_type": "display_data"
        }
      ],
      "source": [
        "X = df[0:10000,0:38]\n",
        "Y= df[0:10000,39]\n",
        "print(X)\n",
        "print(Y)\n",
        "X,Y = ml.shuffleData(X,Y)  \n",
        "Xtr, Xva, Ytr, Yva = ml.splitData(X, Y)\n",
        "\n",
        "K = [1, 10, 20, 50, 100]\n",
        "A = [1,2,3,4,5] #A = range(1,6)\n",
        "tr_error = np.zeros((len(K),len(A)))\n",
        "va_error = np.zeros((len(K),len(A)))\n",
        "for i,k in enumerate(K):\n",
        "    for j,a in enumerate(A):\n",
        "# train learner using k and a\n",
        "        learner = ml.knn.knnClassify()\n",
        "        learner.train(Xtr, Ytr, K=k, alpha=a)\n",
        "        tr_error[i][j] = learner.err(Xtr, Ytr)\n",
        "        va_error[i][j] = learner.err(Xva, Yva)\n",
        "# Now plot it\n",
        "print(tr_error)\n",
        "print(va_error)\n",
        "f, ax = plt.subplots(1, 1, figsize=(8, 5))\n",
        "cax = ax.matshow(tr_error, interpolation = 'nearest')\n",
        "#cax = ax.matshow(va_auc, interpolation = 'nearest')\n",
        "f.colorbar(cax)\n",
        "ax.set_xticklabels(['regularization']+A)\n",
        "ax.set_yticklabels(['KNN Values']+K)\n",
        "plt.show()"
      ]
    },
    {
      "cell_type": "code",
      "execution_count": null,
      "metadata": {
        "colab": {
          "base_uri": "https://localhost:8080/",
          "height": 497
        },
        "id": "GwbWdjL-v6bn",
        "outputId": "eae6ef4c-b040-4fc2-808e-5c8a4b498ecf"
      },
      "outputs": [
        {
          "name": "stdout",
          "output_type": "stream",
          "text": [
            "[[0.       0.       0.       0.       0.      ]\n",
            " [0.357375 0.343125 0.32175  0.3025   0.280125]\n",
            " [0.402    0.38875  0.369875 0.347875 0.3245  ]\n",
            " [0.43125  0.4165   0.40125  0.380625 0.357625]\n",
            " [0.4455   0.4315   0.414375 0.394625 0.373875]]\n",
            "[[0.563  0.563  0.563  0.563  0.563 ]\n",
            " [0.5135 0.5155 0.5135 0.517  0.52  ]\n",
            " [0.488  0.4905 0.491  0.4935 0.501 ]\n",
            " [0.4775 0.479  0.4795 0.481  0.4845]\n",
            " [0.475  0.4785 0.48   0.4835 0.483 ]]\n"
          ]
        },
        {
          "data": {
            "image/png": "[encoded data removed]",
            "text/plain": [
              "<Figure size 576x360 with 2 Axes>"
            ]
          },
          "metadata": {},
          "output_type": "display_data"
        }
      ],
      "source": [
        "# Now plot it\n",
        "print(tr_error)\n",
        "print(va_error)\n",
        "f, ax = plt.subplots(1, 1, figsize=(8, 5))\n",
        "#cax = ax.matshow(tr_error, interpolation = 'nearest')\n",
        "cax = ax.matshow(va_error, interpolation = 'nearest')\n",
        "f.colorbar(cax)\n",
        "ax.set_xticklabels(['regularization']+A)\n",
        "ax.set_yticklabels(['KNN Values']+K)\n",
        "plt.show()"
      ]
    },
    {
      "cell_type": "markdown",
      "metadata": {
        "id": "EBlGYL4G23OD"
      },
      "source": [
        "#Neural Network"
      ]
    },
    {
      "cell_type": "code",
      "execution_count": null,
      "metadata": {
        "colab": {
          "base_uri": "https://localhost:8080/"
        },
        "id": "G2dDuhpU4cvt",
        "outputId": "6f9462af-0c9d-4261-84a9-535013f1762f"
      },
      "outputs": [
        {
          "name": "stdout",
          "output_type": "stream",
          "text": [
            "[[ 0  6 25 ...  0  0  0]\n",
            " [ 0  1  1 ...  0  0  1]\n",
            " [ 0  1  1 ...  0  0  0]\n",
            " ...\n",
            " [ 1  1 18 ...  0  0  0]\n",
            " [ 0  1  1 ...  0  0  0]\n",
            " [ 1  1  3 ...  0  0  0]]\n",
            "[0 2 0 ... 0 0 0]\n",
            "(10000, 38)\n",
            "(10000,)\n",
            "[0 1 2]\n"
          ]
        }
      ],
      "source": [
        "X = df[0:10000,0:38]\n",
        "Y= df[0:10000,39]\n",
        "print(X)\n",
        "print(Y)\n",
        "X,Y = ml.shuffleData(X,Y)  \n",
        "Xtr, Xva, Ytr, Yva = ml.splitData(X, Y)\n",
        "print(X.shape)\n",
        "print(Y.shape)\n",
        "print(np.unique(Y))\n"
      ]
    },
    {
      "cell_type": "code",
      "execution_count": null,
      "metadata": {
        "colab": {
          "base_uri": "https://localhost:8080/",
          "height": 1000
        },
        "id": "wGVXzyW826Hv",
        "outputId": "cb4b0601-5d21-4f9a-88bc-ac9b29245fff"
      },
      "outputs": [
        {
          "output_type": "stream",
          "name": "stdout",
          "text": [
            "[[0.         0.71428571 0.88888889 ... 0.         0.         0.        ]\n",
            " [0.         0.         0.         ... 0.         0.         1.        ]\n",
            " [0.         0.         0.         ... 0.         0.         0.        ]\n",
            " ...\n",
            " [0.5        0.14285714 0.         ... 0.         0.         0.        ]\n",
            " [0.5        0.         0.         ... 0.         0.         0.        ]\n",
            " [0.5        0.71428571 0.         ... 0.         0.         0.        ]]\n",
            "[0.  1.  0.  ... 0.  0.  0.5]\n",
            "[38, 5, 3]\n",
            "it 1 : Jsur = 0.5922151245411443, J01 = 0.5065\n",
            "it 2 : Jsur = 0.5802181491319017, J01 = 0.49825\n",
            "it 4 : Jsur = 0.5729968018408043, J01 = 0.482\n",
            "it 8 : Jsur = 0.56846817530409, J01 = 0.47525\n",
            "it 16 : Jsur = 0.5653721399702856, J01 = 0.47025\n",
            "it 32 : Jsur = 0.5625126345996847, J01 = 0.46625\n",
            "it 64 : Jsur = 0.5600280417922556, J01 = 0.45925\n",
            "it 128 : Jsur = 0.5584043074355044, J01 = 0.45475\n",
            "it 256 : Jsur = 0.5573317595058476, J01 = 0.45575\n",
            "[38, 10, 3]\n",
            "it 1 : Jsur = 0.5918243490258008, J01 = 0.5065\n",
            "it 2 : Jsur = 0.5796842895601692, J01 = 0.49525\n",
            "it 4 : Jsur = 0.5725175824293891, J01 = 0.48375\n",
            "it 8 : Jsur = 0.5682081784780142, J01 = 0.473\n",
            "it 16 : Jsur = 0.5651534082450587, J01 = 0.47025\n",
            "it 32 : Jsur = 0.5622846592167916, J01 = 0.4635\n",
            "it 64 : Jsur = 0.5598395061565553, J01 = 0.45825\n",
            "it 128 : Jsur = 0.5581955273546796, J01 = 0.455\n",
            "it 256 : Jsur = 0.5571177559295015, J01 = 0.456\n",
            "[38, 25, 3]\n",
            "it 1 : Jsur = 0.591250449759125, J01 = 0.5065\n",
            "it 2 : Jsur = 0.5791926949699436, J01 = 0.49175\n",
            "it 4 : Jsur = 0.5724945154649677, J01 = 0.485\n",
            "it 8 : Jsur = 0.5683130742235832, J01 = 0.47575\n",
            "it 16 : Jsur = 0.5654385172258699, J01 = 0.4725\n",
            "it 32 : Jsur = 0.5629637062661046, J01 = 0.4695\n",
            "it 64 : Jsur = 0.5610898606027304, J01 = 0.462\n",
            "it 128 : Jsur = 0.5599982897814139, J01 = 0.45825\n",
            "it 256 : Jsur = 0.5592412972410766, J01 = 0.4535\n",
            "[38, 50, 3]\n",
            "it 1 : Jsur = 0.5895866767875577, J01 = 0.5065\n",
            "it 2 : Jsur = 0.5784093049278554, J01 = 0.489\n",
            "it 4 : Jsur = 0.5722299790793614, J01 = 0.48575\n",
            "it 8 : Jsur = 0.5681405802806437, J01 = 0.476\n",
            "it 16 : Jsur = 0.5652876005958958, J01 = 0.47225\n",
            "it 32 : Jsur = 0.5628357098078317, J01 = 0.46825\n",
            "it 64 : Jsur = 0.5609617799137366, J01 = 0.4625\n",
            "it 128 : Jsur = 0.5597620059387166, J01 = 0.45825\n",
            "it 256 : Jsur = 0.5588467501760348, J01 = 0.4555\n",
            "[38, 100, 3]\n",
            "it 1 : Jsur = 0.5883325877610864, J01 = 0.5065\n",
            "it 2 : Jsur = 0.5780358632904133, J01 = 0.488\n",
            "it 4 : Jsur = 0.572043729490309, J01 = 0.48325\n",
            "it 8 : Jsur = 0.5680292628822481, J01 = 0.4765\n",
            "it 16 : Jsur = 0.5652298577041954, J01 = 0.47125\n",
            "it 32 : Jsur = 0.5628981627496309, J01 = 0.4675\n",
            "it 64 : Jsur = 0.5612759228657636, J01 = 0.462\n",
            "it 128 : Jsur = 0.5604794927958275, J01 = 0.46075\n",
            "it 256 : Jsur = 0.5600712819077289, J01 = 0.4585\n",
            "[38, 5, 5, 3]\n",
            "it 1 : Jsur = 0.5928309425090666, J01 = 0.5065\n",
            "it 2 : Jsur = 0.5905357228134996, J01 = 0.5065\n",
            "it 4 : Jsur = 0.5894047567864936, J01 = 0.5065\n",
            "it 8 : Jsur = 0.5890198893726358, J01 = 0.5065\n",
            "it 16 : Jsur = 0.5889066472340635, J01 = 0.5065\n",
            "it 32 : Jsur = 0.5888650741144693, J01 = 0.5065\n",
            "it 64 : Jsur = 0.588851552867068, J01 = 0.5065\n",
            "it 128 : Jsur = 0.5888478004625637, J01 = 0.5065\n",
            "[38, 10, 10, 3]\n",
            "it 1 : Jsur = 0.5928307845754068, J01 = 0.5065\n",
            "it 2 : Jsur = 0.5905357136048794, J01 = 0.5065\n",
            "it 4 : Jsur = 0.5894047763609354, J01 = 0.5065\n",
            "it 8 : Jsur = 0.5890198911757955, J01 = 0.5065\n",
            "it 16 : Jsur = 0.5889066482731831, J01 = 0.5065\n",
            "it 32 : Jsur = 0.5888650743056898, J01 = 0.5065\n",
            "it 64 : Jsur = 0.5888515525528135, J01 = 0.5065\n",
            "it 128 : Jsur = 0.5888478000689282, J01 = 0.5065\n",
            "[38, 25, 25, 3]\n",
            "it 1 : Jsur = 0.5928305181181404, J01 = 0.5065\n",
            "it 2 : Jsur = 0.5905353307743965, J01 = 0.5065\n",
            "it 4 : Jsur = 0.5894047737190766, J01 = 0.5065\n",
            "it 8 : Jsur = 0.5890198819915221, J01 = 0.5065\n",
            "it 16 : Jsur = 0.5889066500193246, J01 = 0.5065\n",
            "it 32 : Jsur = 0.5888650803262273, J01 = 0.5065\n",
            "it 64 : Jsur = 0.5888515574667527, J01 = 0.5065\n",
            "it 128 : Jsur = 0.5888478034550754, J01 = 0.5065\n",
            "[38, 50, 50, 3]\n",
            "it 1 : Jsur = 0.5928296686877917, J01 = 0.5065\n",
            "it 2 : Jsur = 0.5905345541715541, J01 = 0.5065\n",
            "it 4 : Jsur = 0.5894048310084598, J01 = 0.5065\n",
            "it 8 : Jsur = 0.5890198824006458, J01 = 0.5065\n",
            "it 16 : Jsur = 0.5889066630225039, J01 = 0.5065\n",
            "it 32 : Jsur = 0.5888650898593025, J01 = 0.5065\n",
            "it 64 : Jsur = 0.588851544671067, J01 = 0.5065\n",
            "it 128 : Jsur = 0.5888477563420771, J01 = 0.5065\n",
            "[38, 100, 100, 3]\n",
            "it 1 : Jsur = 0.5928291208825508, J01 = 0.5065\n",
            "it 2 : Jsur = 0.5905340189247202, J01 = 0.5065\n",
            "it 4 : Jsur = 0.5894048251050363, J01 = 0.5065\n",
            "it 8 : Jsur = 0.5890198072773026, J01 = 0.5065\n",
            "it 16 : Jsur = 0.5889065554038342, J01 = 0.5065\n",
            "it 32 : Jsur = 0.5888649097938552, J01 = 0.5065\n",
            "it 64 : Jsur = 0.5888512178022685, J01 = 0.5065\n",
            "it 128 : Jsur = 0.5888471314646981, J01 = 0.5065\n",
            "[38, 5, 5, 5, 5, 3]\n",
            "it 1 : Jsur = 0.5928309139823726, J01 = 0.5065\n",
            "it 2 : Jsur = 0.5905357324197994, J01 = 0.5065\n",
            "it 4 : Jsur = 0.5894047621107971, J01 = 0.5065\n",
            "it 8 : Jsur = 0.5890198921741956, J01 = 0.5065\n",
            "it 16 : Jsur = 0.5889066497525477, J01 = 0.5065\n",
            "it 32 : Jsur = 0.5888650766642128, J01 = 0.5065\n",
            "it 64 : Jsur = 0.5888515555730142, J01 = 0.5065\n",
            "it 128 : Jsur = 0.588847803413952, J01 = 0.5065\n",
            "[38, 10, 10, 10, 10, 3]\n",
            "it 1 : Jsur = 0.5928305573539978, J01 = 0.5065\n",
            "it 2 : Jsur = 0.5905354989653528, J01 = 0.5065\n",
            "it 4 : Jsur = 0.589404783268086, J01 = 0.5065\n",
            "it 8 : Jsur = 0.5890198866495686, J01 = 0.5065\n",
            "it 16 : Jsur = 0.5889066494452424, J01 = 0.5065\n",
            "it 32 : Jsur = 0.588865077791011, J01 = 0.5065\n",
            "it 64 : Jsur = 0.5888515558952375, J01 = 0.5065\n",
            "it 128 : Jsur = 0.5888478034850171, J01 = 0.5065\n",
            "[38, 25, 25, 25, 25, 3]\n",
            "it 1 : Jsur = 0.5928308441377764, J01 = 0.5065\n",
            "it 2 : Jsur = 0.5905355241718462, J01 = 0.5065\n",
            "it 4 : Jsur = 0.5894047671184277, J01 = 0.5065\n",
            "it 8 : Jsur = 0.5890198848576481, J01 = 0.5065\n",
            "it 16 : Jsur = 0.5889066480052333, J01 = 0.5065\n",
            "it 32 : Jsur = 0.5888650771298387, J01 = 0.5065\n",
            "it 64 : Jsur = 0.5888515557365477, J01 = 0.5065\n",
            "it 128 : Jsur = 0.5888478034505953, J01 = 0.5065\n",
            "[38, 50, 50, 50, 50, 3]\n",
            "it 1 : Jsur = 0.5928299053316061, J01 = 0.5065\n",
            "it 2 : Jsur = 0.5905348726662542, J01 = 0.5065\n",
            "it 4 : Jsur = 0.5894048050805604, J01 = 0.5065\n",
            "it 8 : Jsur = 0.5890198670951668, J01 = 0.5065\n",
            "it 16 : Jsur = 0.5889066455736826, J01 = 0.5065\n",
            "it 32 : Jsur = 0.5888650795689842, J01 = 0.5065\n",
            "it 64 : Jsur = 0.5888515564710065, J01 = 0.5065\n",
            "it 128 : Jsur = 0.5888478036150534, J01 = 0.5065\n",
            "[38, 100, 100, 100, 100, 3]\n",
            "it 1 : Jsur = 0.5928282509931098, J01 = 0.5065\n",
            "it 2 : Jsur = 0.5905334771923358, J01 = 0.5065\n",
            "it 4 : Jsur = 0.589404860737641, J01 = 0.5065\n",
            "it 8 : Jsur = 0.589019825611853, J01 = 0.5065\n",
            "it 16 : Jsur = 0.5889066378224612, J01 = 0.5065\n",
            "it 32 : Jsur = 0.5888650838539293, J01 = 0.5065\n",
            "it 64 : Jsur = 0.5888515578168099, J01 = 0.5065\n",
            "it 128 : Jsur = 0.5888478039049907, J01 = 0.5065\n",
            "[38, 5, 5, 5, 5, 5, 5, 3]\n",
            "it 1 : Jsur = 0.5928310542751073, J01 = 0.5065\n",
            "it 2 : Jsur = 0.590535875550489, J01 = 0.5065\n",
            "it 4 : Jsur = 0.5894047644968864, J01 = 0.5065\n",
            "it 8 : Jsur = 0.5890198975294345, J01 = 0.5065\n",
            "it 16 : Jsur = 0.5889066511438159, J01 = 0.5065\n",
            "it 32 : Jsur = 0.588865076499391, J01 = 0.5065\n",
            "it 64 : Jsur = 0.5888515554997987, J01 = 0.5065\n",
            "it 128 : Jsur = 0.5888478033970639, J01 = 0.5065\n",
            "[38, 10, 10, 10, 10, 10, 10, 3]\n",
            "it 1 : Jsur = 0.5928307937870004, J01 = 0.5065\n",
            "it 2 : Jsur = 0.590535589149948, J01 = 0.5065\n",
            "it 4 : Jsur = 0.5894047619320493, J01 = 0.5065\n",
            "it 8 : Jsur = 0.5890198869620531, J01 = 0.5065\n",
            "it 16 : Jsur = 0.5889066484889197, J01 = 0.5065\n",
            "it 32 : Jsur = 0.5888650769034467, J01 = 0.5065\n",
            "it 64 : Jsur = 0.5888515556636994, J01 = 0.5065\n",
            "it 128 : Jsur = 0.5888478034344339, J01 = 0.5065\n",
            "[38, 25, 25, 25, 25, 25, 25, 3]\n",
            "it 1 : Jsur = 0.5928306437272342, J01 = 0.5065\n",
            "it 2 : Jsur = 0.5905354630404437, J01 = 0.5065\n",
            "it 4 : Jsur = 0.5894047743280914, J01 = 0.5065\n",
            "it 8 : Jsur = 0.5890198839440556, J01 = 0.5065\n",
            "it 16 : Jsur = 0.5889066482921532, J01 = 0.5065\n",
            "it 32 : Jsur = 0.5888650775269725, J01 = 0.5065\n",
            "it 64 : Jsur = 0.5888515558423406, J01 = 0.5065\n",
            "it 128 : Jsur = 0.5888478034737656, J01 = 0.5065\n",
            "[38, 50, 50, 50, 50, 50, 50, 3]\n",
            "it 1 : Jsur = 0.5928298383841019, J01 = 0.5065\n",
            "it 2 : Jsur = 0.5905348995347934, J01 = 0.5065\n",
            "it 4 : Jsur = 0.5894048218647064, J01 = 0.5065\n",
            "it 8 : Jsur = 0.5890198702125079, J01 = 0.5065\n",
            "it 16 : Jsur = 0.5889066471337262, J01 = 0.5065\n",
            "it 32 : Jsur = 0.5888650801003246, J01 = 0.5065\n",
            "it 64 : Jsur = 0.5888515565887037, J01 = 0.5065\n",
            "it 128 : Jsur = 0.5888478036387539, J01 = 0.5065\n",
            "[38, 100, 100, 100, 100, 100, 100, 3]\n",
            "it 1 : Jsur = 0.5928285368825699, J01 = 0.5065\n",
            "it 2 : Jsur = 0.5905333334750746, J01 = 0.5065\n",
            "it 4 : Jsur = 0.589404812937073, J01 = 0.5065\n",
            "it 8 : Jsur = 0.5890198137457356, J01 = 0.5065\n",
            "it 16 : Jsur = 0.5889066325144191, J01 = 0.5065\n",
            "it 32 : Jsur = 0.58886508242686, J01 = 0.5065\n",
            "it 64 : Jsur = 0.5888515575249796, J01 = 0.5065\n",
            "it 128 : Jsur = 0.5888478038522167, J01 = 0.5065\n",
            "[38, 5, 5, 5, 5, 5, 5, 5, 5, 3]\n",
            "it 1 : Jsur = 0.5928309611801191, J01 = 0.5065\n",
            "it 2 : Jsur = 0.590535779974183, J01 = 0.5065\n",
            "it 4 : Jsur = 0.5894047632493831, J01 = 0.5065\n",
            "it 8 : Jsur = 0.5890198939631323, J01 = 0.5065\n",
            "it 16 : Jsur = 0.5889066502604332, J01 = 0.5065\n",
            "it 32 : Jsur = 0.5888650766294821, J01 = 0.5065\n",
            "it 64 : Jsur = 0.5888515555526709, J01 = 0.5065\n",
            "it 128 : Jsur = 0.588847803409052, J01 = 0.5065\n",
            "[38, 10, 10, 10, 10, 10, 10, 10, 10, 3]\n",
            "it 1 : Jsur = 0.5928309692691773, J01 = 0.5065\n",
            "it 2 : Jsur = 0.5905358212573604, J01 = 0.5065\n",
            "it 4 : Jsur = 0.5894047689185473, J01 = 0.5065\n",
            "it 8 : Jsur = 0.5890198961836497, J01 = 0.5065\n",
            "it 16 : Jsur = 0.5889066510440143, J01 = 0.5065\n",
            "it 32 : Jsur = 0.5888650767464839, J01 = 0.5065\n",
            "it 64 : Jsur = 0.5888515555710616, J01 = 0.5065\n",
            "it 128 : Jsur = 0.5888478034127931, J01 = 0.5065\n",
            "[38, 25, 25, 25, 25, 25, 25, 25, 25, 3]\n",
            "it 1 : Jsur = 0.5928306394226824, J01 = 0.5065\n",
            "it 2 : Jsur = 0.5905355326573913, J01 = 0.5065\n",
            "it 4 : Jsur = 0.5894047798203119, J01 = 0.5065\n",
            "it 8 : Jsur = 0.589019887302359, J01 = 0.5065\n",
            "it 16 : Jsur = 0.5889066493870596, J01 = 0.5065\n",
            "it 32 : Jsur = 0.5888650776010681, J01 = 0.5065\n",
            "it 64 : Jsur = 0.5888515558432135, J01 = 0.5065\n",
            "it 128 : Jsur = 0.58884780347361, J01 = 0.5065\n",
            "[38, 50, 50, 50, 50, 50, 50, 50, 50, 3]\n",
            "it 1 : Jsur = 0.5928298860365354, J01 = 0.5065\n",
            "it 2 : Jsur = 0.5905347929335267, J01 = 0.5065\n",
            "it 4 : Jsur = 0.5894048006876537, J01 = 0.5065\n",
            "it 8 : Jsur = 0.5890198636120334, J01 = 0.5065\n",
            "it 16 : Jsur = 0.5889066444699408, J01 = 0.5065\n",
            "it 32 : Jsur = 0.5888650795409606, J01 = 0.5065\n",
            "it 64 : Jsur = 0.5888515564829396, J01 = 0.5065\n",
            "it 128 : Jsur = 0.5888478036169169, J01 = 0.5065\n",
            "[38, 100, 100, 100, 100, 100, 100, 100, 100, 3]\n",
            "it 1 : Jsur = 0.5928291093376995, J01 = 0.5065\n",
            "it 2 : Jsur = 0.5905337772318562, J01 = 0.5065\n",
            "it 4 : Jsur = 0.5894047942523815, J01 = 0.5065\n",
            "it 8 : Jsur = 0.589019826589021, J01 = 0.5065\n",
            "it 16 : Jsur = 0.5889066348264406, J01 = 0.5065\n",
            "it 32 : Jsur = 0.5888650810085121, J01 = 0.5065\n",
            "it 64 : Jsur = 0.5888515570805561, J01 = 0.5065\n",
            "it 128 : Jsur = 0.5888478037531422, J01 = 0.5065\n",
            "[[0.4555  0.4565  0.45425 0.4565  0.45925]\n",
            " [0.5065  0.5065  0.5065  0.5065  0.5065 ]\n",
            " [0.5065  0.5065  0.5065  0.5065  0.5065 ]\n",
            " [0.5065  0.5065  0.5065  0.5065  0.5065 ]\n",
            " [0.5065  0.5065  0.5065  0.5065  0.5065 ]]\n",
            "[[0.434 0.441 0.443 0.445 0.446]\n",
            " [0.496 0.496 0.496 0.496 0.496]\n",
            " [0.496 0.496 0.496 0.496 0.496]\n",
            " [0.496 0.496 0.496 0.496 0.496]\n",
            " [0.496 0.496 0.496 0.496 0.496]]\n"
          ]
        },
        {
          "output_type": "display_data",
          "data": {
            "text/plain": [
              "<Figure size 576x360 with 2 Axes>"
            ],
            "image/png": "[encoded data removed]"
          },
          "metadata": {
            "needs_background": "light"
          }
        },
        {
          "output_type": "display_data",
          "data": {
            "text/plain": [
              "<Figure size 576x360 with 2 Axes>"
            ],
            "image/png": "[encoded data removed]"
          },
          "metadata": {
            "needs_background": "light"
          }
        }
      ],
      "source": [
        "X = df[0:5000,0:38]\n",
        "Y= df[0:5000,39]\n",
        "print(X)\n",
        "print(Y)\n",
        "X,Y = ml.shuffleData(X,Y)  \n",
        "Xtr, Xva, Ytr, Yva = ml.splitData(X, Y)\n",
        "layers = [1, 2, 4, 6, 8]\n",
        "nodes = [5, 10, 25, 50, 100]\n",
        "input = [38]\n",
        "output = [3]\n",
        "\n",
        "tr_err = np.zeros((len(layers),len(nodes)))\n",
        "va_err= np.zeros((len(layers),len(nodes)))\n",
        "\n",
        "\n",
        "for n,k in enumerate(layers):\n",
        "    for i, j in enumerate(nodes):\n",
        "        \n",
        "        size = input+k*[j]+output\n",
        "        print(size)\n",
        "\n",
        "        nn = ml.nnet.nnetClassify()\n",
        "        nn.init_weights(size, 'random',Xtr, Ytr) # as many layers nodes you want\n",
        "\n",
        "        nn.train(Xtr, Ytr, stopTol=1e-8, stepsize=.25, stopIter=300)\n",
        "        tr_err[n][i] = nn.err(Xtr, Ytr)\n",
        "        va_err[n][i] = nn.err(Xva, Yva)\n",
        "\n",
        "print(tr_err)\n",
        "print(va_err)\n",
        "\n",
        "f, ax = plt.subplots(1, 1, figsize=(8, 5))\n",
        "cax = ax.matshow(tr_err, interpolation='nearest')\n",
        "f.colorbar(cax)\n",
        "ax.set_xticklabels(['']+nodes)\n",
        "ax.set_yticklabels(['']+layers)\n",
        "plt.show()\n",
        "\n",
        "\n",
        "f, ax = plt.subplots(1, 1, figsize=(8, 5))\n",
        "cax = ax.matshow(va_err, interpolation='nearest')\n",
        "f.colorbar(cax)\n",
        "ax.set_xticklabels(['']+nodes)\n",
        "ax.set_yticklabels(['']+layers)\n",
        "plt.show()\n"
      ]
    },
    {
      "cell_type": "code",
      "source": [
        "models = [\"Decision Trees\", \"Random Forest\", \"KNN\", \"Neural Network\"]\n",
        "Y_error = [0.4385, 0.4179, 0.475, 0.434]\n",
        "plt.plot(models, Y_error, 'r-', lw=3, label=\"Training Error\")\n",
        "plt.xticks(rotation=90)\n",
        "plt.title('Models Validation Error comparison')\n",
        "plt.show()"
      ],
      "metadata": {
        "colab": {
          "base_uri": "https://localhost:8080/",
          "height": 349
        },
        "id": "rDmZPrdds1be",
        "outputId": "fb111a06-c65f-4a9c-a753-af2d435e70a4"
      },
      "execution_count": null,
      "outputs": [
        {
          "output_type": "display_data",
          "data": {
            "text/plain": [
              "<Figure size 432x288 with 1 Axes>"
            ],
            "image/png": "[encoded data removed]"
          },
          "metadata": {
            "needs_background": "light"
          }
        }
      ]
    },
    {
      "cell_type": "markdown",
      "metadata": {
        "id": "Rbx7qYR6BaJr"
      },
      "source": [
        "#Advanced Libraries for multi-class classification"
      ]
    },
    {
      "cell_type": "code",
      "source": [
        "X = df[0:10000,0:38]\n",
        "Y= df[0:10000,39]\n",
        "print(X)\n",
        "print(Y)\n",
        "X,Y = ml.shuffleData(X,Y)  \n",
        "Xtr, Xva, Ytr, Yva = ml.splitData(X, Y)\n",
        "print(X.shape)\n",
        "print(Y.shape)\n",
        "print(np.unique(Y))\n"
      ],
      "metadata": {
        "colab": {
          "base_uri": "https://localhost:8080/"
        },
        "id": "eQP15aTFcU3Q",
        "outputId": "4f0467f3-3010-4f72-b09d-35758f9b2d49"
      },
      "execution_count": null,
      "outputs": [
        {
          "output_type": "stream",
          "name": "stdout",
          "text": [
            "[[0.         0.71428571 0.88888889 ... 0.         0.         0.        ]\n",
            " [0.         0.         0.         ... 0.         0.         1.        ]\n",
            " [0.         0.         0.         ... 0.         0.         0.        ]\n",
            " ...\n",
            " [0.5        0.         0.62962963 ... 0.         0.         0.        ]\n",
            " [0.         0.         0.         ... 0.         0.         0.        ]\n",
            " [0.5        0.         0.07407407 ... 0.         0.         0.        ]]\n",
            "[0. 1. 0. ... 0. 0. 0.]\n",
            "(10000, 38)\n",
            "(10000,)\n",
            "[0.  0.5 1. ]\n"
          ]
        }
      ]
    },
    {
      "cell_type": "markdown",
      "metadata": {
        "id": "PV5D6xolBx7o"
      },
      "source": [
        "Random Forest Classifier\n"
      ]
    },
    {
      "cell_type": "code",
      "source": [
        "X = df[:,0:38]\n",
        "Y= df[:,39]\n",
        "print(X)\n",
        "print(Y)\n",
        "X,Y = ml.shuffleData(X,Y)  \n",
        "Xtr, Xva, Ytr, Yva = ml.splitData(X, Y)\n",
        "X,Y = ml.shuffleData(X,Y)  \n",
        "print(np.unique(Y))\n",
        "\n",
        "from sklearn.ensemble import RandomForestClassifier\n",
        "from sklearn import metrics\n",
        "\n",
        "learner = RandomForestClassifier(n_estimators=100, max_depth=180, max_features=11)\n",
        "\n",
        "learner.fit(Xtr, Ytr)\n",
        "\n",
        "tr_pred = learner.predict(Xtr)\n",
        "predictions = learner.predict(Xva)\n",
        "print(\"Training Accuracy:\",metrics.accuracy_score(Ytr, tr_pred))\n",
        "print(\"Testing Accuracy:\",metrics.accuracy_score(Yva, predictions))"
      ],
      "metadata": {
        "colab": {
          "base_uri": "https://localhost:8080/"
        },
        "id": "yHPc_qcQdE-X",
        "outputId": "a1491ea4-75b3-492e-ce7b-4d9d04757f2c"
      },
      "execution_count": null,
      "outputs": [
        {
          "output_type": "stream",
          "name": "stdout",
          "text": [
            "[[ 0  6 25 ...  0  0  0]\n",
            " [ 0  1  1 ...  0  0  1]\n",
            " [ 0  1  1 ...  0  0  0]\n",
            " ...\n",
            " [ 1  1  1 ...  0  0  1]\n",
            " [ 0  2  3 ...  0  0  1]\n",
            " [ 1  1  1 ...  0  0  0]]\n",
            "[0 2 0 ... 0 0 0]\n",
            "[0 1 2]\n",
            "Training Accuracy: 0.999348998317222\n",
            "Testing Accuracy: 0.5678769714538398\n"
          ]
        }
      ]
    },
    {
      "cell_type": "markdown",
      "metadata": {
        "id": "HfGwJNSdFclC"
      },
      "source": [
        "Multilayer perceptron"
      ]
    },
    {
      "cell_type": "code",
      "execution_count": null,
      "metadata": {
        "id": "cd1QA3qPEH1y",
        "colab": {
          "base_uri": "https://localhost:8080/"
        },
        "outputId": "a02e49c1-1a44-49b8-ac20-189bc16725d2"
      },
      "outputs": [
        {
          "output_type": "stream",
          "name": "stdout",
          "text": [
            "Training Accuracy: 0.5872894992200263\n",
            "Testing Accuracy: 0.5801110401415025\n"
          ]
        }
      ],
      "source": [
        "from sklearn.neural_network import MLPClassifier\n",
        "learner = MLPClassifier(hidden_layer_sizes=(200,), alpha=0.05, learning_rate=\"adaptive\", activation='tanh', solver='adam', max_iter=500)\n",
        "learner.fit(Xtr, Ytr)\n",
        "tr_pred = learner.predict(Xtr)\n",
        "predictions = learner.predict(Xva)\n",
        "print(\"Training Accuracy:\",metrics.accuracy_score(Ytr, tr_pred))\n",
        "print(\"Testing Accuracy:\",metrics.accuracy_score(Yva, predictions))"
      ]
    },
    {
      "cell_type": "markdown",
      "source": [
        "KNN"
      ],
      "metadata": {
        "id": "RLTVzKV_iWbX"
      }
    },
    {
      "cell_type": "code",
      "execution_count": null,
      "metadata": {
        "id": "emGc6ixJKTfY",
        "colab": {
          "base_uri": "https://localhost:8080/"
        },
        "outputId": "5aba1a13-da7c-4df0-cc22-67df3936aa70"
      },
      "outputs": [
        {
          "output_type": "stream",
          "name": "stderr",
          "text": [
            "/usr/local/lib/python3.7/dist-packages/ipykernel_launcher.py:6: DeprecationWarning: The default dtype for empty Series will be 'object' instead of 'float64' in a future version. Specify a dtype explicitly to silence this warning.\n",
            "  \n"
          ]
        },
        {
          "output_type": "stream",
          "name": "stdout",
          "text": [
            "Highest value:  0.5245\n"
          ]
        }
      ],
      "source": [
        "# Plotting a graph for n_neighbors \n",
        "from sklearn import metrics\n",
        "from sklearn.neighbors import KNeighborsClassifier\n",
        "\n",
        "number_of_neighbours = list(range(1, 31))\n",
        "accuracy = pd.Series()\n",
        "x = range(1,31)\n",
        "\n",
        "for i in list(range(1, 31)):\n",
        "    knn_model = KNeighborsClassifier(n_neighbors = i) \n",
        "    knn_model.fit(Xtr, Ytr)\n",
        "    prediction = knn_model.predict(Xva)\n",
        "    accuracy = accuracy.append(pd.Series(metrics.accuracy_score(prediction, Yva)))\n",
        "\n",
        "\n",
        "print('Highest value: ',accuracy.values.max())"
      ]
    },
    {
      "cell_type": "code",
      "source": [
        "X = df[0:10000,0:38]\n",
        "Y= df[0:10000,39]\n",
        "print(X)\n",
        "print(Y)\n",
        "X,Y = ml.shuffleData(X,Y)  \n",
        "Xtr, Xva, Ytr, Yva = ml.splitData(X, Y)\n",
        "print(X.shape)\n",
        "print(Y.shape)\n",
        "print(np.unique(Y))"
      ],
      "metadata": {
        "colab": {
          "base_uri": "https://localhost:8080/"
        },
        "id": "DOH9FwRjqNkF",
        "outputId": "fed0d13f-0c62-45cf-80e3-02049a81e5cd"
      },
      "execution_count": null,
      "outputs": [
        {
          "output_type": "stream",
          "name": "stdout",
          "text": [
            "[[ 0  6 25 ...  0  0  0]\n",
            " [ 0  1  1 ...  0  0  1]\n",
            " [ 0  1  1 ...  0  0  0]\n",
            " ...\n",
            " [ 1  1 18 ...  0  0  0]\n",
            " [ 0  1  1 ...  0  0  0]\n",
            " [ 1  1  3 ...  0  0  0]]\n",
            "[0 2 0 ... 0 0 0]\n",
            "(10000, 38)\n",
            "(10000,)\n",
            "[0 1 2]\n"
          ]
        }
      ]
    },
    {
      "cell_type": "code",
      "execution_count": null,
      "metadata": {
        "id": "iXZJm4uHFkhW",
        "colab": {
          "base_uri": "https://localhost:8080/"
        },
        "outputId": "566c85cc-a549-40a0-e1c4-c864d0cbcf81"
      },
      "outputs": [
        {
          "output_type": "stream",
          "name": "stdout",
          "text": [
            "[0 1 2]\n",
            "Epoch 1/100\n",
            "250/250 [==============================] - 2s 3ms/step - loss: 0.0000e+00 - accuracy: 0.1126\n",
            "Epoch 2/100\n",
            "250/250 [==============================] - 1s 3ms/step - loss: 0.0000e+00 - accuracy: 0.1493\n",
            "Epoch 3/100\n",
            "250/250 [==============================] - 0s 2ms/step - loss: 0.0000e+00 - accuracy: 0.5033\n",
            "Epoch 4/100\n",
            "250/250 [==============================] - 0s 2ms/step - loss: 0.0000e+00 - accuracy: 0.5035\n",
            "Epoch 5/100\n",
            "250/250 [==============================] - 0s 2ms/step - loss: 0.0000e+00 - accuracy: 0.5035\n",
            "Epoch 6/100\n",
            "250/250 [==============================] - 0s 2ms/step - loss: 0.0000e+00 - accuracy: 0.5035\n",
            "Epoch 7/100\n",
            "250/250 [==============================] - 0s 2ms/step - loss: 0.0000e+00 - accuracy: 0.5035\n",
            "Epoch 8/100\n",
            "250/250 [==============================] - 0s 2ms/step - loss: 0.0000e+00 - accuracy: 0.5035\n",
            "Epoch 9/100\n",
            "250/250 [==============================] - 0s 2ms/step - loss: 0.0000e+00 - accuracy: 0.5035\n",
            "Epoch 10/100\n",
            "250/250 [==============================] - 0s 2ms/step - loss: 0.0000e+00 - accuracy: 0.5035\n",
            "Epoch 11/100\n",
            "250/250 [==============================] - 0s 2ms/step - loss: 0.0000e+00 - accuracy: 0.5035\n",
            "Epoch 12/100\n",
            "250/250 [==============================] - 0s 2ms/step - loss: 0.0000e+00 - accuracy: 0.5035\n",
            "Epoch 13/100\n",
            "250/250 [==============================] - 0s 2ms/step - loss: 0.0000e+00 - accuracy: 0.5035\n",
            "Epoch 14/100\n",
            "250/250 [==============================] - 0s 2ms/step - loss: 0.0000e+00 - accuracy: 0.5035\n",
            "Epoch 15/100\n",
            "250/250 [==============================] - 0s 2ms/step - loss: 0.0000e+00 - accuracy: 0.5035\n",
            "Epoch 16/100\n",
            "250/250 [==============================] - 0s 2ms/step - loss: 0.0000e+00 - accuracy: 0.5035\n",
            "Epoch 17/100\n",
            "250/250 [==============================] - 0s 2ms/step - loss: 0.0000e+00 - accuracy: 0.5035\n",
            "Epoch 18/100\n",
            "250/250 [==============================] - 0s 2ms/step - loss: 0.0000e+00 - accuracy: 0.5035\n",
            "Epoch 19/100\n",
            "250/250 [==============================] - 0s 2ms/step - loss: 0.0000e+00 - accuracy: 0.5035\n",
            "Epoch 20/100\n",
            "250/250 [==============================] - 0s 2ms/step - loss: 0.0000e+00 - accuracy: 0.5035\n",
            "Epoch 21/100\n",
            "250/250 [==============================] - 0s 2ms/step - loss: 0.0000e+00 - accuracy: 0.5035\n",
            "Epoch 22/100\n",
            "250/250 [==============================] - 0s 2ms/step - loss: 0.0000e+00 - accuracy: 0.5035\n",
            "Epoch 23/100\n",
            "250/250 [==============================] - 0s 2ms/step - loss: 0.0000e+00 - accuracy: 0.5035\n",
            "Epoch 24/100\n",
            "250/250 [==============================] - 1s 2ms/step - loss: 0.0000e+00 - accuracy: 0.5035\n",
            "Epoch 25/100\n",
            "250/250 [==============================] - 0s 2ms/step - loss: 0.0000e+00 - accuracy: 0.5035\n",
            "Epoch 26/100\n",
            "250/250 [==============================] - 0s 2ms/step - loss: 0.0000e+00 - accuracy: 0.5035\n",
            "Epoch 27/100\n",
            "250/250 [==============================] - 0s 2ms/step - loss: 0.0000e+00 - accuracy: 0.5035\n",
            "Epoch 28/100\n",
            "250/250 [==============================] - 0s 2ms/step - loss: 0.0000e+00 - accuracy: 0.5035\n",
            "Epoch 29/100\n",
            "250/250 [==============================] - 0s 2ms/step - loss: 0.0000e+00 - accuracy: 0.5035\n",
            "Epoch 30/100\n",
            "250/250 [==============================] - 0s 2ms/step - loss: 0.0000e+00 - accuracy: 0.5035\n",
            "Epoch 31/100\n",
            "250/250 [==============================] - 1s 2ms/step - loss: 0.0000e+00 - accuracy: 0.5035\n",
            "Epoch 32/100\n",
            "250/250 [==============================] - 0s 2ms/step - loss: 0.0000e+00 - accuracy: 0.5035\n",
            "Epoch 33/100\n",
            "250/250 [==============================] - 0s 2ms/step - loss: 0.0000e+00 - accuracy: 0.5035\n",
            "Epoch 34/100\n",
            "250/250 [==============================] - 0s 2ms/step - loss: 0.0000e+00 - accuracy: 0.5035\n",
            "Epoch 35/100\n",
            "250/250 [==============================] - 0s 2ms/step - loss: 0.0000e+00 - accuracy: 0.5035\n",
            "Epoch 36/100\n",
            "250/250 [==============================] - 0s 2ms/step - loss: 0.0000e+00 - accuracy: 0.5035\n",
            "Epoch 37/100\n",
            "250/250 [==============================] - 0s 2ms/step - loss: 0.0000e+00 - accuracy: 0.5035\n",
            "Epoch 38/100\n",
            "250/250 [==============================] - 0s 2ms/step - loss: 0.0000e+00 - accuracy: 0.5035\n",
            "Epoch 39/100\n",
            "250/250 [==============================] - 0s 2ms/step - loss: 0.0000e+00 - accuracy: 0.5035\n",
            "Epoch 40/100\n",
            "250/250 [==============================] - 0s 2ms/step - loss: 0.0000e+00 - accuracy: 0.5035\n",
            "Epoch 41/100\n",
            "250/250 [==============================] - 0s 2ms/step - loss: 0.0000e+00 - accuracy: 0.5035\n",
            "Epoch 42/100\n",
            "250/250 [==============================] - 0s 2ms/step - loss: 0.0000e+00 - accuracy: 0.5035\n",
            "Epoch 43/100\n",
            "250/250 [==============================] - 0s 2ms/step - loss: 0.0000e+00 - accuracy: 0.5035\n",
            "Epoch 44/100\n",
            "250/250 [==============================] - 0s 2ms/step - loss: 0.0000e+00 - accuracy: 0.5035\n",
            "Epoch 45/100\n",
            "250/250 [==============================] - 0s 2ms/step - loss: 0.0000e+00 - accuracy: 0.5035\n",
            "Epoch 46/100\n",
            "250/250 [==============================] - 0s 2ms/step - loss: 0.0000e+00 - accuracy: 0.5035\n",
            "Epoch 47/100\n",
            "250/250 [==============================] - 0s 2ms/step - loss: 0.0000e+00 - accuracy: 0.5035\n",
            "Epoch 48/100\n",
            "250/250 [==============================] - 0s 2ms/step - loss: 0.0000e+00 - accuracy: 0.5035\n",
            "Epoch 49/100\n",
            "250/250 [==============================] - 0s 2ms/step - loss: 0.0000e+00 - accuracy: 0.5035\n",
            "Epoch 50/100\n",
            "250/250 [==============================] - 0s 2ms/step - loss: 0.0000e+00 - accuracy: 0.5035\n",
            "Epoch 51/100\n",
            "250/250 [==============================] - 0s 2ms/step - loss: 0.0000e+00 - accuracy: 0.5035\n",
            "Epoch 52/100\n",
            "250/250 [==============================] - 1s 2ms/step - loss: 0.0000e+00 - accuracy: 0.5035\n",
            "Epoch 53/100\n",
            "250/250 [==============================] - 0s 2ms/step - loss: 0.0000e+00 - accuracy: 0.5035\n",
            "Epoch 54/100\n",
            "250/250 [==============================] - 0s 2ms/step - loss: 0.0000e+00 - accuracy: 0.5035\n",
            "Epoch 55/100\n",
            "250/250 [==============================] - 0s 2ms/step - loss: 0.0000e+00 - accuracy: 0.5035\n",
            "Epoch 56/100\n",
            "250/250 [==============================] - 0s 2ms/step - loss: 0.0000e+00 - accuracy: 0.5035\n",
            "Epoch 57/100\n",
            "250/250 [==============================] - 0s 2ms/step - loss: 0.0000e+00 - accuracy: 0.5035\n",
            "Epoch 58/100\n",
            "250/250 [==============================] - 0s 2ms/step - loss: 0.0000e+00 - accuracy: 0.5035\n",
            "Epoch 59/100\n",
            "250/250 [==============================] - 0s 2ms/step - loss: 0.0000e+00 - accuracy: 0.5035\n",
            "Epoch 60/100\n",
            "250/250 [==============================] - 1s 2ms/step - loss: 0.0000e+00 - accuracy: 0.5035\n",
            "Epoch 61/100\n",
            "250/250 [==============================] - 0s 2ms/step - loss: 0.0000e+00 - accuracy: 0.5035\n",
            "Epoch 62/100\n",
            "250/250 [==============================] - 0s 2ms/step - loss: 0.0000e+00 - accuracy: 0.5035\n",
            "Epoch 63/100\n",
            "250/250 [==============================] - 0s 2ms/step - loss: 0.0000e+00 - accuracy: 0.5035\n",
            "Epoch 64/100\n",
            "250/250 [==============================] - 0s 2ms/step - loss: 0.0000e+00 - accuracy: 0.5035\n",
            "Epoch 65/100\n",
            "250/250 [==============================] - 0s 2ms/step - loss: 0.0000e+00 - accuracy: 0.5035\n",
            "Epoch 66/100\n",
            "250/250 [==============================] - 0s 2ms/step - loss: 0.0000e+00 - accuracy: 0.5035\n",
            "Epoch 67/100\n",
            "250/250 [==============================] - 0s 2ms/step - loss: 0.0000e+00 - accuracy: 0.5035\n",
            "Epoch 68/100\n",
            "250/250 [==============================] - 0s 2ms/step - loss: 0.0000e+00 - accuracy: 0.5035\n",
            "Epoch 69/100\n",
            "250/250 [==============================] - 0s 2ms/step - loss: 0.0000e+00 - accuracy: 0.5035\n",
            "Epoch 70/100\n",
            "250/250 [==============================] - 0s 2ms/step - loss: 0.0000e+00 - accuracy: 0.5035\n",
            "Epoch 71/100\n",
            "250/250 [==============================] - 0s 2ms/step - loss: 0.0000e+00 - accuracy: 0.5035\n",
            "Epoch 72/100\n",
            "250/250 [==============================] - 0s 2ms/step - loss: 0.0000e+00 - accuracy: 0.5035\n",
            "Epoch 73/100\n",
            "250/250 [==============================] - 0s 2ms/step - loss: 0.0000e+00 - accuracy: 0.5035\n",
            "Epoch 74/100\n",
            "250/250 [==============================] - 0s 2ms/step - loss: 0.0000e+00 - accuracy: 0.5035\n",
            "Epoch 75/100\n",
            "250/250 [==============================] - 0s 2ms/step - loss: 0.0000e+00 - accuracy: 0.5035\n",
            "Epoch 76/100\n",
            "250/250 [==============================] - 0s 2ms/step - loss: 0.0000e+00 - accuracy: 0.5035\n",
            "Epoch 77/100\n",
            "250/250 [==============================] - 1s 2ms/step - loss: 0.0000e+00 - accuracy: 0.5035\n",
            "Epoch 78/100\n",
            "250/250 [==============================] - 0s 2ms/step - loss: 0.0000e+00 - accuracy: 0.5035\n",
            "Epoch 79/100\n",
            "250/250 [==============================] - 0s 2ms/step - loss: 0.0000e+00 - accuracy: 0.5035\n",
            "Epoch 80/100\n",
            "250/250 [==============================] - 0s 2ms/step - loss: 0.0000e+00 - accuracy: 0.5035\n",
            "Epoch 81/100\n",
            "250/250 [==============================] - 0s 2ms/step - loss: 0.0000e+00 - accuracy: 0.5035\n",
            "Epoch 82/100\n",
            "250/250 [==============================] - 0s 2ms/step - loss: 0.0000e+00 - accuracy: 0.5035\n",
            "Epoch 83/100\n",
            "250/250 [==============================] - 0s 2ms/step - loss: 0.0000e+00 - accuracy: 0.5035\n",
            "Epoch 84/100\n",
            "250/250 [==============================] - 0s 2ms/step - loss: 0.0000e+00 - accuracy: 0.5035\n",
            "Epoch 85/100\n",
            "250/250 [==============================] - 0s 2ms/step - loss: 0.0000e+00 - accuracy: 0.5035\n",
            "Epoch 86/100\n",
            "250/250 [==============================] - 0s 2ms/step - loss: 0.0000e+00 - accuracy: 0.5035\n",
            "Epoch 87/100\n",
            "250/250 [==============================] - 0s 2ms/step - loss: 0.0000e+00 - accuracy: 0.5035\n",
            "Epoch 88/100\n",
            "250/250 [==============================] - 0s 2ms/step - loss: 0.0000e+00 - accuracy: 0.5035\n",
            "Epoch 89/100\n",
            "250/250 [==============================] - 0s 2ms/step - loss: 0.0000e+00 - accuracy: 0.5035\n",
            "Epoch 90/100\n",
            "250/250 [==============================] - 0s 2ms/step - loss: 0.0000e+00 - accuracy: 0.5035\n",
            "Epoch 91/100\n",
            "250/250 [==============================] - 0s 2ms/step - loss: 0.0000e+00 - accuracy: 0.5035\n",
            "Epoch 92/100\n",
            "250/250 [==============================] - 0s 2ms/step - loss: 0.0000e+00 - accuracy: 0.5035\n",
            "Epoch 93/100\n",
            "250/250 [==============================] - 0s 2ms/step - loss: 0.0000e+00 - accuracy: 0.5035\n",
            "Epoch 94/100\n",
            "250/250 [==============================] - 0s 2ms/step - loss: 0.0000e+00 - accuracy: 0.5035\n",
            "Epoch 95/100\n",
            "250/250 [==============================] - 0s 2ms/step - loss: 0.0000e+00 - accuracy: 0.5035\n",
            "Epoch 96/100\n",
            "250/250 [==============================] - 0s 2ms/step - loss: 0.0000e+00 - accuracy: 0.5035\n",
            "Epoch 97/100\n",
            "250/250 [==============================] - 0s 2ms/step - loss: 0.0000e+00 - accuracy: 0.5035\n",
            "Epoch 98/100\n",
            "250/250 [==============================] - 0s 2ms/step - loss: 0.0000e+00 - accuracy: 0.5035\n",
            "Epoch 99/100\n",
            "250/250 [==============================] - 1s 2ms/step - loss: 0.0000e+00 - accuracy: 0.5035\n",
            "Epoch 100/100\n",
            "250/250 [==============================] - 1s 2ms/step - loss: 0.0000e+00 - accuracy: 0.5035\n",
            "Training Accuracy: 0.5035\n",
            "Testing Accuracy: 0.52\n"
          ]
        }
      ],
      "source": [
        "print(np.unique(Y))\n",
        "import tensorflow as tf\n",
        "\n",
        "learner = tf.keras.models.Sequential()\n",
        "learner.add(tf.keras.layers.Dense(units=6, activation='relu'))\n",
        "learner.add(tf.keras.layers.Dense(units=6, activation='relu'))\n",
        "learner.add(tf.keras.layers.Dense(units=1, activation='sigmoid'))\n",
        "learner.compile(optimizer = 'adam', loss = 'categorical_crossentropy', metrics = ['accuracy'])\n",
        "\n",
        "learner.fit(Xtr, Ytr, batch_size = 32, epochs = 100)\n",
        "\n",
        "tr_pred = learner.predict(Xtr)\n",
        "predictions = learner.predict(Xva)\n",
        "\n",
        "print(\"Training Accuracy:\",metrics.accuracy_score(Ytr, tr_pred))\n",
        "print(\"Testing Accuracy:\",metrics.accuracy_score(Yva, predictions))"
      ]
    },
    {
      "cell_type": "code",
      "source": [
        "models = [\"Random Forest\", \"Multilayer Perceptron\", \"KNN\", \"Neural Network\", \"Logistic Regression\"]\n",
        "Y_error = [0.56, 0.58, 0.5245, 0.5035, 0.539]\n",
        "plt.plot(models, Y_error, 'r-', lw=3, label=\"Training Error\")\n",
        "plt.xticks(rotation=90)\n",
        "plt.title('Models validation accuracy comparison')\n",
        "plt.show()"
      ],
      "metadata": {
        "colab": {
          "base_uri": "https://localhost:8080/",
          "height": 378
        },
        "id": "_EuBwglku_nW",
        "outputId": "92e24e5e-2466-4aa6-9413-3b6c8d167cce"
      },
      "execution_count": null,
      "outputs": [
        {
          "output_type": "display_data",
          "data": {
            "text/plain": [
              "<Figure size 432x288 with 1 Axes>"
            ],
            "image/png": "[encoded data removed]"
          },
          "metadata": {
            "needs_background": "light"
          }
        }
      ]
    },
    {
      "cell_type": "code",
      "source": [
        "from sklearn.linear_model import LogisticRegression\n",
        "#Balanced class weight, penalty = l1\n",
        "learner = LogisticRegression(fit_intercept = True,class_weight= 'balanced', penalty = 'l1', solver='liblinear')\n",
        "learner.fit(Xtr, Ytr)\n",
        "tr_pred = learner.predict(Xtr)\n",
        "predictions = learner.predict(Xva)\n",
        "print(\"Training Accuracy:\",metrics.accuracy_score(Ytr, tr_pred))\n",
        "print(\"Testing Accuracy:\",metrics.accuracy_score(Yva, predictions))"
      ],
      "metadata": {
        "colab": {
          "base_uri": "https://localhost:8080/"
        },
        "id": "SiN4-jfiwr8t",
        "outputId": "3c982cf7-96c6-4ac4-ceb1-c794e9a088ae"
      },
      "execution_count": null,
      "outputs": [
        {
          "output_type": "stream",
          "name": "stdout",
          "text": [
            "Training Accuracy: 0.536125\n",
            "Testing Accuracy: 0.539\n"
          ]
        }
      ]
    },
    {
      "cell_type": "code",
      "source": [
        "from sklearn.linear_model import LogisticRegression\n",
        "#Balanced class weight, penalty = l1\n",
        "learner = LogisticRegression(fit_intercept = True, penalty = 'l1', solver='liblinear')\n",
        "learner.fit(Xtr, Ytr)\n",
        "tr_pred = learner.predict(Xtr)\n",
        "predictions = learner.predict(Xva)\n",
        "print(\"Training Accuracy:\",metrics.accuracy_score(Ytr, tr_pred))\n",
        "print(\"Testing Accuracy:\",metrics.accuracy_score(Yva, predictions))"
      ],
      "metadata": {
        "colab": {
          "base_uri": "https://localhost:8080/"
        },
        "id": "HYPuVWeO6wIs",
        "outputId": "c99d5d4f-20a5-482c-e7bf-c0d01ab4938a"
      },
      "execution_count": null,
      "outputs": [
        {
          "output_type": "stream",
          "name": "stdout",
          "text": [
            "Training Accuracy: 0.550375\n",
            "Testing Accuracy: 0.539\n"
          ]
        }
      ]
    },
    {
      "cell_type": "markdown",
      "source": [
        "#Binary Classification"
      ],
      "metadata": {
        "id": "leqVBUJSxvMd"
      }
    },
    {
      "cell_type": "code",
      "source": [
        "import numpy as np\n",
        "import pandas as pd\n",
        "import matplotlib.pyplot as plt\n",
        "from sklearn.ensemble import RandomForestClassifier, AdaBoostClassifier\n",
        "from sklearn.model_selection import StratifiedKFold\n",
        "from sklearn.metrics import accuracy_score, roc_auc_score, recall_score\n",
        "from sklearn.preprocessing import OneHotEncoder\n",
        "from sklearn.model_selection import GridSearchCV\n",
        "from imblearn.over_sampling import SMOTE\n",
        "from imblearn.pipeline import Pipeline\n",
        "\n",
        "from collections import Counter"
      ],
      "metadata": {
        "id": "vTinQ6H5SFSX"
      },
      "execution_count": null,
      "outputs": []
    },
    {
      "cell_type": "code",
      "source": [
        "pd.set_option('display.max_columns', None)\n",
        "pd.set_option('display.max_rows', None)\n",
        "directory = os.path.join(os.getcwd(), 'dataset_diabetes')\n",
        "df = pd.read_csv(os.path.join(directory, '/content/diabetic_dataupdated2.csv'))\n",
        "df[\"gender\"].replace({\"Female\": 0, \"Male\": 1, \"Unknown/Invalid\": 2}, inplace=True)\n",
        "df[\"age\"].replace({\"[0-10)\": 10,\"[10-20)\": 20, \"[20-30)\": 30,  \"[30-40)\": 40, \"[40-50)\": 50}, inplace=True)\n",
        "df[\"age\"].replace({\"[50-60)\": 60,\"[60-70)\": 70, \"[70-80)\": 80,  \"[80-90)\": 90, \"[90-100)\": 100}, inplace=True)\n",
        "df[\"max_glu_serum\"].replace({\"None\": 0, \"Norm\": 1, \">200\": 2, \">300\": 3}, inplace=True)\n",
        "df[\"A1Cresult\"].replace({\"None\": 0, \"Norm\": 1, \">7\": 2, \">8\": 3}, inplace=True)\n",
        "df[\"metformin\"].replace({\"No\": 0, \"Steady\": 1, \"Up\": 2}, inplace=True)\n",
        "df[\"repaglinide\"].replace({\"No\": 0, \"Steady\": 1, \"Up\": 2}, inplace=True)\n",
        "df[\"readmitted\"].replace({\"NO\": 0, \"<30\": 0, \">30\": 1}, inplace=True)\n",
        "df[\"change\"].replace({\"NO\": 0, \"Ch\": 1}, inplace=True)\n",
        "df[\"diabetesMed\"].replace({\"NO\": 0, \"Yes\": 1}, inplace=True)\n",
        "df = df.replace(\"No\", 0)\n",
        "df = df.replace(\"Steady\", 1)\n",
        "df = df.replace(\"Ch\", 1)\n",
        "df = df.replace(\"Up\", 2)\n",
        "df = df.replace(\"Down\", 3)\n",
        "df = df.replace(\"Norm\", 0)\n",
        "df = df.replace(\"Yes\", 1)\n",
        "df[\"weight\"].replace({\"?\": 0, \"[0-25)\":25, \"[25-50)\": 50, \"[50-75)\": 75, \"[75-100)\": 100, \"[100-125)\": 125, \"[125-150)\": 150, \"[150-175)\": 175, \"[175-200)\": 200, \">200\" : 200}, inplace=True)\n",
        "df['weight'] = df['weight'].replace(0, df['weight'].mean())\n",
        "df.drop([\"encounter_id\", \"patient_nbr\", \"payer_code\", \"weight\"], axis=1, inplace=True)\n",
        "df.drop([ \"diag_1\",\t\"diag_2\", \"diag_3\"], axis=1, inplace=True)\n",
        "df.drop([ \"race\"], axis=1, inplace=True)\n",
        "df.drop([ \"medical_specialty\"], axis=1, inplace=True)\n",
        "\n",
        "df.drop([ \"age\"], axis=1, inplace=True)"
      ],
      "metadata": {
        "id": "nGdX9MffZitJ"
      },
      "execution_count": null,
      "outputs": []
    },
    {
      "cell_type": "code",
      "source": [
        "print(type(df))\n",
        "print(df.shape)\n",
        "df = df.to_numpy()"
      ],
      "metadata": {
        "colab": {
          "base_uri": "https://localhost:8080/"
        },
        "id": "SeA1US2GZ2aL",
        "outputId": "27f52930-1c44-41a0-f6a2-bee0a935c6f2"
      },
      "execution_count": null,
      "outputs": [
        {
          "output_type": "stream",
          "name": "stdout",
          "text": [
            "<class 'pandas.core.frame.DataFrame'>\n",
            "(101766, 40)\n"
          ]
        }
      ]
    },
    {
      "cell_type": "code",
      "source": [
        "X = df[0:10000,0:38]\n",
        "Y= df[0:10000,39]\n",
        "print(X)\n",
        "print(Y)\n",
        "X,Y = ml.shuffleData(X,Y)  \n",
        "Xtr, Xva, Ytr, Yva = ml.splitData(X, Y)\n",
        "from sklearn import preprocessing\n",
        "import numpy as np\n",
        "\n",
        "from sklearn.preprocessing import StandardScaler\n",
        "scaler = StandardScaler()\n",
        "Xtr = scaler.fit_transform(Xtr.astype(np.float64))\n",
        "\n",
        "print(X.shape)\n",
        "print(Y.shape)\n",
        "print(np.unique(Y))"
      ],
      "metadata": {
        "colab": {
          "base_uri": "https://localhost:8080/"
        },
        "id": "2Uoq7HH4ZuYR",
        "outputId": "64fa71d9-d8b9-4841-92bf-321057f5359f"
      },
      "execution_count": null,
      "outputs": [
        {
          "output_type": "stream",
          "name": "stdout",
          "text": [
            "[[ 0  6 25 ...  0  0  0]\n",
            " [ 0  1  1 ...  0  0  1]\n",
            " [ 0  1  1 ...  0  0  0]\n",
            " ...\n",
            " [ 1  1 18 ...  0  0  0]\n",
            " [ 0  1  1 ...  0  0  0]\n",
            " [ 1  1  3 ...  0  0  0]]\n",
            "[0 1 0 ... 0 0 0]\n",
            "(10000, 38)\n",
            "(10000,)\n",
            "[0 1]\n"
          ]
        }
      ]
    },
    {
      "cell_type": "code",
      "source": [
        "X = df[:,0:38]\n",
        "Y= df[:,39]\n",
        "print(X)\n",
        "print(Y)\n",
        "X,Y = ml.shuffleData(X,Y)  \n",
        "Xtr, Xva, Ytr, Yva = ml.splitData(X, Y)\n",
        "X,Y = ml.shuffleData(X,Y)  \n",
        "print(np.unique(Y))\n",
        "\n",
        "from sklearn.ensemble import RandomForestClassifier\n",
        "from sklearn import metrics\n",
        "\n",
        "learner = RandomForestClassifier(n_estimators=150, max_depth=150, max_features=11)\n",
        "\n",
        "learner.fit(Xtr, Ytr)\n",
        "\n",
        "tr_pred = learner.predict(Xtr)\n",
        "predictions = learner.predict(Xva)\n",
        "print(\"Training Accuracy:\",metrics.accuracy_score(Ytr, tr_pred))\n",
        "print(\"Testing Accuracy:\",metrics.accuracy_score(Yva, predictions))"
      ],
      "metadata": {
        "colab": {
          "base_uri": "https://localhost:8080/"
        },
        "id": "aGn2cTMKqEow",
        "outputId": "60d0b086-1e21-4a11-de76-254d81b0c615"
      },
      "execution_count": null,
      "outputs": [
        {
          "output_type": "stream",
          "name": "stdout",
          "text": [
            "[[ 0  6 25 ...  0  0  0]\n",
            " [ 0  1  1 ...  0  0  1]\n",
            " [ 0  1  1 ...  0  0  0]\n",
            " ...\n",
            " [ 1  1  1 ...  0  0  1]\n",
            " [ 0  2  3 ...  0  0  1]\n",
            " [ 1  1  1 ...  0  0  0]]\n",
            "[0 1 0 ... 0 0 0]\n",
            "[0 1]\n",
            "Training Accuracy: 0.9994963949246435\n",
            "Testing Accuracy: 0.6467842578489658\n"
          ]
        }
      ]
    },
    {
      "cell_type": "code",
      "source": [
        "from sklearn.neural_network import MLPClassifier\n",
        "learner = MLPClassifier(hidden_layer_sizes=(200,), alpha=0.05, learning_rate=\"adaptive\", activation='tanh', solver='adam', max_iter=500)\n",
        "learner.fit(Xtr, Ytr)\n",
        "tr_pred = learner.predict(Xtr)\n",
        "predictions = learner.predict(Xva)\n",
        "print(\"Training Accuracy:\",metrics.accuracy_score(Ytr, tr_pred))\n",
        "print(\"Testing Accuracy:\",metrics.accuracy_score(Yva, predictions))"
      ],
      "metadata": {
        "colab": {
          "base_uri": "https://localhost:8080/"
        },
        "id": "AlOhKpqbq3k-",
        "outputId": "1377a237-09c9-45e0-fec7-53c86405dd57"
      },
      "execution_count": null,
      "outputs": [
        {
          "output_type": "stream",
          "name": "stdout",
          "text": [
            "Training Accuracy: 0.667190743493054\n",
            "Testing Accuracy: 0.6602466466859922\n"
          ]
        }
      ]
    },
    {
      "cell_type": "code",
      "source": [
        "import tensorflow as tf\n",
        "\n",
        "learner = tf.keras.models.Sequential()\n",
        "learner.add(tf.keras.layers.Dense(units=6, activation='relu'))\n",
        "learner.add(tf.keras.layers.Dense(units=6, activation='relu'))\n",
        "learner.add(tf.keras.layers.Dense(units=1, activation='sigmoid'))\n",
        "learner.compile(optimizer = 'adam', loss = 'categorical_crossentropy', metrics = ['accuracy'])\n",
        "\n",
        "learner.fit(Xtr, Ytr, batch_size = 32, epochs = 100)\n",
        "\n",
        "tr_pred = learner.predict(Xtr)\n",
        "predictions = learner.predict(Xva)\n",
        "\n",
        "print(\"Training Accuracy:\",metrics.accuracy_score(Ytr, tr_pred))\n",
        "print(\"Testing Accuracy:\",metrics.accuracy_score(Yva, predictions))"
      ],
      "metadata": {
        "colab": {
          "base_uri": "https://localhost:8080/"
        },
        "id": "yQ7jNoKDrEEj",
        "outputId": "ac833875-83f4-4e80-951e-f7e925bb1895"
      },
      "execution_count": null,
      "outputs": [
        {
          "output_type": "stream",
          "name": "stdout",
          "text": [
            "Epoch 1/100\n",
            "2545/2545 [==============================] - 6s 2ms/step - loss: 0.0000e+00 - accuracy: 0.6498\n",
            "Epoch 2/100\n",
            "2545/2545 [==============================] - 5s 2ms/step - loss: 0.0000e+00 - accuracy: 0.6507\n",
            "Epoch 3/100\n",
            "2545/2545 [==============================] - 5s 2ms/step - loss: 0.0000e+00 - accuracy: 0.6507\n",
            "Epoch 4/100\n",
            "2545/2545 [==============================] - 5s 2ms/step - loss: 0.0000e+00 - accuracy: 0.6507\n",
            "Epoch 5/100\n",
            "2545/2545 [==============================] - 6s 2ms/step - loss: 0.0000e+00 - accuracy: 0.6507\n",
            "Epoch 6/100\n",
            "2545/2545 [==============================] - 5s 2ms/step - loss: 0.0000e+00 - accuracy: 0.6507\n",
            "Epoch 7/100\n",
            "2545/2545 [==============================] - 6s 2ms/step - loss: 0.0000e+00 - accuracy: 0.6507\n",
            "Epoch 8/100\n",
            "2545/2545 [==============================] - 5s 2ms/step - loss: 0.0000e+00 - accuracy: 0.6507\n",
            "Epoch 9/100\n",
            "2545/2545 [==============================] - 5s 2ms/step - loss: 0.0000e+00 - accuracy: 0.6507\n",
            "Epoch 10/100\n",
            "2545/2545 [==============================] - 6s 2ms/step - loss: 0.0000e+00 - accuracy: 0.6507\n",
            "Epoch 11/100\n",
            "2545/2545 [==============================] - 5s 2ms/step - loss: 0.0000e+00 - accuracy: 0.6507\n",
            "Epoch 12/100\n",
            "2545/2545 [==============================] - 5s 2ms/step - loss: 0.0000e+00 - accuracy: 0.6507\n",
            "Epoch 13/100\n",
            "2545/2545 [==============================] - 5s 2ms/step - loss: 0.0000e+00 - accuracy: 0.6507\n",
            "Epoch 14/100\n",
            "2545/2545 [==============================] - 5s 2ms/step - loss: 0.0000e+00 - accuracy: 0.6507\n",
            "Epoch 15/100\n",
            "2545/2545 [==============================] - 5s 2ms/step - loss: 0.0000e+00 - accuracy: 0.6507\n",
            "Epoch 16/100\n",
            "2545/2545 [==============================] - 5s 2ms/step - loss: 0.0000e+00 - accuracy: 0.6507\n",
            "Epoch 17/100\n",
            "2545/2545 [==============================] - 5s 2ms/step - loss: 0.0000e+00 - accuracy: 0.6507\n",
            "Epoch 18/100\n",
            "2545/2545 [==============================] - 5s 2ms/step - loss: 0.0000e+00 - accuracy: 0.6507\n",
            "Epoch 19/100\n",
            "2545/2545 [==============================] - 5s 2ms/step - loss: 0.0000e+00 - accuracy: 0.6507\n",
            "Epoch 20/100\n",
            "2545/2545 [==============================] - 5s 2ms/step - loss: 0.0000e+00 - accuracy: 0.6507\n",
            "Epoch 21/100\n",
            "2545/2545 [==============================] - 5s 2ms/step - loss: 0.0000e+00 - accuracy: 0.6507\n",
            "Epoch 22/100\n",
            "2545/2545 [==============================] - 5s 2ms/step - loss: 0.0000e+00 - accuracy: 0.6507\n",
            "Epoch 23/100\n",
            "2545/2545 [==============================] - 5s 2ms/step - loss: 0.0000e+00 - accuracy: 0.6507\n",
            "Epoch 24/100\n",
            "2545/2545 [==============================] - 5s 2ms/step - loss: 0.0000e+00 - accuracy: 0.6507\n",
            "Epoch 25/100\n",
            "2545/2545 [==============================] - 5s 2ms/step - loss: 0.0000e+00 - accuracy: 0.6507\n",
            "Epoch 26/100\n",
            "2545/2545 [==============================] - 5s 2ms/step - loss: 0.0000e+00 - accuracy: 0.6507\n",
            "Epoch 27/100\n",
            "2545/2545 [==============================] - 5s 2ms/step - loss: 0.0000e+00 - accuracy: 0.6507\n",
            "Epoch 28/100\n",
            "2545/2545 [==============================] - 5s 2ms/step - loss: 0.0000e+00 - accuracy: 0.6507\n",
            "Epoch 29/100\n",
            "2545/2545 [==============================] - 5s 2ms/step - loss: 0.0000e+00 - accuracy: 0.6507\n",
            "Epoch 30/100\n",
            "2545/2545 [==============================] - 5s 2ms/step - loss: 0.0000e+00 - accuracy: 0.6507\n",
            "Epoch 31/100\n",
            "2545/2545 [==============================] - 5s 2ms/step - loss: 0.0000e+00 - accuracy: 0.6507\n",
            "Epoch 32/100\n",
            "2545/2545 [==============================] - 5s 2ms/step - loss: 0.0000e+00 - accuracy: 0.6507\n",
            "Epoch 33/100\n",
            "2545/2545 [==============================] - 5s 2ms/step - loss: 0.0000e+00 - accuracy: 0.6507\n",
            "Epoch 34/100\n",
            "2545/2545 [==============================] - 5s 2ms/step - loss: 0.0000e+00 - accuracy: 0.6507\n",
            "Epoch 35/100\n",
            "2545/2545 [==============================] - 5s 2ms/step - loss: 0.0000e+00 - accuracy: 0.6507\n",
            "Epoch 36/100\n",
            "2545/2545 [==============================] - 5s 2ms/step - loss: 0.0000e+00 - accuracy: 0.6507\n",
            "Epoch 37/100\n",
            "2545/2545 [==============================] - 5s 2ms/step - loss: 0.0000e+00 - accuracy: 0.6507\n",
            "Epoch 38/100\n",
            "2545/2545 [==============================] - 5s 2ms/step - loss: 0.0000e+00 - accuracy: 0.6507\n",
            "Epoch 39/100\n",
            "2545/2545 [==============================] - 5s 2ms/step - loss: 0.0000e+00 - accuracy: 0.6507\n",
            "Epoch 40/100\n",
            "2545/2545 [==============================] - 5s 2ms/step - loss: 0.0000e+00 - accuracy: 0.6507\n",
            "Epoch 41/100\n",
            "2545/2545 [==============================] - 6s 2ms/step - loss: 0.0000e+00 - accuracy: 0.6507\n",
            "Epoch 42/100\n",
            "2545/2545 [==============================] - 8s 3ms/step - loss: 0.0000e+00 - accuracy: 0.6507\n",
            "Epoch 43/100\n",
            "2545/2545 [==============================] - 8s 3ms/step - loss: 0.0000e+00 - accuracy: 0.6507\n",
            "Epoch 44/100\n",
            "2545/2545 [==============================] - 5s 2ms/step - loss: 0.0000e+00 - accuracy: 0.6507\n",
            "Epoch 45/100\n",
            "2545/2545 [==============================] - 5s 2ms/step - loss: 0.0000e+00 - accuracy: 0.6507\n",
            "Epoch 46/100\n",
            "2545/2545 [==============================] - 5s 2ms/step - loss: 0.0000e+00 - accuracy: 0.6507\n",
            "Epoch 47/100\n",
            "2545/2545 [==============================] - 5s 2ms/step - loss: 0.0000e+00 - accuracy: 0.6507\n",
            "Epoch 48/100\n",
            "2545/2545 [==============================] - 5s 2ms/step - loss: 0.0000e+00 - accuracy: 0.6507\n",
            "Epoch 49/100\n",
            "2545/2545 [==============================] - 4s 2ms/step - loss: 0.0000e+00 - accuracy: 0.6507\n",
            "Epoch 50/100\n",
            "2545/2545 [==============================] - 5s 2ms/step - loss: 0.0000e+00 - accuracy: 0.6507\n",
            "Epoch 51/100\n",
            "2545/2545 [==============================] - 5s 2ms/step - loss: 0.0000e+00 - accuracy: 0.6507\n",
            "Epoch 52/100\n",
            "2545/2545 [==============================] - 5s 2ms/step - loss: 0.0000e+00 - accuracy: 0.6507\n",
            "Epoch 53/100\n",
            "2545/2545 [==============================] - 5s 2ms/step - loss: 0.0000e+00 - accuracy: 0.6507\n",
            "Epoch 54/100\n",
            "2545/2545 [==============================] - 4s 2ms/step - loss: 0.0000e+00 - accuracy: 0.6507\n",
            "Epoch 55/100\n",
            "2545/2545 [==============================] - 5s 2ms/step - loss: 0.0000e+00 - accuracy: 0.6507\n",
            "Epoch 56/100\n",
            "2545/2545 [==============================] - 4s 2ms/step - loss: 0.0000e+00 - accuracy: 0.6507\n",
            "Epoch 57/100\n",
            "2545/2545 [==============================] - 5s 2ms/step - loss: 0.0000e+00 - accuracy: 0.6507\n",
            "Epoch 58/100\n",
            "2545/2545 [==============================] - 5s 2ms/step - loss: 0.0000e+00 - accuracy: 0.6507\n",
            "Epoch 59/100\n",
            "2545/2545 [==============================] - 5s 2ms/step - loss: 0.0000e+00 - accuracy: 0.6507\n",
            "Epoch 60/100\n",
            "2545/2545 [==============================] - 5s 2ms/step - loss: 0.0000e+00 - accuracy: 0.6507\n",
            "Epoch 61/100\n",
            "2545/2545 [==============================] - 5s 2ms/step - loss: 0.0000e+00 - accuracy: 0.6507\n",
            "Epoch 62/100\n",
            "2545/2545 [==============================] - 5s 2ms/step - loss: 0.0000e+00 - accuracy: 0.6507\n",
            "Epoch 63/100\n",
            "2545/2545 [==============================] - 5s 2ms/step - loss: 0.0000e+00 - accuracy: 0.6507\n",
            "Epoch 64/100\n",
            "2545/2545 [==============================] - 5s 2ms/step - loss: 0.0000e+00 - accuracy: 0.6507\n",
            "Epoch 65/100\n",
            "2545/2545 [==============================] - 5s 2ms/step - loss: 0.0000e+00 - accuracy: 0.6507\n",
            "Epoch 66/100\n",
            "2545/2545 [==============================] - 5s 2ms/step - loss: 0.0000e+00 - accuracy: 0.6507\n",
            "Epoch 67/100\n",
            "2545/2545 [==============================] - 5s 2ms/step - loss: 0.0000e+00 - accuracy: 0.6507\n",
            "Epoch 68/100\n",
            "2545/2545 [==============================] - 5s 2ms/step - loss: 0.0000e+00 - accuracy: 0.6507\n",
            "Epoch 69/100\n",
            "2545/2545 [==============================] - 5s 2ms/step - loss: 0.0000e+00 - accuracy: 0.6507\n",
            "Epoch 70/100\n",
            "2545/2545 [==============================] - 5s 2ms/step - loss: 0.0000e+00 - accuracy: 0.6507\n",
            "Epoch 71/100\n",
            "2545/2545 [==============================] - 5s 2ms/step - loss: 0.0000e+00 - accuracy: 0.6507\n",
            "Epoch 72/100\n",
            "2545/2545 [==============================] - 5s 2ms/step - loss: 0.0000e+00 - accuracy: 0.6507\n",
            "Epoch 73/100\n",
            "2545/2545 [==============================] - 5s 2ms/step - loss: 0.0000e+00 - accuracy: 0.6507\n",
            "Epoch 74/100\n",
            "2545/2545 [==============================] - 5s 2ms/step - loss: 0.0000e+00 - accuracy: 0.6507\n",
            "Epoch 75/100\n",
            "2545/2545 [==============================] - 5s 2ms/step - loss: 0.0000e+00 - accuracy: 0.6507\n",
            "Epoch 76/100\n",
            "2545/2545 [==============================] - 5s 2ms/step - loss: 0.0000e+00 - accuracy: 0.6507\n",
            "Epoch 77/100\n",
            "2545/2545 [==============================] - 5s 2ms/step - loss: 0.0000e+00 - accuracy: 0.6507\n",
            "Epoch 78/100\n",
            "2545/2545 [==============================] - 5s 2ms/step - loss: 0.0000e+00 - accuracy: 0.6507\n",
            "Epoch 79/100\n",
            "2545/2545 [==============================] - 5s 2ms/step - loss: 0.0000e+00 - accuracy: 0.6507\n",
            "Epoch 80/100\n",
            "2545/2545 [==============================] - 5s 2ms/step - loss: 0.0000e+00 - accuracy: 0.6507\n",
            "Epoch 81/100\n",
            "2545/2545 [==============================] - 5s 2ms/step - loss: 0.0000e+00 - accuracy: 0.6507\n",
            "Epoch 82/100\n",
            "2545/2545 [==============================] - 5s 2ms/step - loss: 0.0000e+00 - accuracy: 0.6507\n",
            "Epoch 83/100\n",
            "2545/2545 [==============================] - 5s 2ms/step - loss: 0.0000e+00 - accuracy: 0.6507\n",
            "Epoch 84/100\n",
            "2545/2545 [==============================] - 5s 2ms/step - loss: 0.0000e+00 - accuracy: 0.6507\n",
            "Epoch 85/100\n",
            "2545/2545 [==============================] - 5s 2ms/step - loss: 0.0000e+00 - accuracy: 0.6507\n",
            "Epoch 86/100\n",
            "2545/2545 [==============================] - 5s 2ms/step - loss: 0.0000e+00 - accuracy: 0.6507\n",
            "Epoch 87/100\n",
            "2545/2545 [==============================] - 5s 2ms/step - loss: 0.0000e+00 - accuracy: 0.6507\n",
            "Epoch 88/100\n",
            "2545/2545 [==============================] - 5s 2ms/step - loss: 0.0000e+00 - accuracy: 0.6507\n",
            "Epoch 89/100\n",
            "2545/2545 [==============================] - 5s 2ms/step - loss: 0.0000e+00 - accuracy: 0.6507\n",
            "Epoch 90/100\n",
            "2545/2545 [==============================] - 5s 2ms/step - loss: 0.0000e+00 - accuracy: 0.6507\n",
            "Epoch 91/100\n",
            "2545/2545 [==============================] - 5s 2ms/step - loss: 0.0000e+00 - accuracy: 0.6507\n",
            "Epoch 92/100\n",
            "2545/2545 [==============================] - 5s 2ms/step - loss: 0.0000e+00 - accuracy: 0.6507\n",
            "Epoch 93/100\n",
            "2545/2545 [==============================] - 5s 2ms/step - loss: 0.0000e+00 - accuracy: 0.6507\n",
            "Epoch 94/100\n",
            "2545/2545 [==============================] - 5s 2ms/step - loss: 0.0000e+00 - accuracy: 0.6507\n",
            "Epoch 95/100\n",
            "2545/2545 [==============================] - 5s 2ms/step - loss: 0.0000e+00 - accuracy: 0.6507\n",
            "Epoch 96/100\n",
            "2545/2545 [==============================] - 5s 2ms/step - loss: 0.0000e+00 - accuracy: 0.6507\n",
            "Epoch 97/100\n",
            "2545/2545 [==============================] - 5s 2ms/step - loss: 0.0000e+00 - accuracy: 0.6507\n",
            "Epoch 98/100\n",
            "2545/2545 [==============================] - 5s 2ms/step - loss: 0.0000e+00 - accuracy: 0.6507\n",
            "Epoch 99/100\n",
            "2545/2545 [==============================] - 5s 2ms/step - loss: 0.0000e+00 - accuracy: 0.6507\n",
            "Epoch 100/100\n",
            "2545/2545 [==============================] - 5s 2ms/step - loss: 0.0000e+00 - accuracy: 0.6507\n",
            "Training Accuracy: 0.650682323461855\n",
            "Testing Accuracy: 0.6508622807448533\n"
          ]
        }
      ]
    },
    {
      "cell_type": "code",
      "source": [
        "from sklearn import metrics\n",
        "from sklearn.neighbors import KNeighborsClassifier\n",
        "\n",
        "number_of_neighbours = list(range(1, 31))\n",
        "accuracy = pd.Series()\n",
        "x = range(1,31)\n",
        "\n",
        "for i in list(range(1, 31)):\n",
        "    knn_model = KNeighborsClassifier(n_neighbors = i) \n",
        "    knn_model.fit(Xtr, Ytr)\n",
        "    prediction = knn_model.predict(Xva)\n",
        "    accuracy = accuracy.append(pd.Series(metrics.accuracy_score(prediction, Yva)))\n",
        "\n",
        "\n",
        "print('Highest value: ',accuracy.values.max())"
      ],
      "metadata": {
        "colab": {
          "base_uri": "https://localhost:8080/"
        },
        "id": "72gF6peXsTjl",
        "outputId": "c4c017e6-3dd2-485c-e8ad-958bd44c0581"
      },
      "execution_count": null,
      "outputs": [
        {
          "output_type": "stream",
          "name": "stderr",
          "text": [
            "/usr/local/lib/python3.7/dist-packages/ipykernel_launcher.py:5: DeprecationWarning: The default dtype for empty Series will be 'object' instead of 'float64' in a future version. Specify a dtype explicitly to silence this warning.\n",
            "  \"\"\"\n"
          ]
        },
        {
          "output_type": "stream",
          "name": "stdout",
          "text": [
            "Highest value:  0.6495356949835405\n"
          ]
        }
      ]
    },
    {
      "cell_type": "code",
      "source": [
        "from sklearn.linear_model import LogisticRegression\n",
        "#Balanced class weight, penalty = l1\n",
        "learner = LogisticRegression(fit_intercept = True,class_weight= 'balanced', penalty = 'l1', solver='liblinear')\n",
        "learner.fit(Xtr, Ytr)\n",
        "tr_pred = learner.predict(Xtr)\n",
        "predictions = learner.predict(Xva)\n",
        "print(\"Training Accuracy:\",metrics.accuracy_score(Ytr, tr_pred))\n",
        "print(\"Testing Accuracy:\",metrics.accuracy_score(Yva, predictions))"
      ],
      "metadata": {
        "colab": {
          "base_uri": "https://localhost:8080/"
        },
        "id": "6ONAZXkguSgW",
        "outputId": "62c71cd6-6ee7-4ddd-c176-153fefbe35ec"
      },
      "execution_count": null,
      "outputs": [
        {
          "output_type": "stream",
          "name": "stdout",
          "text": [
            "Training Accuracy: 0.5946716126417156\n",
            "Testing Accuracy: 0.594113889844249\n"
          ]
        }
      ]
    },
    {
      "cell_type": "code",
      "source": [
        "models = [\"Random Forest\", \"Multilayer Perceptron\", \"KNN\", \"Neural Network\", \"Logistic Regression\"]\n",
        "Y_error = [0.646, 0.66, 0.649, 0.65, 0.59]\n",
        "plt.plot(models, Y_error, 'r-', lw=3, label=\"Training Error\")\n",
        "plt.xticks(rotation=90)\n",
        "plt.title('Models accuracy comparison for binarized classes')\n",
        "plt.show()"
      ],
      "metadata": {
        "colab": {
          "base_uri": "https://localhost:8080/",
          "height": 378
        },
        "id": "lMNP-AMZtp-U",
        "outputId": "8c156bf8-b831-413a-e12f-8c2a5f8c6abd"
      },
      "execution_count": null,
      "outputs": [
        {
          "output_type": "display_data",
          "data": {
            "text/plain": [
              "<Figure size 432x288 with 1 Axes>"
            ],
            "image/png": "[encoded data removed]"
          },
          "metadata": {
            "needs_background": "light"
          }
        }
      ]
    },
    {
      "cell_type": "markdown",
      "source": [
        "#Grid Search and PipeLine"
      ],
      "metadata": {
        "id": "gMkzer4jx25E"
      }
    },
    {
      "cell_type": "markdown",
      "source": [
        "###Logistic Regression Pipeline"
      ],
      "metadata": {
        "id": "G7m134ljx3Uf"
      }
    },
    {
      "cell_type": "code",
      "source": [
        "import os\n",
        "import pandas as pd\n",
        "from sklearn.model_selection import train_test_split\n",
        "import numpy as np\n",
        "import matplotlib.pyplot as plt\n",
        "import mltools as ml\n",
        "from sklearn.model_selection import cross_validate\n",
        "from imblearn.over_sampling import SMOTE\n",
        "from collections import Counter\n",
        "from imblearn.over_sampling import RandomOverSampler\n",
        "from sklearn import metrics\n",
        "from sklearn.model_selection import cross_val_score\n",
        "from sklearn.metrics import accuracy_score\n",
        "from sklearn.metrics import balanced_accuracy_score\n",
        "from sklearn.model_selection import GridSearchCV\n",
        "from imblearn.pipeline import Pipeline"
      ],
      "metadata": {
        "id": "GytuR8AjgXPR"
      },
      "execution_count": null,
      "outputs": []
    },
    {
      "cell_type": "code",
      "source": [
        "X = df[0:10000,0:38]\n",
        "Y= df[0:10000,39]\n",
        "print(X)\n",
        "print(Y)\n",
        "X,Y = ml.shuffleData(X,Y)  \n",
        "Xtr, Xva, Ytr, Yva = ml.splitData(X, Y)\n",
        "from sklearn import preprocessing\n",
        "import numpy as np\n",
        "\n",
        "from sklearn.preprocessing import StandardScaler\n",
        "scaler = StandardScaler()\n",
        "Xtr = scaler.fit_transform(Xtr.astype(np.float64))\n",
        "\n",
        "print(X.shape)\n",
        "print(Y.shape)\n",
        "print(np.unique(Y))"
      ],
      "metadata": {
        "colab": {
          "base_uri": "https://localhost:8080/"
        },
        "id": "bRRM9DUZyP6U",
        "outputId": "dc20bf99-6249-473b-9f71-b7a956d19e8a"
      },
      "execution_count": null,
      "outputs": [
        {
          "output_type": "stream",
          "name": "stdout",
          "text": [
            "[[ 0  6 25 ...  0  0  0]\n",
            " [ 0  1  1 ...  0  0  1]\n",
            " [ 0  1  1 ...  0  0  0]\n",
            " ...\n",
            " [ 1  1 18 ...  0  0  0]\n",
            " [ 0  1  1 ...  0  0  0]\n",
            " [ 1  1  3 ...  0  0  0]]\n",
            "[0 1 0 ... 0 0 0]\n",
            "(10000, 38)\n",
            "(10000,)\n",
            "[0 1]\n"
          ]
        }
      ]
    },
    {
      "cell_type": "code",
      "source": [
        "smote = SMOTE(random_state=0)\n",
        "Xtr_smote, Ytr_smote = smote.fit_resample(Xtr, Ytr)"
      ],
      "metadata": {
        "id": "_JMVlHhEUz6b"
      },
      "execution_count": null,
      "outputs": []
    },
    {
      "cell_type": "code",
      "source": [
        "\n",
        "from sklearn.linear_model import LogisticRegression\n",
        "#Balanced class weight, penalty = l1\n",
        "reg = LogisticRegression(fit_intercept = True,class_weight= 'balanced', penalty = 'l1', solver='liblinear').fit(Xtr, Ytr)\n",
        "print(cross_val_score(reg, Xtr, Ytr, cv = 4, scoring = 'roc_auc'))\n",
        "#Balanced class weights, penalty = l2\n",
        "reg_l2_balanced = LogisticRegression(fit_intercept = True,class_weight= 'balanced', penalty = 'l2').fit(Xtr, Ytr)\n",
        "print(cross_val_score(reg_l2_balanced, Xtr, Ytr, cv = 4, scoring = 'roc_auc'))\n",
        "\n"
      ],
      "metadata": {
        "colab": {
          "base_uri": "https://localhost:8080/"
        },
        "id": "7sdYAotRXniY",
        "outputId": "a448f0af-7847-41e7-cfee-0d9a962cb883"
      },
      "execution_count": null,
      "outputs": [
        {
          "output_type": "stream",
          "name": "stdout",
          "text": [
            "[0.60685229 0.59962324 0.62117477 0.61283111]\n",
            "[0.60657469 0.5996084  0.62109    0.61274423]\n"
          ]
        }
      ]
    },
    {
      "cell_type": "code",
      "source": [
        "Crossval1 = [0.62087709, 0.60207826, 0.61099426, 0.62097484]\n",
        "Crossval2 = [0.62075449, 0.60197151, 0.6107513,  0.62099597]\n",
        "print(np.mean(Crossval1))\n",
        "print(np.mean(Crossval2))"
      ],
      "metadata": {
        "colab": {
          "base_uri": "https://localhost:8080/"
        },
        "id": "7vCgBKSiiAxG",
        "outputId": "48c4b0db-48d0-4c66-e7b6-f909c9c37347"
      },
      "execution_count": null,
      "outputs": [
        {
          "output_type": "stream",
          "name": "stdout",
          "text": [
            "0.6137311125\n",
            "0.6136183175000001\n"
          ]
        }
      ]
    },
    {
      "cell_type": "code",
      "source": [
        "#Balanced class weights, penalty = l2\n",
        "reg_l2_balanced = LogisticRegression(fit_intercept = True).fit(Xtr, Ytr)\n",
        "print(cross_val_score(reg_l2_balanced, Xtr, Ytr, cv = 4, scoring = 'roc_auc'))\n",
        "#Non-balanced classes, l1 penalty\n",
        "reg_l1_nb = LogisticRegression(fit_intercept = True, penalty = 'l1', solver='liblinear').fit(Xtr, Ytr)\n",
        "print(cross_val_score(reg_l1_nb, Xtr, Ytr, cv = 4, scoring = 'roc_auc'))"
      ],
      "metadata": {
        "colab": {
          "base_uri": "https://localhost:8080/"
        },
        "id": "QFAYutpYYUiS",
        "outputId": "17eebc5f-7ebe-4cbd-9359-d72c33128911"
      },
      "execution_count": null,
      "outputs": [
        {
          "output_type": "stream",
          "name": "stdout",
          "text": [
            "[0.60544949 0.59882648 0.62063124 0.6122505 ]\n",
            "[0.60566881 0.59876397 0.62075414 0.61228652]\n"
          ]
        }
      ]
    },
    {
      "cell_type": "code",
      "source": [
        ""
      ],
      "metadata": {
        "id": "DiRSp-iry5ns"
      },
      "execution_count": null,
      "outputs": []
    },
    {
      "cell_type": "code",
      "source": [
        "#Non-balanced classes, l1 penalty, using SMOTE\n",
        "reg_l1_nb_smote = LogisticRegression(fit_intercept = True, penalty = 'l1', solver='liblinear').fit(Xtr_smote, Ytr_smote)\n",
        "print(cross_val_score(reg_l1_nb_smote, Xtr, Ytr, cv = 4, scoring = 'roc_auc'))\n",
        "#l2, non-balanced\n",
        "reg_l2_nb = LogisticRegression(fit_intercept = True).fit(Xtr, Ytr)\n",
        "print(cross_val_score(reg_l2_nb, Xtr, Ytr, cv = 4, scoring = 'roc_auc'))\n",
        "model = Pipeline([\n",
        "        ('sampling', SMOTE()),\n",
        "        ('model', LogisticRegression())\n",
        "    ])\n",
        "model.get_params().keys()"
      ],
      "metadata": {
        "colab": {
          "base_uri": "https://localhost:8080/"
        },
        "id": "1n3HJ4QKdLJU",
        "outputId": "c8d1f242-ac2e-4ed0-df89-88044e841333"
      },
      "execution_count": null,
      "outputs": [
        {
          "output_type": "stream",
          "name": "stdout",
          "text": [
            "[0.60566351 0.59876397 0.62075202 0.61228016]\n",
            "[0.60544949 0.59882648 0.62063124 0.6122505 ]\n"
          ]
        },
        {
          "output_type": "execute_result",
          "data": {
            "text/plain": [
              "dict_keys(['memory', 'steps', 'verbose', 'sampling', 'model', 'sampling__k_neighbors', 'sampling__n_jobs', 'sampling__random_state', 'sampling__sampling_strategy', 'model__C', 'model__class_weight', 'model__dual', 'model__fit_intercept', 'model__intercept_scaling', 'model__l1_ratio', 'model__max_iter', 'model__multi_class', 'model__n_jobs', 'model__penalty', 'model__random_state', 'model__solver', 'model__tol', 'model__verbose', 'model__warm_start'])"
            ]
          },
          "metadata": {},
          "execution_count": 46
        }
      ]
    },
    {
      "cell_type": "code",
      "source": [
        "Cross1 = [0.60936519, 0.61546506, 0.60915341, 0.59360333]\n",
        "Cross2 = [0.60923289, 0.61521632, 0.60930272, 0.59369229]\n",
        "print(np.mean(Cross1))\n",
        "print(np.mean(Cross2))\n"
      ],
      "metadata": {
        "colab": {
          "base_uri": "https://localhost:8080/"
        },
        "id": "OuQZX09riobg",
        "outputId": "899b97bf-4090-4e2a-b9ba-04d7564ec27f"
      },
      "execution_count": null,
      "outputs": [
        {
          "output_type": "stream",
          "name": "stdout",
          "text": [
            "0.6068967475\n",
            "0.606861055\n"
          ]
        }
      ]
    },
    {
      "cell_type": "code",
      "source": [
        "#This is using oversampled data\n",
        "penalty = ['l1', 'l2']\n",
        "c = np.logspace(0, 3, 10)\n",
        "max_iter = 2000\n",
        "print(c), \n",
        "#hyperp = dict(C = c, penalty = penalty) \n",
        "param_grid = [\n",
        "  {'model__penalty': ['l1'], 'model__solver': ['liblinear'], 'model__C' : c, 'model__class_weight': ['balanced', None]},\n",
        "  {'model__penalty': ['l2'], 'model__solver': ['lbfgs'], 'model__class_weight': ['balanced', None], 'model__C' : c},]\n",
        "\n",
        "clf = GridSearchCV(model, param_grid, cv = 3, verbose = 2, scoring= 'roc_auc')\n",
        "best_model = clf.fit(Xtr, Ytr)\n",
        "best_model.best_estimator_.get_params()\n",
        "\n",
        " \n",
        "\n"
      ],
      "metadata": {
        "colab": {
          "base_uri": "https://localhost:8080/"
        },
        "id": "HOVhdyQgdbxt",
        "outputId": "02d2ee6c-2528-4e2a-8aba-0b7643c60364"
      },
      "execution_count": null,
      "outputs": [
        {
          "output_type": "stream",
          "name": "stdout",
          "text": [
            "[   1.            2.15443469    4.64158883   10.           21.5443469\n",
            "   46.41588834  100.          215.443469    464.15888336 1000.        ]\n",
            "Fitting 3 folds for each of 40 candidates, totalling 120 fits\n",
            "[CV] END model__C=1.0, model__class_weight=balanced, model__penalty=l1, model__solver=liblinear; total time=   0.4s\n",
            "[CV] END model__C=1.0, model__class_weight=balanced, model__penalty=l1, model__solver=liblinear; total time=   0.4s\n",
            "[CV] END model__C=1.0, model__class_weight=balanced, model__penalty=l1, model__solver=liblinear; total time=   0.4s\n",
            "[CV] END model__C=1.0, model__class_weight=None, model__penalty=l1, model__solver=liblinear; total time=   0.4s\n",
            "[CV] END model__C=1.0, model__class_weight=None, model__penalty=l1, model__solver=liblinear; total time=   0.4s\n",
            "[CV] END model__C=1.0, model__class_weight=None, model__penalty=l1, model__solver=liblinear; total time=   0.3s\n",
            "[CV] END model__C=2.154434690031884, model__class_weight=balanced, model__penalty=l1, model__solver=liblinear; total time=   0.3s\n",
            "[CV] END model__C=2.154434690031884, model__class_weight=balanced, model__penalty=l1, model__solver=liblinear; total time=   0.3s\n",
            "[CV] END model__C=2.154434690031884, model__class_weight=balanced, model__penalty=l1, model__solver=liblinear; total time=   0.3s\n",
            "[CV] END model__C=2.154434690031884, model__class_weight=None, model__penalty=l1, model__solver=liblinear; total time=   0.3s\n",
            "[CV] END model__C=2.154434690031884, model__class_weight=None, model__penalty=l1, model__solver=liblinear; total time=   0.3s\n",
            "[CV] END model__C=2.154434690031884, model__class_weight=None, model__penalty=l1, model__solver=liblinear; total time=   0.3s\n",
            "[CV] END model__C=4.641588833612778, model__class_weight=balanced, model__penalty=l1, model__solver=liblinear; total time=   0.3s\n",
            "[CV] END model__C=4.641588833612778, model__class_weight=balanced, model__penalty=l1, model__solver=liblinear; total time=   0.3s\n",
            "[CV] END model__C=4.641588833612778, model__class_weight=balanced, model__penalty=l1, model__solver=liblinear; total time=   0.3s\n",
            "[CV] END model__C=4.641588833612778, model__class_weight=None, model__penalty=l1, model__solver=liblinear; total time=   0.3s\n",
            "[CV] END model__C=4.641588833612778, model__class_weight=None, model__penalty=l1, model__solver=liblinear; total time=   0.3s\n",
            "[CV] END model__C=4.641588833612778, model__class_weight=None, model__penalty=l1, model__solver=liblinear; total time=   0.3s\n",
            "[CV] END model__C=10.0, model__class_weight=balanced, model__penalty=l1, model__solver=liblinear; total time=   0.3s\n",
            "[CV] END model__C=10.0, model__class_weight=balanced, model__penalty=l1, model__solver=liblinear; total time=   0.3s\n",
            "[CV] END model__C=10.0, model__class_weight=balanced, model__penalty=l1, model__solver=liblinear; total time=   0.2s\n",
            "[CV] END model__C=10.0, model__class_weight=None, model__penalty=l1, model__solver=liblinear; total time=   0.2s\n",
            "[CV] END model__C=10.0, model__class_weight=None, model__penalty=l1, model__solver=liblinear; total time=   0.2s\n",
            "[CV] END model__C=10.0, model__class_weight=None, model__penalty=l1, model__solver=liblinear; total time=   0.2s\n",
            "[CV] END model__C=21.544346900318832, model__class_weight=balanced, model__penalty=l1, model__solver=liblinear; total time=   0.2s\n",
            "[CV] END model__C=21.544346900318832, model__class_weight=balanced, model__penalty=l1, model__solver=liblinear; total time=   0.2s\n",
            "[CV] END model__C=21.544346900318832, model__class_weight=balanced, model__penalty=l1, model__solver=liblinear; total time=   0.2s\n",
            "[CV] END model__C=21.544346900318832, model__class_weight=None, model__penalty=l1, model__solver=liblinear; total time=   0.2s\n",
            "[CV] END model__C=21.544346900318832, model__class_weight=None, model__penalty=l1, model__solver=liblinear; total time=   0.2s\n",
            "[CV] END model__C=21.544346900318832, model__class_weight=None, model__penalty=l1, model__solver=liblinear; total time=   0.2s\n",
            "[CV] END model__C=46.41588833612777, model__class_weight=balanced, model__penalty=l1, model__solver=liblinear; total time=   0.2s\n",
            "[CV] END model__C=46.41588833612777, model__class_weight=balanced, model__penalty=l1, model__solver=liblinear; total time=   0.2s\n",
            "[CV] END model__C=46.41588833612777, model__class_weight=balanced, model__penalty=l1, model__solver=liblinear; total time=   0.2s\n",
            "[CV] END model__C=46.41588833612777, model__class_weight=None, model__penalty=l1, model__solver=liblinear; total time=   0.2s\n",
            "[CV] END model__C=46.41588833612777, model__class_weight=None, model__penalty=l1, model__solver=liblinear; total time=   0.2s\n",
            "[CV] END model__C=46.41588833612777, model__class_weight=None, model__penalty=l1, model__solver=liblinear; total time=   0.2s\n",
            "[CV] END model__C=100.0, model__class_weight=balanced, model__penalty=l1, model__solver=liblinear; total time=   0.2s\n",
            "[CV] END model__C=100.0, model__class_weight=balanced, model__penalty=l1, model__solver=liblinear; total time=   0.2s\n",
            "[CV] END model__C=100.0, model__class_weight=balanced, model__penalty=l1, model__solver=liblinear; total time=   0.2s\n",
            "[CV] END model__C=100.0, model__class_weight=None, model__penalty=l1, model__solver=liblinear; total time=   0.2s\n",
            "[CV] END model__C=100.0, model__class_weight=None, model__penalty=l1, model__solver=liblinear; total time=   0.2s\n",
            "[CV] END model__C=100.0, model__class_weight=None, model__penalty=l1, model__solver=liblinear; total time=   0.2s\n",
            "[CV] END model__C=215.44346900318823, model__class_weight=balanced, model__penalty=l1, model__solver=liblinear; total time=   0.2s\n",
            "[CV] END model__C=215.44346900318823, model__class_weight=balanced, model__penalty=l1, model__solver=liblinear; total time=   0.2s\n",
            "[CV] END model__C=215.44346900318823, model__class_weight=balanced, model__penalty=l1, model__solver=liblinear; total time=   0.2s\n",
            "[CV] END model__C=215.44346900318823, model__class_weight=None, model__penalty=l1, model__solver=liblinear; total time=   0.2s\n",
            "[CV] END model__C=215.44346900318823, model__class_weight=None, model__penalty=l1, model__solver=liblinear; total time=   0.2s\n",
            "[CV] END model__C=215.44346900318823, model__class_weight=None, model__penalty=l1, model__solver=liblinear; total time=   0.2s\n",
            "[CV] END model__C=464.15888336127773, model__class_weight=balanced, model__penalty=l1, model__solver=liblinear; total time=   0.2s\n",
            "[CV] END model__C=464.15888336127773, model__class_weight=balanced, model__penalty=l1, model__solver=liblinear; total time=   0.2s\n",
            "[CV] END model__C=464.15888336127773, model__class_weight=balanced, model__penalty=l1, model__solver=liblinear; total time=   0.2s\n",
            "[CV] END model__C=464.15888336127773, model__class_weight=None, model__penalty=l1, model__solver=liblinear; total time=   0.2s\n",
            "[CV] END model__C=464.15888336127773, model__class_weight=None, model__penalty=l1, model__solver=liblinear; total time=   0.2s\n",
            "[CV] END model__C=464.15888336127773, model__class_weight=None, model__penalty=l1, model__solver=liblinear; total time=   0.2s\n",
            "[CV] END model__C=1000.0, model__class_weight=balanced, model__penalty=l1, model__solver=liblinear; total time=   0.2s\n",
            "[CV] END model__C=1000.0, model__class_weight=balanced, model__penalty=l1, model__solver=liblinear; total time=   0.2s\n",
            "[CV] END model__C=1000.0, model__class_weight=balanced, model__penalty=l1, model__solver=liblinear; total time=   0.2s\n",
            "[CV] END model__C=1000.0, model__class_weight=None, model__penalty=l1, model__solver=liblinear; total time=   0.2s\n",
            "[CV] END model__C=1000.0, model__class_weight=None, model__penalty=l1, model__solver=liblinear; total time=   0.2s\n",
            "[CV] END model__C=1000.0, model__class_weight=None, model__penalty=l1, model__solver=liblinear; total time=   0.2s\n",
            "[CV] END model__C=1.0, model__class_weight=balanced, model__penalty=l2, model__solver=lbfgs; total time=   0.2s\n",
            "[CV] END model__C=1.0, model__class_weight=balanced, model__penalty=l2, model__solver=lbfgs; total time=   0.2s\n",
            "[CV] END model__C=1.0, model__class_weight=balanced, model__penalty=l2, model__solver=lbfgs; total time=   0.2s\n",
            "[CV] END model__C=1.0, model__class_weight=None, model__penalty=l2, model__solver=lbfgs; total time=   0.2s\n",
            "[CV] END model__C=1.0, model__class_weight=None, model__penalty=l2, model__solver=lbfgs; total time=   0.2s\n",
            "[CV] END model__C=1.0, model__class_weight=None, model__penalty=l2, model__solver=lbfgs; total time=   0.2s\n",
            "[CV] END model__C=2.154434690031884, model__class_weight=balanced, model__penalty=l2, model__solver=lbfgs; total time=   0.2s\n",
            "[CV] END model__C=2.154434690031884, model__class_weight=balanced, model__penalty=l2, model__solver=lbfgs; total time=   0.2s\n",
            "[CV] END model__C=2.154434690031884, model__class_weight=balanced, model__penalty=l2, model__solver=lbfgs; total time=   0.2s\n",
            "[CV] END model__C=2.154434690031884, model__class_weight=None, model__penalty=l2, model__solver=lbfgs; total time=   0.2s\n",
            "[CV] END model__C=2.154434690031884, model__class_weight=None, model__penalty=l2, model__solver=lbfgs; total time=   0.2s\n",
            "[CV] END model__C=2.154434690031884, model__class_weight=None, model__penalty=l2, model__solver=lbfgs; total time=   0.2s\n",
            "[CV] END model__C=4.641588833612778, model__class_weight=balanced, model__penalty=l2, model__solver=lbfgs; total time=   0.2s\n",
            "[CV] END model__C=4.641588833612778, model__class_weight=balanced, model__penalty=l2, model__solver=lbfgs; total time=   0.2s\n",
            "[CV] END model__C=4.641588833612778, model__class_weight=balanced, model__penalty=l2, model__solver=lbfgs; total time=   0.2s\n",
            "[CV] END model__C=4.641588833612778, model__class_weight=None, model__penalty=l2, model__solver=lbfgs; total time=   0.2s\n",
            "[CV] END model__C=4.641588833612778, model__class_weight=None, model__penalty=l2, model__solver=lbfgs; total time=   0.2s\n",
            "[CV] END model__C=4.641588833612778, model__class_weight=None, model__penalty=l2, model__solver=lbfgs; total time=   0.2s\n",
            "[CV] END model__C=10.0, model__class_weight=balanced, model__penalty=l2, model__solver=lbfgs; total time=   0.2s\n",
            "[CV] END model__C=10.0, model__class_weight=balanced, model__penalty=l2, model__solver=lbfgs; total time=   0.2s\n",
            "[CV] END model__C=10.0, model__class_weight=balanced, model__penalty=l2, model__solver=lbfgs; total time=   0.2s\n",
            "[CV] END model__C=10.0, model__class_weight=None, model__penalty=l2, model__solver=lbfgs; total time=   0.2s\n",
            "[CV] END model__C=10.0, model__class_weight=None, model__penalty=l2, model__solver=lbfgs; total time=   0.2s\n",
            "[CV] END model__C=10.0, model__class_weight=None, model__penalty=l2, model__solver=lbfgs; total time=   0.2s\n",
            "[CV] END model__C=21.544346900318832, model__class_weight=balanced, model__penalty=l2, model__solver=lbfgs; total time=   0.2s\n",
            "[CV] END model__C=21.544346900318832, model__class_weight=balanced, model__penalty=l2, model__solver=lbfgs; total time=   0.2s\n",
            "[CV] END model__C=21.544346900318832, model__class_weight=balanced, model__penalty=l2, model__solver=lbfgs; total time=   0.2s\n",
            "[CV] END model__C=21.544346900318832, model__class_weight=None, model__penalty=l2, model__solver=lbfgs; total time=   0.2s\n",
            "[CV] END model__C=21.544346900318832, model__class_weight=None, model__penalty=l2, model__solver=lbfgs; total time=   0.2s\n",
            "[CV] END model__C=21.544346900318832, model__class_weight=None, model__penalty=l2, model__solver=lbfgs; total time=   0.2s\n",
            "[CV] END model__C=46.41588833612777, model__class_weight=balanced, model__penalty=l2, model__solver=lbfgs; total time=   0.2s\n",
            "[CV] END model__C=46.41588833612777, model__class_weight=balanced, model__penalty=l2, model__solver=lbfgs; total time=   0.2s\n",
            "[CV] END model__C=46.41588833612777, model__class_weight=balanced, model__penalty=l2, model__solver=lbfgs; total time=   0.2s\n",
            "[CV] END model__C=46.41588833612777, model__class_weight=None, model__penalty=l2, model__solver=lbfgs; total time=   0.2s\n",
            "[CV] END model__C=46.41588833612777, model__class_weight=None, model__penalty=l2, model__solver=lbfgs; total time=   0.2s\n",
            "[CV] END model__C=46.41588833612777, model__class_weight=None, model__penalty=l2, model__solver=lbfgs; total time=   0.2s\n",
            "[CV] END model__C=100.0, model__class_weight=balanced, model__penalty=l2, model__solver=lbfgs; total time=   0.2s\n",
            "[CV] END model__C=100.0, model__class_weight=balanced, model__penalty=l2, model__solver=lbfgs; total time=   0.2s\n",
            "[CV] END model__C=100.0, model__class_weight=balanced, model__penalty=l2, model__solver=lbfgs; total time=   0.2s\n",
            "[CV] END model__C=100.0, model__class_weight=None, model__penalty=l2, model__solver=lbfgs; total time=   0.2s\n",
            "[CV] END model__C=100.0, model__class_weight=None, model__penalty=l2, model__solver=lbfgs; total time=   0.2s\n",
            "[CV] END model__C=100.0, model__class_weight=None, model__penalty=l2, model__solver=lbfgs; total time=   0.2s\n",
            "[CV] END model__C=215.44346900318823, model__class_weight=balanced, model__penalty=l2, model__solver=lbfgs; total time=   0.2s\n",
            "[CV] END model__C=215.44346900318823, model__class_weight=balanced, model__penalty=l2, model__solver=lbfgs; total time=   0.2s\n",
            "[CV] END model__C=215.44346900318823, model__class_weight=balanced, model__penalty=l2, model__solver=lbfgs; total time=   0.2s\n",
            "[CV] END model__C=215.44346900318823, model__class_weight=None, model__penalty=l2, model__solver=lbfgs; total time=   0.2s\n",
            "[CV] END model__C=215.44346900318823, model__class_weight=None, model__penalty=l2, model__solver=lbfgs; total time=   0.2s\n",
            "[CV] END model__C=215.44346900318823, model__class_weight=None, model__penalty=l2, model__solver=lbfgs; total time=   0.2s\n",
            "[CV] END model__C=464.15888336127773, model__class_weight=balanced, model__penalty=l2, model__solver=lbfgs; total time=   0.2s\n",
            "[CV] END model__C=464.15888336127773, model__class_weight=balanced, model__penalty=l2, model__solver=lbfgs; total time=   0.2s\n",
            "[CV] END model__C=464.15888336127773, model__class_weight=balanced, model__penalty=l2, model__solver=lbfgs; total time=   0.2s\n",
            "[CV] END model__C=464.15888336127773, model__class_weight=None, model__penalty=l2, model__solver=lbfgs; total time=   0.2s\n",
            "[CV] END model__C=464.15888336127773, model__class_weight=None, model__penalty=l2, model__solver=lbfgs; total time=   0.2s\n",
            "[CV] END model__C=464.15888336127773, model__class_weight=None, model__penalty=l2, model__solver=lbfgs; total time=   0.2s\n",
            "[CV] END model__C=1000.0, model__class_weight=balanced, model__penalty=l2, model__solver=lbfgs; total time=   0.2s\n",
            "[CV] END model__C=1000.0, model__class_weight=balanced, model__penalty=l2, model__solver=lbfgs; total time=   0.2s\n",
            "[CV] END model__C=1000.0, model__class_weight=balanced, model__penalty=l2, model__solver=lbfgs; total time=   0.2s\n",
            "[CV] END model__C=1000.0, model__class_weight=None, model__penalty=l2, model__solver=lbfgs; total time=   0.2s\n",
            "[CV] END model__C=1000.0, model__class_weight=None, model__penalty=l2, model__solver=lbfgs; total time=   0.2s\n",
            "[CV] END model__C=1000.0, model__class_weight=None, model__penalty=l2, model__solver=lbfgs; total time=   0.2s\n"
          ]
        },
        {
          "output_type": "execute_result",
          "data": {
            "text/plain": [
              "{'memory': None,\n",
              " 'model': LogisticRegression(C=1000.0),\n",
              " 'model__C': 1000.0,\n",
              " 'model__class_weight': None,\n",
              " 'model__dual': False,\n",
              " 'model__fit_intercept': True,\n",
              " 'model__intercept_scaling': 1,\n",
              " 'model__l1_ratio': None,\n",
              " 'model__max_iter': 100,\n",
              " 'model__multi_class': 'auto',\n",
              " 'model__n_jobs': None,\n",
              " 'model__penalty': 'l2',\n",
              " 'model__random_state': None,\n",
              " 'model__solver': 'lbfgs',\n",
              " 'model__tol': 0.0001,\n",
              " 'model__verbose': 0,\n",
              " 'model__warm_start': False,\n",
              " 'sampling': SMOTE(),\n",
              " 'sampling__k_neighbors': 5,\n",
              " 'sampling__n_jobs': None,\n",
              " 'sampling__random_state': None,\n",
              " 'sampling__sampling_strategy': 'auto',\n",
              " 'steps': [('sampling', SMOTE()), ('model', LogisticRegression(C=1000.0))],\n",
              " 'verbose': False}"
            ]
          },
          "metadata": {},
          "execution_count": 47
        }
      ]
    },
    {
      "cell_type": "code",
      "source": [
        "best_model.best_estimator_"
      ],
      "metadata": {
        "colab": {
          "base_uri": "https://localhost:8080/"
        },
        "id": "M2_xJAfigpt5",
        "outputId": "14fbcb58-0fe4-4491-ae95-63f5cbbfa5df"
      },
      "execution_count": null,
      "outputs": [
        {
          "output_type": "execute_result",
          "data": {
            "text/plain": [
              "Pipeline(steps=[('sampling', SMOTE()), ('model', LogisticRegression(C=1000.0))])"
            ]
          },
          "metadata": {},
          "execution_count": 48
        }
      ]
    },
    {
      "cell_type": "code",
      "source": [
        "best_model.cv_results_"
      ],
      "metadata": {
        "colab": {
          "base_uri": "https://localhost:8080/"
        },
        "id": "tebdppp5gvy1",
        "outputId": "2b03c67b-7301-49cc-fbb1-af3621663c14"
      },
      "execution_count": null,
      "outputs": [
        {
          "output_type": "execute_result",
          "data": {
            "text/plain": [
              "{'mean_fit_time': array([0.38099535, 0.35526021, 0.30495532, 0.29106514, 0.28370778,\n",
              "        0.25886313, 0.25230511, 0.23051294, 0.20160055, 0.19782559,\n",
              "        0.18581271, 0.18113748, 0.17096202, 0.16578611, 0.17289233,\n",
              "        0.18133887, 0.17722631, 0.17468834, 0.17669765, 0.17168983,\n",
              "        0.17848929, 0.17191505, 0.18686398, 0.18358103, 0.18386634,\n",
              "        0.1969595 , 0.18540804, 0.18763733, 0.1810569 , 0.19238345,\n",
              "        0.19221505, 0.18812148, 0.19314003, 0.18322015, 0.19440818,\n",
              "        0.17453814, 0.18683815, 0.18305945, 0.19117117, 0.18083851]),\n",
              " 'mean_score_time': array([0.00706045, 0.00694776, 0.00610638, 0.00728528, 0.00567754,\n",
              "        0.00627096, 0.00695133, 0.00534042, 0.00770275, 0.00445501,\n",
              "        0.00413918, 0.00518743, 0.00369247, 0.00394813, 0.00435583,\n",
              "        0.00377846, 0.00362619, 0.00363429, 0.00360036, 0.00429972,\n",
              "        0.00362945, 0.00348481, 0.00352645, 0.00353201, 0.00349752,\n",
              "        0.00348536, 0.00355792, 0.00359519, 0.00352748, 0.00363525,\n",
              "        0.00359829, 0.00411566, 0.00358947, 0.00366656, 0.0034953 ,\n",
              "        0.00342162, 0.00346327, 0.00381438, 0.00342949, 0.00339063]),\n",
              " 'mean_test_score': array([0.60430389, 0.60493983, 0.6030055 , 0.60524379, 0.60433516,\n",
              "        0.60368306, 0.60583288, 0.603037  , 0.60410808, 0.60456014,\n",
              "        0.60438194, 0.60564367, 0.60628907, 0.60580198, 0.6046267 ,\n",
              "        0.60333889, 0.60565904, 0.60479161, 0.60367173, 0.60505331,\n",
              "        0.60487735, 0.60460286, 0.60431441, 0.60391134, 0.60357971,\n",
              "        0.60663972, 0.6049859 , 0.60213375, 0.60518355, 0.60451579,\n",
              "        0.60523275, 0.60339941, 0.60456969, 0.60410775, 0.60506983,\n",
              "        0.6040882 , 0.604838  , 0.60337017, 0.60573526, 0.60676766]),\n",
              " 'param_model__C': masked_array(data=[1.0, 1.0, 2.154434690031884, 2.154434690031884,\n",
              "                    4.641588833612778, 4.641588833612778, 10.0, 10.0,\n",
              "                    21.544346900318832, 21.544346900318832,\n",
              "                    46.41588833612777, 46.41588833612777, 100.0, 100.0,\n",
              "                    215.44346900318823, 215.44346900318823,\n",
              "                    464.15888336127773, 464.15888336127773, 1000.0, 1000.0,\n",
              "                    1.0, 1.0, 2.154434690031884, 2.154434690031884,\n",
              "                    4.641588833612778, 4.641588833612778, 10.0, 10.0,\n",
              "                    21.544346900318832, 21.544346900318832,\n",
              "                    46.41588833612777, 46.41588833612777, 100.0, 100.0,\n",
              "                    215.44346900318823, 215.44346900318823,\n",
              "                    464.15888336127773, 464.15888336127773, 1000.0, 1000.0],\n",
              "              mask=[False, False, False, False, False, False, False, False,\n",
              "                    False, False, False, False, False, False, False, False,\n",
              "                    False, False, False, False, False, False, False, False,\n",
              "                    False, False, False, False, False, False, False, False,\n",
              "                    False, False, False, False, False, False, False, False],\n",
              "        fill_value='?',\n",
              "             dtype=object),\n",
              " 'param_model__class_weight': masked_array(data=['balanced', None, 'balanced', None, 'balanced', None,\n",
              "                    'balanced', None, 'balanced', None, 'balanced', None,\n",
              "                    'balanced', None, 'balanced', None, 'balanced', None,\n",
              "                    'balanced', None, 'balanced', None, 'balanced', None,\n",
              "                    'balanced', None, 'balanced', None, 'balanced', None,\n",
              "                    'balanced', None, 'balanced', None, 'balanced', None,\n",
              "                    'balanced', None, 'balanced', None],\n",
              "              mask=[False, False, False, False, False, False, False, False,\n",
              "                    False, False, False, False, False, False, False, False,\n",
              "                    False, False, False, False, False, False, False, False,\n",
              "                    False, False, False, False, False, False, False, False,\n",
              "                    False, False, False, False, False, False, False, False],\n",
              "        fill_value='?',\n",
              "             dtype=object),\n",
              " 'param_model__penalty': masked_array(data=['l1', 'l1', 'l1', 'l1', 'l1', 'l1', 'l1', 'l1', 'l1',\n",
              "                    'l1', 'l1', 'l1', 'l1', 'l1', 'l1', 'l1', 'l1', 'l1',\n",
              "                    'l1', 'l1', 'l2', 'l2', 'l2', 'l2', 'l2', 'l2', 'l2',\n",
              "                    'l2', 'l2', 'l2', 'l2', 'l2', 'l2', 'l2', 'l2', 'l2',\n",
              "                    'l2', 'l2', 'l2', 'l2'],\n",
              "              mask=[False, False, False, False, False, False, False, False,\n",
              "                    False, False, False, False, False, False, False, False,\n",
              "                    False, False, False, False, False, False, False, False,\n",
              "                    False, False, False, False, False, False, False, False,\n",
              "                    False, False, False, False, False, False, False, False],\n",
              "        fill_value='?',\n",
              "             dtype=object),\n",
              " 'param_model__solver': masked_array(data=['liblinear', 'liblinear', 'liblinear', 'liblinear',\n",
              "                    'liblinear', 'liblinear', 'liblinear', 'liblinear',\n",
              "                    'liblinear', 'liblinear', 'liblinear', 'liblinear',\n",
              "                    'liblinear', 'liblinear', 'liblinear', 'liblinear',\n",
              "                    'liblinear', 'liblinear', 'liblinear', 'liblinear',\n",
              "                    'lbfgs', 'lbfgs', 'lbfgs', 'lbfgs', 'lbfgs', 'lbfgs',\n",
              "                    'lbfgs', 'lbfgs', 'lbfgs', 'lbfgs', 'lbfgs', 'lbfgs',\n",
              "                    'lbfgs', 'lbfgs', 'lbfgs', 'lbfgs', 'lbfgs', 'lbfgs',\n",
              "                    'lbfgs', 'lbfgs'],\n",
              "              mask=[False, False, False, False, False, False, False, False,\n",
              "                    False, False, False, False, False, False, False, False,\n",
              "                    False, False, False, False, False, False, False, False,\n",
              "                    False, False, False, False, False, False, False, False,\n",
              "                    False, False, False, False, False, False, False, False],\n",
              "        fill_value='?',\n",
              "             dtype=object),\n",
              " 'params': [{'model__C': 1.0,\n",
              "   'model__class_weight': 'balanced',\n",
              "   'model__penalty': 'l1',\n",
              "   'model__solver': 'liblinear'},\n",
              "  {'model__C': 1.0,\n",
              "   'model__class_weight': None,\n",
              "   'model__penalty': 'l1',\n",
              "   'model__solver': 'liblinear'},\n",
              "  {'model__C': 2.154434690031884,\n",
              "   'model__class_weight': 'balanced',\n",
              "   'model__penalty': 'l1',\n",
              "   'model__solver': 'liblinear'},\n",
              "  {'model__C': 2.154434690031884,\n",
              "   'model__class_weight': None,\n",
              "   'model__penalty': 'l1',\n",
              "   'model__solver': 'liblinear'},\n",
              "  {'model__C': 4.641588833612778,\n",
              "   'model__class_weight': 'balanced',\n",
              "   'model__penalty': 'l1',\n",
              "   'model__solver': 'liblinear'},\n",
              "  {'model__C': 4.641588833612778,\n",
              "   'model__class_weight': None,\n",
              "   'model__penalty': 'l1',\n",
              "   'model__solver': 'liblinear'},\n",
              "  {'model__C': 10.0,\n",
              "   'model__class_weight': 'balanced',\n",
              "   'model__penalty': 'l1',\n",
              "   'model__solver': 'liblinear'},\n",
              "  {'model__C': 10.0,\n",
              "   'model__class_weight': None,\n",
              "   'model__penalty': 'l1',\n",
              "   'model__solver': 'liblinear'},\n",
              "  {'model__C': 21.544346900318832,\n",
              "   'model__class_weight': 'balanced',\n",
              "   'model__penalty': 'l1',\n",
              "   'model__solver': 'liblinear'},\n",
              "  {'model__C': 21.544346900318832,\n",
              "   'model__class_weight': None,\n",
              "   'model__penalty': 'l1',\n",
              "   'model__solver': 'liblinear'},\n",
              "  {'model__C': 46.41588833612777,\n",
              "   'model__class_weight': 'balanced',\n",
              "   'model__penalty': 'l1',\n",
              "   'model__solver': 'liblinear'},\n",
              "  {'model__C': 46.41588833612777,\n",
              "   'model__class_weight': None,\n",
              "   'model__penalty': 'l1',\n",
              "   'model__solver': 'liblinear'},\n",
              "  {'model__C': 100.0,\n",
              "   'model__class_weight': 'balanced',\n",
              "   'model__penalty': 'l1',\n",
              "   'model__solver': 'liblinear'},\n",
              "  {'model__C': 100.0,\n",
              "   'model__class_weight': None,\n",
              "   'model__penalty': 'l1',\n",
              "   'model__solver': 'liblinear'},\n",
              "  {'model__C': 215.44346900318823,\n",
              "   'model__class_weight': 'balanced',\n",
              "   'model__penalty': 'l1',\n",
              "   'model__solver': 'liblinear'},\n",
              "  {'model__C': 215.44346900318823,\n",
              "   'model__class_weight': None,\n",
              "   'model__penalty': 'l1',\n",
              "   'model__solver': 'liblinear'},\n",
              "  {'model__C': 464.15888336127773,\n",
              "   'model__class_weight': 'balanced',\n",
              "   'model__penalty': 'l1',\n",
              "   'model__solver': 'liblinear'},\n",
              "  {'model__C': 464.15888336127773,\n",
              "   'model__class_weight': None,\n",
              "   'model__penalty': 'l1',\n",
              "   'model__solver': 'liblinear'},\n",
              "  {'model__C': 1000.0,\n",
              "   'model__class_weight': 'balanced',\n",
              "   'model__penalty': 'l1',\n",
              "   'model__solver': 'liblinear'},\n",
              "  {'model__C': 1000.0,\n",
              "   'model__class_weight': None,\n",
              "   'model__penalty': 'l1',\n",
              "   'model__solver': 'liblinear'},\n",
              "  {'model__C': 1.0,\n",
              "   'model__class_weight': 'balanced',\n",
              "   'model__penalty': 'l2',\n",
              "   'model__solver': 'lbfgs'},\n",
              "  {'model__C': 1.0,\n",
              "   'model__class_weight': None,\n",
              "   'model__penalty': 'l2',\n",
              "   'model__solver': 'lbfgs'},\n",
              "  {'model__C': 2.154434690031884,\n",
              "   'model__class_weight': 'balanced',\n",
              "   'model__penalty': 'l2',\n",
              "   'model__solver': 'lbfgs'},\n",
              "  {'model__C': 2.154434690031884,\n",
              "   'model__class_weight': None,\n",
              "   'model__penalty': 'l2',\n",
              "   'model__solver': 'lbfgs'},\n",
              "  {'model__C': 4.641588833612778,\n",
              "   'model__class_weight': 'balanced',\n",
              "   'model__penalty': 'l2',\n",
              "   'model__solver': 'lbfgs'},\n",
              "  {'model__C': 4.641588833612778,\n",
              "   'model__class_weight': None,\n",
              "   'model__penalty': 'l2',\n",
              "   'model__solver': 'lbfgs'},\n",
              "  {'model__C': 10.0,\n",
              "   'model__class_weight': 'balanced',\n",
              "   'model__penalty': 'l2',\n",
              "   'model__solver': 'lbfgs'},\n",
              "  {'model__C': 10.0,\n",
              "   'model__class_weight': None,\n",
              "   'model__penalty': 'l2',\n",
              "   'model__solver': 'lbfgs'},\n",
              "  {'model__C': 21.544346900318832,\n",
              "   'model__class_weight': 'balanced',\n",
              "   'model__penalty': 'l2',\n",
              "   'model__solver': 'lbfgs'},\n",
              "  {'model__C': 21.544346900318832,\n",
              "   'model__class_weight': None,\n",
              "   'model__penalty': 'l2',\n",
              "   'model__solver': 'lbfgs'},\n",
              "  {'model__C': 46.41588833612777,\n",
              "   'model__class_weight': 'balanced',\n",
              "   'model__penalty': 'l2',\n",
              "   'model__solver': 'lbfgs'},\n",
              "  {'model__C': 46.41588833612777,\n",
              "   'model__class_weight': None,\n",
              "   'model__penalty': 'l2',\n",
              "   'model__solver': 'lbfgs'},\n",
              "  {'model__C': 100.0,\n",
              "   'model__class_weight': 'balanced',\n",
              "   'model__penalty': 'l2',\n",
              "   'model__solver': 'lbfgs'},\n",
              "  {'model__C': 100.0,\n",
              "   'model__class_weight': None,\n",
              "   'model__penalty': 'l2',\n",
              "   'model__solver': 'lbfgs'},\n",
              "  {'model__C': 215.44346900318823,\n",
              "   'model__class_weight': 'balanced',\n",
              "   'model__penalty': 'l2',\n",
              "   'model__solver': 'lbfgs'},\n",
              "  {'model__C': 215.44346900318823,\n",
              "   'model__class_weight': None,\n",
              "   'model__penalty': 'l2',\n",
              "   'model__solver': 'lbfgs'},\n",
              "  {'model__C': 464.15888336127773,\n",
              "   'model__class_weight': 'balanced',\n",
              "   'model__penalty': 'l2',\n",
              "   'model__solver': 'lbfgs'},\n",
              "  {'model__C': 464.15888336127773,\n",
              "   'model__class_weight': None,\n",
              "   'model__penalty': 'l2',\n",
              "   'model__solver': 'lbfgs'},\n",
              "  {'model__C': 1000.0,\n",
              "   'model__class_weight': 'balanced',\n",
              "   'model__penalty': 'l2',\n",
              "   'model__solver': 'lbfgs'},\n",
              "  {'model__C': 1000.0,\n",
              "   'model__class_weight': None,\n",
              "   'model__penalty': 'l2',\n",
              "   'model__solver': 'lbfgs'}],\n",
              " 'rank_test_score': array([27, 15, 39,  9, 25, 32,  4, 38, 28, 22, 24,  8,  3,  5, 19, 37,  7,\n",
              "        18, 33, 13, 16, 20, 26, 31, 34,  2, 14, 40, 11, 23, 10, 35, 21, 29,\n",
              "        12, 30, 17, 36,  6,  1], dtype=int32),\n",
              " 'split0_test_score': array([0.59465998, 0.59738652, 0.59078074, 0.59702791, 0.59414588,\n",
              "        0.59406844, 0.59265364, 0.59244753, 0.59249935, 0.59377118,\n",
              "        0.5938379 , 0.59779339, 0.59809481, 0.59614328, 0.59512165,\n",
              "        0.59348108, 0.59439727, 0.59531883, 0.59324756, 0.59416792,\n",
              "        0.59693617, 0.59379501, 0.59725666, 0.59281567, 0.59618737,\n",
              "        0.59805371, 0.59465462, 0.59288656, 0.59395466, 0.59255475,\n",
              "        0.59580194, 0.59354839, 0.59544988, 0.59499238, 0.59675209,\n",
              "        0.59115246, 0.59351324, 0.59483869, 0.59735257, 0.59638395]),\n",
              " 'split1_test_score': array([0.61033223, 0.61134472, 0.61202467, 0.61263788, 0.61082566,\n",
              "        0.61173207, 0.61604839, 0.61178451, 0.6129865 , 0.61255207,\n",
              "        0.61493221, 0.6115956 , 0.61198951, 0.61576532, 0.61343345,\n",
              "        0.613235  , 0.61284646, 0.61341617, 0.61403534, 0.6156658 ,\n",
              "        0.6104532 , 0.6135425 , 0.60912309, 0.61033402, 0.61318614,\n",
              "        0.61386609, 0.61402342, 0.6094437 , 0.61279402, 0.61466345,\n",
              "        0.61520574, 0.61166354, 0.61271833, 0.61255386, 0.61233098,\n",
              "        0.61521111, 0.61398826, 0.61262299, 0.61248533, 0.61493102]),\n",
              " 'split2_test_score': array([0.60791946, 0.60608825, 0.60621109, 0.60606559, 0.60803395,\n",
              "        0.60524867, 0.60879661, 0.60487897, 0.60683839, 0.60735716,\n",
              "        0.6043757 , 0.60754201, 0.60878289, 0.60549733, 0.605325  ,\n",
              "        0.60330059, 0.60973338, 0.60563984, 0.60373231, 0.60532619,\n",
              "        0.60724267, 0.60647107, 0.6065635 , 0.60858433, 0.60136563,\n",
              "        0.60799937, 0.60627966, 0.604071  , 0.60880197, 0.60632915,\n",
              "        0.60469055, 0.60498631, 0.60554086, 0.60477701, 0.60612641,\n",
              "        0.60590102, 0.6070125 , 0.60264884, 0.60736789, 0.60898802]),\n",
              " 'std_fit_time': array([0.03871419, 0.03807097, 0.00872822, 0.01451773, 0.00618869,\n",
              "        0.00824244, 0.01306958, 0.00634574, 0.01061962, 0.01231085,\n",
              "        0.0024181 , 0.00571507, 0.00200481, 0.00175975, 0.00128125,\n",
              "        0.00401316, 0.00736314, 0.0030745 , 0.00446848, 0.00507816,\n",
              "        0.00145192, 0.00545871, 0.00568838, 0.00914897, 0.00447517,\n",
              "        0.0184948 , 0.00149794, 0.00320271, 0.00110447, 0.00934895,\n",
              "        0.01601923, 0.00668287, 0.00844803, 0.00430588, 0.00796364,\n",
              "        0.0032139 , 0.00971922, 0.00119697, 0.00508984, 0.00554942]),\n",
              " 'std_score_time': array([5.19681859e-04, 6.87970213e-04, 3.95796432e-04, 8.78867011e-04,\n",
              "        8.02314058e-04, 3.18252180e-04, 1.29296294e-03, 1.49282393e-03,\n",
              "        4.34693745e-03, 6.31001734e-04, 4.32812973e-04, 1.11875330e-03,\n",
              "        8.96978591e-05, 3.52357674e-04, 1.09376172e-03, 1.42325042e-04,\n",
              "        1.01174975e-04, 7.39659673e-05, 3.64590785e-05, 6.00569297e-04,\n",
              "        9.41378080e-05, 9.53746502e-05, 2.70294194e-05, 9.45726363e-05,\n",
              "        8.77890605e-05, 5.50140503e-05, 9.03856961e-05, 9.01027380e-06,\n",
              "        3.48212672e-05, 1.68917764e-04, 8.91180315e-05, 8.57395826e-04,\n",
              "        6.52356492e-05, 7.18196369e-05, 8.83570233e-05, 2.20115433e-05,\n",
              "        5.89876025e-05, 5.12603654e-04, 3.14642275e-05, 9.68657127e-05]),\n",
              " 'std_test_score': array([0.00689005, 0.00575598, 0.00896411, 0.00639919, 0.0072945 ,\n",
              "        0.00729563, 0.00977808, 0.00800102, 0.00858377, 0.00791824,\n",
              "        0.00861172, 0.00579241, 0.00594026, 0.00801356, 0.00749205,\n",
              "        0.00806455, 0.00806405, 0.00741251, 0.00848668, 0.00877859,\n",
              "        0.0057662 , 0.00816939, 0.00509881, 0.00787827, 0.00711413,\n",
              "        0.00652658, 0.00796003, 0.00689683, 0.00810556, 0.00911646,\n",
              "        0.00793084, 0.00748012, 0.00708318, 0.00718504, 0.00640378,\n",
              "        0.0099052 , 0.00849913, 0.0072783 , 0.00628486, 0.00773287])}"
            ]
          },
          "metadata": {},
          "execution_count": 49
        }
      ]
    },
    {
      "cell_type": "markdown",
      "source": [
        "Random Forest Pipeline\n"
      ],
      "metadata": {
        "id": "JUsmQer-wPU1"
      }
    },
    {
      "cell_type": "code",
      "source": [
        "import numpy as np\n",
        "import pandas as pd\n",
        "import matplotlib.pyplot as plt\n",
        "from sklearn.ensemble import RandomForestClassifier, AdaBoostClassifier\n",
        "from sklearn.model_selection import StratifiedKFold\n",
        "from sklearn.metrics import accuracy_score, roc_auc_score, recall_score\n",
        "from sklearn.preprocessing import OneHotEncoder\n",
        "from sklearn.model_selection import GridSearchCV\n",
        "from imblearn.over_sampling import SMOTE\n",
        "from imblearn.pipeline import Pipeline\n",
        "\n",
        "from collections import Counter"
      ],
      "metadata": {
        "id": "0MNap6tzhGYX"
      },
      "execution_count": null,
      "outputs": []
    },
    {
      "cell_type": "code",
      "source": [
        "import os\n",
        "import pandas as pd\n",
        "from sklearn.model_selection import train_test_split\n",
        "data_directory = os.path.join(os.getcwd(), 'dataset_diabetes')\n",
        "diabetes = pd.read_csv(os.path.join(data_directory, '/content/diabetic_dataupdated2.csv'))\n",
        "from sklearn.model_selection import train_test_split\n",
        "train_set, test_set = train_test_split(diabetes, test_size=0.2, random_state=42)\n",
        "train_set.head()\n",
        "train_set.shape"
      ],
      "metadata": {
        "colab": {
          "base_uri": "https://localhost:8080/"
        },
        "id": "EFKZmrzriYpb",
        "outputId": "77dd079d-61e5-4fc8-e6fe-ed2903c2da76"
      },
      "execution_count": null,
      "outputs": [
        {
          "output_type": "execute_result",
          "data": {
            "text/plain": [
              "(81412, 50)"
            ]
          },
          "metadata": {},
          "execution_count": 97
        }
      ]
    },
    {
      "cell_type": "code",
      "source": [
        "np.random.seed(0)\n",
        "pd.set_option('display.max_columns', None)\n",
        "pd.set_option('display.max_rows', None)\n",
        "random_state = 0"
      ],
      "metadata": {
        "id": "he47Mq_cjJZd"
      },
      "execution_count": null,
      "outputs": []
    },
    {
      "cell_type": "code",
      "source": [
        "df_train = train_set\n"
      ],
      "metadata": {
        "id": "rStWwR2NkDHh"
      },
      "execution_count": null,
      "outputs": []
    },
    {
      "cell_type": "code",
      "source": [
        "[(key, val/len(df_train.readmitted)) for (key, val) in Counter(df_train.readmitted).most_common()]\n",
        "\n",
        "def binarize_readmitted(x):\n",
        "    if x in ['<30']: # readmitted in less than 30 days is positive class\n",
        "        return 1 \n",
        "    else:\n",
        "        return 0 \n",
        "df_train['label'] = df_train.apply(lambda x: binarize_readmitted(x['readmitted']), axis=1)\n",
        "[(key, val/len(df_train.readmitted)) for (key, val) in Counter(df_train['label']).most_common()]"
      ],
      "metadata": {
        "id": "o3kk024SdthK",
        "colab": {
          "base_uri": "https://localhost:8080/"
        },
        "outputId": "8abf42c2-4052-4643-dfb9-179e56bb2950"
      },
      "execution_count": null,
      "outputs": [
        {
          "output_type": "execute_result",
          "data": {
            "text/plain": [
              "[(0, 0.8885667960497224), (1, 0.1114332039502776)]"
            ]
          },
          "metadata": {},
          "execution_count": 100
        }
      ]
    },
    {
      "cell_type": "code",
      "source": [
        "df_train[\"gender\"].replace({\"Female\": 0, \"Male\": 1, \"Unknown/Invalid\": 2}, inplace=True)\n",
        "df_train[\"age\"].replace({\"[0-10)\": 10,\"[10-20)\": 20, \"[20-30)\": 30,  \"[30-40)\": 40, \"[40-50)\": 50}, inplace=True)\n",
        "df_train[\"age\"].replace({\"[50-60)\": 60,\"[60-70)\": 70, \"[70-80)\": 80,  \"[80-90)\": 90, \"[90-100)\": 100}, inplace=True)\n",
        "df_train[\"max_glu_serum\"].replace({\"None\": 0, \"Norm\": 1, \">200\": 2, \">300\": 3}, inplace=True)\n",
        "df_train[\"A1Cresult\"].replace({\"None\": 0, \"Norm\": 1, \">7\": 2, \">8\": 3}, inplace=True)\n",
        "df_train[\"metformin\"].replace({\"No\": 0, \"Steady\": 1, \"Up\": 2}, inplace=True)\n",
        "df_train[\"repaglinide\"].replace({\"No\": 0, \"Steady\": 1, \"Up\": 2}, inplace=True)\n",
        "df_train[\"readmitted\"].replace({\"NO\": 0, \"<30\": 0, \">30\": 1}, inplace=True)\n",
        "df_train[\"change\"].replace({\"NO\": 0, \"Ch\": 1}, inplace=True)\n",
        "df_train[\"diabetesMed\"].replace({\"NO\": 0, \"Yes\": 1}, inplace=True)\n",
        "df_train= df_train.replace(\"No\", 0)\n",
        "df_train = df_train.replace(\"Steady\", 1)\n",
        "df_train = df_train.replace(\"Ch\", 1)\n",
        "df_train = df_train.replace(\"Up\", 2)\n",
        "df_train = df_train.replace(\"Down\", 3)\n",
        "df_train = df_train.replace(\"Norm\", 0)\n",
        "df_train = df_train.replace(\"Yes\", 1)\n"
      ],
      "metadata": {
        "id": "p0Jp04axony4"
      },
      "execution_count": null,
      "outputs": []
    },
    {
      "cell_type": "code",
      "source": [
        "df_train.drop([\"encounter_id\", \"patient_nbr\", \"payer_code\", \"weight\"], axis=1, inplace=True)\n",
        "df_train.drop([ \"diag_1\",\t\"diag_2\", \"diag_3\"], axis=1, inplace=True)\n",
        "df_train.drop([ \"race\"], axis=1, inplace=True)\n",
        "\n"
      ],
      "metadata": {
        "id": "acVsrMTio-TB"
      },
      "execution_count": null,
      "outputs": []
    },
    {
      "cell_type": "code",
      "source": [
        "df_train.drop([ \"medical_specialty\"], axis=1, inplace=True)"
      ],
      "metadata": {
        "id": "1v_OJwsDqGiU"
      },
      "execution_count": null,
      "outputs": []
    },
    {
      "cell_type": "code",
      "source": [
        "print(df_train.shape)\n"
      ],
      "metadata": {
        "colab": {
          "base_uri": "https://localhost:8080/"
        },
        "id": "bx7wsId7qU2V",
        "outputId": "bdef4c65-7a23-4633-a2bd-82e52e59c07a"
      },
      "execution_count": null,
      "outputs": [
        {
          "output_type": "stream",
          "name": "stdout",
          "text": [
            "(81412, 42)\n"
          ]
        }
      ]
    },
    {
      "cell_type": "code",
      "source": [
        "Xtr = df_train.iloc[:,0:40]\n",
        "Ytr = df_train.iloc[:,41]\n"
      ],
      "metadata": {
        "id": "0Gt-MeDwqh_g"
      },
      "execution_count": null,
      "outputs": []
    },
    {
      "cell_type": "code",
      "source": [
        "pipe = Pipeline([\n",
        "        ('sampling', SMOTE(random_state=random_state)),\n",
        "        ('model', RandomForestClassifier())\n",
        "    ])\n",
        "\n",
        "pipe.get_params().keys()"
      ],
      "metadata": {
        "colab": {
          "base_uri": "https://localhost:8080/"
        },
        "id": "61cx5ISvqwMb",
        "outputId": "777447ad-caeb-40c6-89a0-4cd99acfa9b2"
      },
      "execution_count": null,
      "outputs": [
        {
          "output_type": "execute_result",
          "data": {
            "text/plain": [
              "dict_keys(['memory', 'steps', 'verbose', 'sampling', 'model', 'sampling__k_neighbors', 'sampling__n_jobs', 'sampling__random_state', 'sampling__sampling_strategy', 'model__bootstrap', 'model__ccp_alpha', 'model__class_weight', 'model__criterion', 'model__max_depth', 'model__max_features', 'model__max_leaf_nodes', 'model__max_samples', 'model__min_impurity_decrease', 'model__min_samples_leaf', 'model__min_samples_split', 'model__min_weight_fraction_leaf', 'model__n_estimators', 'model__n_jobs', 'model__oob_score', 'model__random_state', 'model__verbose', 'model__warm_start'])"
            ]
          },
          "metadata": {},
          "execution_count": 106
        }
      ]
    },
    {
      "cell_type": "code",
      "source": [
        "param_grid = {\n",
        "    'model__n_estimators': [100, 500],\n",
        "    'model__max_depth': [4, 6, 8, 10, 12],\n",
        "    'model__random_state': [random_state]\n",
        "}\n",
        "\n",
        "# Recall = TP/TP+FN -> Of the ones that are positive, how many did we indicate as positive\n",
        "# AUROC = area under curve TPR (TP/TP+FN) vs. FPR (FP/TN+FP) at various thresholds\n",
        "scoring = ['accuracy', 'roc_auc', 'recall']"
      ],
      "metadata": {
        "id": "7YWLT_dpq0ip"
      },
      "execution_count": null,
      "outputs": []
    },
    {
      "cell_type": "code",
      "source": [
        "clf = GridSearchCV(pipe, param_grid, cv=4, verbose=5, scoring=scoring, refit='roc_auc', return_train_score=True)\n",
        "best_model = clf.fit(Xtr, Ytr)"
      ],
      "metadata": {
        "colab": {
          "base_uri": "https://localhost:8080/"
        },
        "id": "VRWceDHpq4aA",
        "outputId": "5dd1dc05-097b-46d3-8e29-832ae4589cdf"
      },
      "execution_count": null,
      "outputs": [
        {
          "output_type": "stream",
          "name": "stdout",
          "text": [
            "Fitting 4 folds for each of 10 candidates, totalling 40 fits\n",
            "[CV 1/4] END model__max_depth=4, model__n_estimators=100, model__random_state=0; accuracy: (train=0.653, test=0.655) recall: (train=0.338, test=0.335) roc_auc: (train=0.522, test=0.527) total time=   6.0s\n",
            "[CV 2/4] END model__max_depth=4, model__n_estimators=100, model__random_state=0; accuracy: (train=0.646, test=0.641) recall: (train=0.342, test=0.336) roc_auc: (train=0.522, test=0.511) total time=   5.6s\n",
            "[CV 3/4] END model__max_depth=4, model__n_estimators=100, model__random_state=0; accuracy: (train=0.649, test=0.647) recall: (train=0.335, test=0.334) roc_auc: (train=0.522, test=0.517) total time=   5.4s\n",
            "[CV 4/4] END model__max_depth=4, model__n_estimators=100, model__random_state=0; accuracy: (train=0.638, test=0.640) recall: (train=0.359, test=0.350) roc_auc: (train=0.527, test=0.523) total time=   5.6s\n",
            "[CV 1/4] END model__max_depth=4, model__n_estimators=500, model__random_state=0; accuracy: (train=0.639, test=0.644) recall: (train=0.361, test=0.359) roc_auc: (train=0.523, test=0.529) total time=  22.5s\n",
            "[CV 2/4] END model__max_depth=4, model__n_estimators=500, model__random_state=0; accuracy: (train=0.645, test=0.639) recall: (train=0.351, test=0.349) roc_auc: (train=0.524, test=0.513) total time=  22.9s\n",
            "[CV 3/4] END model__max_depth=4, model__n_estimators=500, model__random_state=0; accuracy: (train=0.643, test=0.642) recall: (train=0.351, test=0.358) roc_auc: (train=0.523, test=0.520) total time=  23.8s\n",
            "[CV 4/4] END model__max_depth=4, model__n_estimators=500, model__random_state=0; accuracy: (train=0.630, test=0.633) recall: (train=0.375, test=0.365) roc_auc: (train=0.525, test=0.520) total time=  22.4s\n",
            "[CV 1/4] END model__max_depth=6, model__n_estimators=100, model__random_state=0; accuracy: (train=0.660, test=0.664) recall: (train=0.339, test=0.340) roc_auc: (train=0.536, test=0.535) total time=  13.3s\n",
            "[CV 2/4] END model__max_depth=6, model__n_estimators=100, model__random_state=0; accuracy: (train=0.656, test=0.652) recall: (train=0.343, test=0.343) roc_auc: (train=0.537, test=0.520) total time=   8.0s\n",
            "[CV 3/4] END model__max_depth=6, model__n_estimators=100, model__random_state=0; accuracy: (train=0.664, test=0.659) recall: (train=0.335, test=0.333) roc_auc: (train=0.538, test=0.529) total time=   7.1s\n",
            "[CV 4/4] END model__max_depth=6, model__n_estimators=100, model__random_state=0; accuracy: (train=0.651, test=0.650) recall: (train=0.352, test=0.337) roc_auc: (train=0.537, test=0.525) total time=   6.8s\n",
            "[CV 1/4] END model__max_depth=6, model__n_estimators=500, model__random_state=0; accuracy: (train=0.657, test=0.660) recall: (train=0.344, test=0.343) roc_auc: (train=0.536, test=0.536) total time=  28.8s\n",
            "[CV 2/4] END model__max_depth=6, model__n_estimators=500, model__random_state=0; accuracy: (train=0.660, test=0.654) recall: (train=0.341, test=0.329) roc_auc: (train=0.538, test=0.520) total time=  28.8s\n",
            "[CV 3/4] END model__max_depth=6, model__n_estimators=500, model__random_state=0; accuracy: (train=0.658, test=0.654) recall: (train=0.340, test=0.339) roc_auc: (train=0.537, test=0.527) total time=  29.9s\n",
            "[CV 4/4] END model__max_depth=6, model__n_estimators=500, model__random_state=0; accuracy: (train=0.648, test=0.649) recall: (train=0.355, test=0.341) roc_auc: (train=0.537, test=0.527) total time=  28.9s\n",
            "[CV 1/4] END model__max_depth=8, model__n_estimators=100, model__random_state=0; accuracy: (train=0.669, test=0.672) recall: (train=0.355, test=0.341) roc_auc: (train=0.558, test=0.543) total time=   8.4s\n",
            "[CV 2/4] END model__max_depth=8, model__n_estimators=100, model__random_state=0; accuracy: (train=0.677, test=0.668) recall: (train=0.335, test=0.316) roc_auc: (train=0.557, test=0.526) total time=   8.6s\n",
            "[CV 3/4] END model__max_depth=8, model__n_estimators=100, model__random_state=0; accuracy: (train=0.676, test=0.671) recall: (train=0.337, test=0.328) roc_auc: (train=0.559, test=0.535) total time=   8.5s\n",
            "[CV 4/4] END model__max_depth=8, model__n_estimators=100, model__random_state=0; accuracy: (train=0.661, test=0.658) recall: (train=0.359, test=0.341) roc_auc: (train=0.558, test=0.534) total time=   8.6s\n",
            "[CV 1/4] END model__max_depth=8, model__n_estimators=500, model__random_state=0; accuracy: (train=0.668, test=0.671) recall: (train=0.350, test=0.336) roc_auc: (train=0.556, test=0.541) total time=  37.3s\n",
            "[CV 2/4] END model__max_depth=8, model__n_estimators=500, model__random_state=0; accuracy: (train=0.677, test=0.670) recall: (train=0.335, test=0.319) roc_auc: (train=0.558, test=0.525) total time=  36.6s\n",
            "[CV 3/4] END model__max_depth=8, model__n_estimators=500, model__random_state=0; accuracy: (train=0.671, test=0.666) recall: (train=0.345, test=0.334) roc_auc: (train=0.558, test=0.534) total time=  36.9s\n",
            "[CV 4/4] END model__max_depth=8, model__n_estimators=500, model__random_state=0; accuracy: (train=0.658, test=0.655) recall: (train=0.365, test=0.338) roc_auc: (train=0.557, test=0.533) total time=  37.3s\n",
            "[CV 1/4] END model__max_depth=10, model__n_estimators=100, model__random_state=0; accuracy: (train=0.680, test=0.677) recall: (train=0.363, test=0.327) roc_auc: (train=0.589, test=0.545) total time=   9.6s\n",
            "[CV 2/4] END model__max_depth=10, model__n_estimators=100, model__random_state=0; accuracy: (train=0.686, test=0.673) recall: (train=0.354, test=0.312) roc_auc: (train=0.591, test=0.530) total time=  10.0s\n",
            "[CV 3/4] END model__max_depth=10, model__n_estimators=100, model__random_state=0; accuracy: (train=0.677, test=0.666) recall: (train=0.365, test=0.336) roc_auc: (train=0.589, test=0.538) total time=   9.9s\n",
            "[CV 4/4] END model__max_depth=10, model__n_estimators=100, model__random_state=0; accuracy: (train=0.668, test=0.658) recall: (train=0.384, test=0.338) roc_auc: (train=0.590, test=0.538) total time=   9.6s\n",
            "[CV 1/4] END model__max_depth=10, model__n_estimators=500, model__random_state=0; accuracy: (train=0.678, test=0.675) recall: (train=0.364, test=0.329) roc_auc: (train=0.589, test=0.546) total time=  46.1s\n",
            "[CV 2/4] END model__max_depth=10, model__n_estimators=500, model__random_state=0; accuracy: (train=0.686, test=0.675) recall: (train=0.357, test=0.315) roc_auc: (train=0.591, test=0.531) total time=  44.5s\n",
            "[CV 3/4] END model__max_depth=10, model__n_estimators=500, model__random_state=0; accuracy: (train=0.681, test=0.670) recall: (train=0.361, test=0.330) roc_auc: (train=0.590, test=0.538) total time=  43.2s\n",
            "[CV 4/4] END model__max_depth=10, model__n_estimators=500, model__random_state=0; accuracy: (train=0.671, test=0.663) recall: (train=0.374, test=0.331) roc_auc: (train=0.589, test=0.537) total time=  43.6s\n",
            "[CV 1/4] END model__max_depth=12, model__n_estimators=100, model__random_state=0; accuracy: (train=0.694, test=0.683) recall: (train=0.401, test=0.328) roc_auc: (train=0.639, test=0.551) total time=  10.9s\n",
            "[CV 2/4] END model__max_depth=12, model__n_estimators=100, model__random_state=0; accuracy: (train=0.702, test=0.684) recall: (train=0.391, test=0.303) roc_auc: (train=0.641, test=0.535) total time=  11.3s\n",
            "[CV 3/4] END model__max_depth=12, model__n_estimators=100, model__random_state=0; accuracy: (train=0.696, test=0.674) recall: (train=0.407, test=0.322) roc_auc: (train=0.643, test=0.543) total time=  11.4s\n",
            "[CV 4/4] END model__max_depth=12, model__n_estimators=100, model__random_state=0; accuracy: (train=0.693, test=0.677) recall: (train=0.400, test=0.313) roc_auc: (train=0.639, test=0.542) total time=  10.8s\n",
            "[CV 1/4] END model__max_depth=12, model__n_estimators=500, model__random_state=0; accuracy: (train=0.694, test=0.683) recall: (train=0.403, test=0.323) roc_auc: (train=0.640, test=0.551) total time=  51.3s\n",
            "[CV 2/4] END model__max_depth=12, model__n_estimators=500, model__random_state=0; accuracy: (train=0.699, test=0.681) recall: (train=0.394, test=0.309) roc_auc: (train=0.641, test=0.535) total time=  50.7s\n",
            "[CV 3/4] END model__max_depth=12, model__n_estimators=500, model__random_state=0; accuracy: (train=0.694, test=0.675) recall: (train=0.399, test=0.326) roc_auc: (train=0.642, test=0.543) total time=  52.4s\n",
            "[CV 4/4] END model__max_depth=12, model__n_estimators=500, model__random_state=0; accuracy: (train=0.693, test=0.677) recall: (train=0.404, test=0.313) roc_auc: (train=0.640, test=0.543) total time=  51.0s\n"
          ]
        }
      ]
    },
    {
      "cell_type": "markdown",
      "source": [
        "Neural Network Pipeline"
      ],
      "metadata": {
        "id": "KQR6PRApwVJY"
      }
    },
    {
      "cell_type": "code",
      "source": [
        "from sklearn.neural_network import MLPClassifier\n",
        "\n",
        "pipe = Pipeline([\n",
        "        ('sampling', SMOTE(random_state=random_state)),\n",
        "        ('model', MLPClassifier(random_state=random_state))\n",
        "    ])\n",
        "\n",
        "pipe.get_params().keys()"
      ],
      "metadata": {
        "colab": {
          "base_uri": "https://localhost:8080/"
        },
        "id": "IhWYGjdyq_H6",
        "outputId": "5404790e-51d6-480a-bd92-98120fce9583"
      },
      "execution_count": null,
      "outputs": [
        {
          "output_type": "execute_result",
          "data": {
            "text/plain": [
              "dict_keys(['memory', 'steps', 'verbose', 'sampling', 'model', 'sampling__k_neighbors', 'sampling__n_jobs', 'sampling__random_state', 'sampling__sampling_strategy', 'model__activation', 'model__alpha', 'model__batch_size', 'model__beta_1', 'model__beta_2', 'model__early_stopping', 'model__epsilon', 'model__hidden_layer_sizes', 'model__learning_rate', 'model__learning_rate_init', 'model__max_fun', 'model__max_iter', 'model__momentum', 'model__n_iter_no_change', 'model__nesterovs_momentum', 'model__power_t', 'model__random_state', 'model__shuffle', 'model__solver', 'model__tol', 'model__validation_fraction', 'model__verbose', 'model__warm_start'])"
            ]
          },
          "metadata": {},
          "execution_count": 113
        }
      ]
    },
    {
      "cell_type": "code",
      "source": [
        "param_grid={\n",
        "'model__learning_rate': [\"constant\"],\n",
        "'model__hidden_layer_sizes': [(30, 10), (20, 20, 20), (20, 20, 15)],\n",
        "'model__alpha': [.015], #between .01 and .5 is best. .1 seemed best after trying .01 to 1, started getting worse at .5 \n",
        "'model__activation': [\"relu\"]\n",
        "}\n",
        "\n",
        "# Recall = TP/TP+FN -> Of the ones that are positive, how many did we indicate as positive\n",
        "# AUROC = area under curve TPR (TP/TP+FN) vs. FPR (FP/TN+FP) at various thresholds\n",
        "scoring = ['balanced_accuracy', 'accuracy', 'roc_auc', 'recall', 'precision']\n",
        "clf = GridSearchCV(pipe, param_grid, cv=3, verbose=5, scoring=scoring, refit='roc_auc', return_train_score=True)"
      ],
      "metadata": {
        "id": "o0rltGG6wnt9"
      },
      "execution_count": null,
      "outputs": []
    },
    {
      "cell_type": "code",
      "source": [
        "best_model = clf.fit(Xtr, Ytr)"
      ],
      "metadata": {
        "colab": {
          "base_uri": "https://localhost:8080/"
        },
        "id": "xLBIg7q-w3dv",
        "outputId": "ae6b1da5-4fc5-4744-d93a-8e167a00f5a5"
      },
      "execution_count": null,
      "outputs": [
        {
          "output_type": "stream",
          "name": "stdout",
          "text": [
            "Fitting 3 folds for each of 3 candidates, totalling 9 fits\n"
          ]
        },
        {
          "output_type": "stream",
          "name": "stderr",
          "text": [
            "/usr/local/lib/python3.7/dist-packages/sklearn/neural_network/_multilayer_perceptron.py:696: ConvergenceWarning: Stochastic Optimizer: Maximum iterations (200) reached and the optimization hasn't converged yet.\n",
            "  ConvergenceWarning,\n"
          ]
        },
        {
          "output_type": "stream",
          "name": "stdout",
          "text": [
            "[CV 1/3] END model__activation=relu, model__alpha=0.015, model__hidden_layer_sizes=(30, 10), model__learning_rate=constant; accuracy: (train=0.702, test=0.695) balanced_accuracy: (train=0.560, test=0.535) precision: (train=0.155, test=0.137) recall: (train=0.377, test=0.328) roc_auc: (train=0.603, test=0.568) total time= 2.1min\n",
            "[CV 2/3] END model__activation=relu, model__alpha=0.015, model__hidden_layer_sizes=(30, 10), model__learning_rate=constant; accuracy: (train=0.722, test=0.713) balanced_accuracy: (train=0.551, test=0.539) precision: (train=0.153, test=0.143) recall: (train=0.330, test=0.315) roc_auc: (train=0.597, test=0.568) total time= 1.3min\n",
            "[CV 3/3] END model__activation=relu, model__alpha=0.015, model__hidden_layer_sizes=(30, 10), model__learning_rate=constant; accuracy: (train=0.773, test=0.765) balanced_accuracy: (train=0.548, test=0.534) precision: (train=0.167, test=0.149) recall: (train=0.259, test=0.236) roc_auc: (train=0.597, test=0.567) total time= 1.7min\n",
            "[CV 1/3] END model__activation=relu, model__alpha=0.015, model__hidden_layer_sizes=(20, 20, 20), model__learning_rate=constant; accuracy: (train=0.762, test=0.755) balanced_accuracy: (train=0.553, test=0.533) precision: (train=0.167, test=0.146) recall: (train=0.285, test=0.247) roc_auc: (train=0.613, test=0.575) total time= 1.6min\n",
            "[CV 2/3] END model__activation=relu, model__alpha=0.015, model__hidden_layer_sizes=(20, 20, 20), model__learning_rate=constant; accuracy: (train=0.717, test=0.709) balanced_accuracy: (train=0.556, test=0.545) precision: (train=0.156, test=0.146) recall: (train=0.349, test=0.334) roc_auc: (train=0.611, test=0.569) total time= 2.0min\n",
            "[CV 3/3] END model__activation=relu, model__alpha=0.015, model__hidden_layer_sizes=(20, 20, 20), model__learning_rate=constant; accuracy: (train=0.748, test=0.734) balanced_accuracy: (train=0.570, test=0.541) precision: (train=0.176, test=0.149) recall: (train=0.341, test=0.294) roc_auc: (train=0.632, test=0.579) total time= 1.8min\n"
          ]
        },
        {
          "output_type": "stream",
          "name": "stderr",
          "text": [
            "/usr/local/lib/python3.7/dist-packages/sklearn/neural_network/_multilayer_perceptron.py:696: ConvergenceWarning: Stochastic Optimizer: Maximum iterations (200) reached and the optimization hasn't converged yet.\n",
            "  ConvergenceWarning,\n"
          ]
        },
        {
          "output_type": "stream",
          "name": "stdout",
          "text": [
            "[CV 1/3] END model__activation=relu, model__alpha=0.015, model__hidden_layer_sizes=(20, 20, 15), model__learning_rate=constant; accuracy: (train=0.805, test=0.798) balanced_accuracy: (train=0.550, test=0.529) precision: (train=0.186, test=0.156) recall: (train=0.222, test=0.184) roc_auc: (train=0.611, test=0.574) total time= 1.7min\n",
            "[CV 2/3] END model__activation=relu, model__alpha=0.015, model__hidden_layer_sizes=(20, 20, 15), model__learning_rate=constant; accuracy: (train=0.727, test=0.719) balanced_accuracy: (train=0.555, test=0.537) precision: (train=0.158, test=0.142) recall: (train=0.334, test=0.303) roc_auc: (train=0.605, test=0.571) total time= 1.2min\n",
            "[CV 3/3] END model__activation=relu, model__alpha=0.015, model__hidden_layer_sizes=(20, 20, 15), model__learning_rate=constant; accuracy: (train=0.709, test=0.696) balanced_accuracy: (train=0.562, test=0.538) precision: (train=0.158, test=0.140) recall: (train=0.374, test=0.336) roc_auc: (train=0.614, test=0.573) total time= 1.1min\n"
          ]
        }
      ]
    },
    {
      "cell_type": "code",
      "source": [
        "best_model.best_estimator_"
      ],
      "metadata": {
        "colab": {
          "base_uri": "https://localhost:8080/"
        },
        "id": "-Yy-OPJSw7XA",
        "outputId": "89bf0bb8-82cf-467b-a8e3-9176f76cae64"
      },
      "execution_count": null,
      "outputs": [
        {
          "output_type": "execute_result",
          "data": {
            "text/plain": [
              "Pipeline(steps=[('sampling', SMOTE(random_state=0)),\n",
              "                ('model',\n",
              "                 MLPClassifier(alpha=0.015, hidden_layer_sizes=(20, 20, 20),\n",
              "                               random_state=0))])"
            ]
          },
          "metadata": {},
          "execution_count": 116
        }
      ]
    },
    {
      "cell_type": "code",
      "source": [
        "best_model.cv_results_\n"
      ],
      "metadata": {
        "colab": {
          "base_uri": "https://localhost:8080/"
        },
        "id": "060JcWSK1IEl",
        "outputId": "0c700078-b4b5-4843-ba09-66971ae05d4f"
      },
      "execution_count": null,
      "outputs": [
        {
          "output_type": "execute_result",
          "data": {
            "text/plain": [
              "{'mean_fit_time': array([100.88405395, 106.22458013,  79.65073125]),\n",
              " 'mean_score_time': array([0.22014546, 0.23558839, 0.18653576]),\n",
              " 'mean_test_accuracy': array([0.72441445, 0.73245931, 0.7375441 ]),\n",
              " 'mean_test_balanced_accuracy': array([0.53589863, 0.53965414, 0.53489925]),\n",
              " 'mean_test_precision': array([0.14320152, 0.1469453 , 0.145894  ]),\n",
              " 'mean_test_recall': array([0.29332011, 0.29155644, 0.27414021]),\n",
              " 'mean_test_roc_auc': array([0.56781064, 0.57450034, 0.57256745]),\n",
              " 'mean_train_accuracy': array([0.73243484, 0.74216958, 0.74669003]),\n",
              " 'mean_train_balanced_accuracy': array([0.55289617, 0.55967549, 0.55583233]),\n",
              " 'mean_train_precision': array([0.15835954, 0.16600473, 0.16723705]),\n",
              " 'mean_train_recall': array([0.32186949, 0.32484568, 0.3102403 ]),\n",
              " 'mean_train_roc_auc': array([0.5990869 , 0.61866016, 0.61016456]),\n",
              " 'param_model__activation': masked_array(data=['relu', 'relu', 'relu'],\n",
              "              mask=[False, False, False],\n",
              "        fill_value='?',\n",
              "             dtype=object),\n",
              " 'param_model__alpha': masked_array(data=[0.015, 0.015, 0.015],\n",
              "              mask=[False, False, False],\n",
              "        fill_value='?',\n",
              "             dtype=object),\n",
              " 'param_model__hidden_layer_sizes': masked_array(data=[(30, 10), (20, 20, 20), (20, 20, 15)],\n",
              "              mask=[False, False, False],\n",
              "        fill_value='?',\n",
              "             dtype=object),\n",
              " 'param_model__learning_rate': masked_array(data=['constant', 'constant', 'constant'],\n",
              "              mask=[False, False, False],\n",
              "        fill_value='?',\n",
              "             dtype=object),\n",
              " 'params': [{'model__activation': 'relu',\n",
              "   'model__alpha': 0.015,\n",
              "   'model__hidden_layer_sizes': (30, 10),\n",
              "   'model__learning_rate': 'constant'},\n",
              "  {'model__activation': 'relu',\n",
              "   'model__alpha': 0.015,\n",
              "   'model__hidden_layer_sizes': (20, 20, 20),\n",
              "   'model__learning_rate': 'constant'},\n",
              "  {'model__activation': 'relu',\n",
              "   'model__alpha': 0.015,\n",
              "   'model__hidden_layer_sizes': (20, 20, 15),\n",
              "   'model__learning_rate': 'constant'}],\n",
              " 'rank_test_accuracy': array([3, 2, 1], dtype=int32),\n",
              " 'rank_test_balanced_accuracy': array([2, 1, 3], dtype=int32),\n",
              " 'rank_test_precision': array([3, 1, 2], dtype=int32),\n",
              " 'rank_test_recall': array([1, 2, 3], dtype=int32),\n",
              " 'rank_test_roc_auc': array([3, 1, 2], dtype=int32),\n",
              " 'split0_test_accuracy': array([0.69507701, 0.75517724, 0.79766379]),\n",
              " 'split0_test_balanced_accuracy': array([0.53471815, 0.53296285, 0.5293944 ]),\n",
              " 'split0_test_precision': array([0.13721155, 0.14606961, 0.15554314]),\n",
              " 'split0_test_recall': array([0.32837302, 0.24702381, 0.18419312]),\n",
              " 'split0_test_roc_auc': array([0.56845268, 0.57523677, 0.5735199 ]),\n",
              " 'split0_train_accuracy': array([0.70217784, 0.76181966, 0.8047684 ]),\n",
              " 'split0_train_balanced_accuracy': array([0.55989987, 0.55318722, 0.55009603]),\n",
              " 'split0_train_precision': array([0.15530871, 0.16681197, 0.18582481]),\n",
              " 'split0_train_recall': array([0.37681878, 0.28472222, 0.22238757]),\n",
              " 'split0_train_roc_auc': array([0.60333335, 0.61314869, 0.61073259]),\n",
              " 'split1_test_accuracy': array([0.71323286, 0.7087003 , 0.71894461]),\n",
              " 'split1_test_balanced_accuracy': array([0.53929576, 0.54469872, 0.53687007]),\n",
              " 'split1_test_precision': array([0.14311431, 0.14625308, 0.14223535]),\n",
              " 'split1_test_recall': array([0.31547619, 0.33366402, 0.30257937]),\n",
              " 'split1_test_roc_auc': array([0.5682025 , 0.56906316, 0.57097455]),\n",
              " 'split1_train_accuracy': array([0.72180562, 0.71651773, 0.72668816]),\n",
              " 'split1_train_balanced_accuracy': array([0.55055425, 0.55582143, 0.55518159]),\n",
              " 'split1_train_precision': array([0.15308547, 0.15567847, 0.15765274]),\n",
              " 'split1_train_recall': array([0.3301918 , 0.34904101, 0.33449074]),\n",
              " 'split1_train_roc_auc': array([0.59699344, 0.61054571, 0.60540813]),\n",
              " 'split2_test_accuracy': array([0.76493349, 0.73350039, 0.69602388]),\n",
              " 'split2_test_balanced_accuracy': array([0.53368198, 0.54130086, 0.53843329]),\n",
              " 'split2_test_precision': array([0.1492787 , 0.1485132 , 0.13990351]),\n",
              " 'split2_test_recall': array([0.23611111, 0.29398148, 0.33564815]),\n",
              " 'split2_test_roc_auc': array([0.56677675, 0.5792011 , 0.57320791]),\n",
              " 'split2_train_accuracy': array([0.77332105, 0.74817135, 0.70861354]),\n",
              " 'split2_train_balanced_accuracy': array([0.54823439, 0.57001782, 0.56221937]),\n",
              " 'split2_train_precision': array([0.16668443, 0.17552376, 0.15823361]),\n",
              " 'split2_train_recall': array([0.25859788, 0.34077381, 0.37384259]),\n",
              " 'split2_train_roc_auc': array([0.5969339 , 0.63228607, 0.61435295]),\n",
              " 'std_fit_time': array([19.78915451, 11.03940766, 17.10876998]),\n",
              " 'std_score_time': array([0.02890901, 0.02581148, 0.00567861]),\n",
              " 'std_test_accuracy': array([0.02959451, 0.01898841, 0.04352871]),\n",
              " 'std_test_balanced_accuracy': array([0.0024391 , 0.00493062, 0.00394449]),\n",
              " 'std_test_precision': array([0.00492678, 0.0011112 , 0.00688906]),\n",
              " 'std_test_recall': array([0.04079407, 0.03541226, 0.0650192 ]),\n",
              " 'std_test_roc_auc': array([0.00073817, 0.00417143, 0.00113353]),\n",
              " 'std_train_accuracy': array([0.03000083, 0.01897511, 0.04172525]),\n",
              " 'std_train_balanced_accuracy': array([0.00504211, 0.00739178, 0.00497067]),\n",
              " 'std_train_precision': array([0.00595615, 0.00812189, 0.01314567]),\n",
              " 'std_train_recall': array([0.04862092, 0.02857161, 0.06416499]),\n",
              " 'std_train_roc_auc': array([0.0030028 , 0.0096934 , 0.00367373])}"
            ]
          },
          "metadata": {},
          "execution_count": 117
        }
      ]
    },
    {
      "cell_type": "code",
      "source": [
        ""
      ],
      "metadata": {
        "id": "BcEH6Y7e2MbW"
      },
      "execution_count": null,
      "outputs": []
    }
  ],
  "metadata": {
    "colab": {
      "collapsed_sections": [],
      "name": "DProjectpart1.ipynb",
      "provenance": []
    },
    "kernelspec": {
      "display_name": "Python 3",
      "name": "python3"
    },
    "language_info": {
      "name": "python"
    }
  },
  "nbformat": 4,
  "nbformat_minor": 0
}